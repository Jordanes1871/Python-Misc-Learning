{
 "cells": [
  {
   "cell_type": "markdown",
   "metadata": {},
   "source": [
    "![alt text](pandas.png \"Title\")"
   ]
  },
  {
   "cell_type": "markdown",
   "metadata": {},
   "source": [
    "## pandas V1.x"
   ]
  },
  {
   "cell_type": "markdown",
   "metadata": {},
   "source": [
    "[pandas](https://pandas.pydata.org/) is a fast, powerful, flexible and easy to use open source data analysis and manipulation tool, built on top of the Python programming language. The name is derived from 'panel data', an econometric term. It was first released in 2008 and has gained huge popularity since. In this training, we'll cover 2 pandas objects: the Series and the Dataframe.\n",
    "\n",
    "Since I wrote this training, Pandas has moved to Version 2. I recommend this video to explain what's new: https://www.youtube.com/watch?v=cSLPyRI_ZD8\n",
    "\n",
    "[Online documentation](https://pandas.pydata.org/docs/)"
   ]
  },
  {
   "cell_type": "code",
   "execution_count": 1,
   "metadata": {},
   "outputs": [
    {
     "data": {
      "text/plain": [
       "'1.5.3'"
      ]
     },
     "execution_count": 1,
     "metadata": {},
     "output_type": "execute_result"
    }
   ],
   "source": [
    "import pandas as pd # pd as a namespace is customary\n",
    "\n",
    "# we are using version 1.x\n",
    "pd.__version__\n",
    "\n",
    "# and that's great, the API are stable now!"
   ]
  },
  {
   "cell_type": "markdown",
   "metadata": {},
   "source": [
    "## Datacamp courses"
   ]
  },
  {
   "cell_type": "markdown",
   "metadata": {},
   "source": [
    "https://learn.datacamp.com/courses/pandas-foundations\n",
    "\n",
    "https://learn.datacamp.com/courses/data-manipulation-with-pandas\n",
    "\n",
    "https://learn.datacamp.com/courses/writing-efficient-code-with-pandas"
   ]
  },
  {
   "cell_type": "markdown",
   "metadata": {},
   "source": [
    "## Recommended reading"
   ]
  },
  {
   "cell_type": "markdown",
   "metadata": {},
   "source": [
    "* 'Python for Data Analysis' (2nd edition), Wes McKinney, [O'Reilly](http://shop.oreilly.com/product/0636920023784.do)\n",
    "* http://www.datasciencemadesimple.com/python-tutorial-for-data-science/\n",
    "* https://pbpython.com/archives.html"
   ]
  },
  {
   "cell_type": "markdown",
   "metadata": {},
   "source": [
    "__________________________________________________\n",
    "Nicolas Dupuis, Methodology and Innovation (IDAR C&SP), 2020+"
   ]
  }
 ],
 "metadata": {
  "kernelspec": {
   "display_name": "Python 3 (ipykernel)",
   "language": "python",
   "name": "python3"
  },
  "language_info": {
   "codemirror_mode": {
    "name": "ipython",
    "version": 3
   },
   "file_extension": ".py",
   "mimetype": "text/x-python",
   "name": "python",
   "nbconvert_exporter": "python",
   "pygments_lexer": "ipython3",
   "version": "3.9.12"
  }
 },
 "nbformat": 4,
 "nbformat_minor": 2
}
