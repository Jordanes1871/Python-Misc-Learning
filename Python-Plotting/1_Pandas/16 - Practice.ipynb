{
 "cells": [
  {
   "cell_type": "markdown",
   "id": "41a1bc2d",
   "metadata": {},
   "source": [
    "![alt text](pandas.png \"Title\")"
   ]
  },
  {
   "cell_type": "markdown",
   "id": "30763253",
   "metadata": {},
   "source": [
    "# Practice pandas"
   ]
  },
  {
   "cell_type": "markdown",
   "id": "0fedf62a",
   "metadata": {},
   "source": [
    "## Run these cells"
   ]
  },
  {
   "cell_type": "code",
   "execution_count": 36,
   "id": "2526ec9a",
   "metadata": {},
   "outputs": [],
   "source": [
    "import pandas as pd\n",
    "import numpy as np\n",
    "import random\n",
    "%matplotlib inline"
   ]
  },
  {
   "cell_type": "code",
   "execution_count": 37,
   "id": "207f0474",
   "metadata": {},
   "outputs": [
    {
     "data": {
      "text/html": [
       "<div>\n",
       "<style scoped>\n",
       "    .dataframe tbody tr th:only-of-type {\n",
       "        vertical-align: middle;\n",
       "    }\n",
       "\n",
       "    .dataframe tbody tr th {\n",
       "        vertical-align: top;\n",
       "    }\n",
       "\n",
       "    .dataframe thead th {\n",
       "        text-align: right;\n",
       "    }\n",
       "</style>\n",
       "<table border=\"1\" class=\"dataframe\">\n",
       "  <thead>\n",
       "    <tr style=\"text-align: right;\">\n",
       "      <th></th>\n",
       "      <th>subjid</th>\n",
       "      <th>sex</th>\n",
       "      <th>age</th>\n",
       "    </tr>\n",
       "  </thead>\n",
       "  <tbody>\n",
       "    <tr>\n",
       "      <th>0</th>\n",
       "      <td>10000</td>\n",
       "      <td>M</td>\n",
       "      <td>55</td>\n",
       "    </tr>\n",
       "    <tr>\n",
       "      <th>1</th>\n",
       "      <td>10001</td>\n",
       "      <td>M</td>\n",
       "      <td>21</td>\n",
       "    </tr>\n",
       "    <tr>\n",
       "      <th>2</th>\n",
       "      <td>10002</td>\n",
       "      <td>M</td>\n",
       "      <td>&lt;NA&gt;</td>\n",
       "    </tr>\n",
       "    <tr>\n",
       "      <th>3</th>\n",
       "      <td>10003</td>\n",
       "      <td>F</td>\n",
       "      <td>50</td>\n",
       "    </tr>\n",
       "    <tr>\n",
       "      <th>4</th>\n",
       "      <td>10004</td>\n",
       "      <td>M</td>\n",
       "      <td>39</td>\n",
       "    </tr>\n",
       "    <tr>\n",
       "      <th>...</th>\n",
       "      <td>...</td>\n",
       "      <td>...</td>\n",
       "      <td>...</td>\n",
       "    </tr>\n",
       "    <tr>\n",
       "      <th>195</th>\n",
       "      <td>10195</td>\n",
       "      <td>M</td>\n",
       "      <td>48</td>\n",
       "    </tr>\n",
       "    <tr>\n",
       "      <th>196</th>\n",
       "      <td>10196</td>\n",
       "      <td>F</td>\n",
       "      <td>62</td>\n",
       "    </tr>\n",
       "    <tr>\n",
       "      <th>197</th>\n",
       "      <td>10197</td>\n",
       "      <td>M</td>\n",
       "      <td>47</td>\n",
       "    </tr>\n",
       "    <tr>\n",
       "      <th>198</th>\n",
       "      <td>10198</td>\n",
       "      <td>NaN</td>\n",
       "      <td>&lt;NA&gt;</td>\n",
       "    </tr>\n",
       "    <tr>\n",
       "      <th>199</th>\n",
       "      <td>10199</td>\n",
       "      <td>M</td>\n",
       "      <td>28</td>\n",
       "    </tr>\n",
       "  </tbody>\n",
       "</table>\n",
       "<p>200 rows × 3 columns</p>\n",
       "</div>"
      ],
      "text/plain": [
       "     subjid  sex   age\n",
       "0     10000    M    55\n",
       "1     10001    M    21\n",
       "2     10002    M  <NA>\n",
       "3     10003    F    50\n",
       "4     10004    M    39\n",
       "..      ...  ...   ...\n",
       "195   10195    M    48\n",
       "196   10196    F    62\n",
       "197   10197    M    47\n",
       "198   10198  NaN  <NA>\n",
       "199   10199    M    28\n",
       "\n",
       "[200 rows x 3 columns]"
      ]
     },
     "execution_count": 37,
     "metadata": {},
     "output_type": "execute_result"
    }
   ],
   "source": [
    "data = {\n",
    "    'subjid': range(10000, 10000 + n_subjects),\n",
    "    'sex'   : random.choices(['F', 'M'], k=n_subjects),\n",
    "    'age'   : pd.Series(random.choices(range(18, 65), k=n_subjects), dtype=pd.Int64Dtype())\n",
    "}\n",
    "\n",
    "dm = pd.DataFrame(data)\n",
    "dm.loc[2,   'age'] = np.nan\n",
    "dm.loc[198, 'age'] = np.nan\n",
    "dm.loc[198, 'sex'] = np.nan\n",
    "dm.loc[57,  'sex'] = np.nan\n",
    "dm"
   ]
  },
  {
   "cell_type": "code",
   "execution_count": 47,
   "id": "b734f0df",
   "metadata": {},
   "outputs": [
    {
     "data": {
      "text/html": [
       "<div>\n",
       "<style scoped>\n",
       "    .dataframe tbody tr th:only-of-type {\n",
       "        vertical-align: middle;\n",
       "    }\n",
       "\n",
       "    .dataframe tbody tr th {\n",
       "        vertical-align: top;\n",
       "    }\n",
       "\n",
       "    .dataframe thead th {\n",
       "        text-align: right;\n",
       "    }\n",
       "</style>\n",
       "<table border=\"1\" class=\"dataframe\">\n",
       "  <thead>\n",
       "    <tr style=\"text-align: right;\">\n",
       "      <th></th>\n",
       "      <th>subjid</th>\n",
       "      <th>visit</th>\n",
       "      <th>param</th>\n",
       "      <th>result</th>\n",
       "    </tr>\n",
       "  </thead>\n",
       "  <tbody>\n",
       "    <tr>\n",
       "      <th>0</th>\n",
       "      <td>10000</td>\n",
       "      <td>1</td>\n",
       "      <td>heart rate</td>\n",
       "      <td>70.0</td>\n",
       "    </tr>\n",
       "    <tr>\n",
       "      <th>1</th>\n",
       "      <td>10000</td>\n",
       "      <td>2</td>\n",
       "      <td>heart rate</td>\n",
       "      <td>83.0</td>\n",
       "    </tr>\n",
       "    <tr>\n",
       "      <th>2</th>\n",
       "      <td>10000</td>\n",
       "      <td>3</td>\n",
       "      <td>heart rate</td>\n",
       "      <td>NaN</td>\n",
       "    </tr>\n",
       "    <tr>\n",
       "      <th>3</th>\n",
       "      <td>10001</td>\n",
       "      <td>1</td>\n",
       "      <td>heart rate</td>\n",
       "      <td>76.0</td>\n",
       "    </tr>\n",
       "    <tr>\n",
       "      <th>4</th>\n",
       "      <td>10001</td>\n",
       "      <td>2</td>\n",
       "      <td>heart rate</td>\n",
       "      <td>99.0</td>\n",
       "    </tr>\n",
       "    <tr>\n",
       "      <th>...</th>\n",
       "      <td>...</td>\n",
       "      <td>...</td>\n",
       "      <td>...</td>\n",
       "      <td>...</td>\n",
       "    </tr>\n",
       "    <tr>\n",
       "      <th>1195</th>\n",
       "      <td>10198</td>\n",
       "      <td>2</td>\n",
       "      <td>systolic blood pressure</td>\n",
       "      <td>169.0</td>\n",
       "    </tr>\n",
       "    <tr>\n",
       "      <th>1196</th>\n",
       "      <td>10198</td>\n",
       "      <td>3</td>\n",
       "      <td>systolic blood pressure</td>\n",
       "      <td>109.0</td>\n",
       "    </tr>\n",
       "    <tr>\n",
       "      <th>1197</th>\n",
       "      <td>10199</td>\n",
       "      <td>1</td>\n",
       "      <td>systolic blood pressure</td>\n",
       "      <td>133.0</td>\n",
       "    </tr>\n",
       "    <tr>\n",
       "      <th>1198</th>\n",
       "      <td>10199</td>\n",
       "      <td>2</td>\n",
       "      <td>systolic blood pressure</td>\n",
       "      <td>137.0</td>\n",
       "    </tr>\n",
       "    <tr>\n",
       "      <th>1199</th>\n",
       "      <td>10199</td>\n",
       "      <td>3</td>\n",
       "      <td>systolic blood pressure</td>\n",
       "      <td>NaN</td>\n",
       "    </tr>\n",
       "  </tbody>\n",
       "</table>\n",
       "<p>1200 rows × 4 columns</p>\n",
       "</div>"
      ],
      "text/plain": [
       "      subjid  visit                    param  result\n",
       "0      10000      1               heart rate    70.0\n",
       "1      10000      2               heart rate    83.0\n",
       "2      10000      3               heart rate     NaN\n",
       "3      10001      1               heart rate    76.0\n",
       "4      10001      2               heart rate    99.0\n",
       "...      ...    ...                      ...     ...\n",
       "1195   10198      2  systolic blood pressure   169.0\n",
       "1196   10198      3  systolic blood pressure   109.0\n",
       "1197   10199      1  systolic blood pressure   133.0\n",
       "1198   10199      2  systolic blood pressure   137.0\n",
       "1199   10199      3  systolic blood pressure     NaN\n",
       "\n",
       "[1200 rows x 4 columns]"
      ]
     },
     "execution_count": 47,
     "metadata": {},
     "output_type": "execute_result"
    }
   ],
   "source": [
    "patients = list( range(10000, 10000 + n_subjects))\n",
    "visits = [1, 2, 3]\n",
    "param = ['heart rate', 'systolic blood pressure']\n",
    "\n",
    "data = {\n",
    "    'subjid': sorted(patients * len(visits)) * len(param),\n",
    "    'visit' : visits * len(param) * len(patients),\n",
    "    'param' : sorted(param * len(visits) * len(patients)),\n",
    "    'result': [random.randint(50, 150)  for n in range(len(visits) * len(patients))] +\n",
    "              [random.randint(100, 180) for n in range(len(visits) * len(patients))] \n",
    "}\n",
    "\n",
    "vs = pd.DataFrame(data, columns=['subjid', 'visit', 'param', 'result'])\n",
    "vs = vs.reset_index().drop(['index'], axis=1)\n",
    "\n",
    "vs.loc[2, 'result'] = np.nan\n",
    "vs.loc[1199, 'result'] = np.nan\n",
    "vs"
   ]
  },
  {
   "cell_type": "markdown",
   "id": "fdd1b34a",
   "metadata": {},
   "source": [
    "## Exercise 1"
   ]
  },
  {
   "cell_type": "code",
   "execution_count": null,
   "id": "254441c5",
   "metadata": {},
   "outputs": [],
   "source": [
    "# What's the shape of the dm dataframe? What's its memory size?\n",
    "\n",
    "# INSERT YOUR SOLUTION "
   ]
  },
  {
   "cell_type": "code",
   "execution_count": null,
   "id": "7b287eed",
   "metadata": {},
   "outputs": [],
   "source": [
    "# Create a study_id column in both dm & vs dataframes. Give any value you want\n",
    "\n",
    "# INSERT YOUR SOLUTION "
   ]
  },
  {
   "cell_type": "code",
   "execution_count": null,
   "id": "f5bff10c",
   "metadata": {},
   "outputs": [],
   "source": [
    "# Add a column in dm named'A-S'. It gets the concatenation of age and sex, with a dash as delimiter.\n",
    "# Sex valid values in this variable are MALE or FEMALE\n",
    "\n",
    "# INSERT YOUR SOLUTION"
   ]
  },
  {
   "cell_type": "code",
   "execution_count": null,
   "id": "f8410e35",
   "metadata": {},
   "outputs": [],
   "source": [
    "# Add a 'Year of birth' column in dm, using age and today's date as reference\n",
    "\n",
    "# INSERT YOUR SOLUTION"
   ]
  },
  {
   "cell_type": "code",
   "execution_count": null,
   "id": "3f7fd4a6",
   "metadata": {},
   "outputs": [],
   "source": [
    "# Which subjects were born on a leap year?\n",
    "\n",
    "# INSERT YOUR SOLUTION"
   ]
  },
  {
   "cell_type": "code",
   "execution_count": null,
   "id": "1bae46c4",
   "metadata": {},
   "outputs": [],
   "source": [
    "# Infer a 'DOB' column using Jan 1st and midnight for birth date. Series type should be a datetime.\n",
    "\n",
    "# INSERT YOUR SOLUTION"
   ]
  },
  {
   "cell_type": "code",
   "execution_count": null,
   "id": "f27dbb3d",
   "metadata": {},
   "outputs": [],
   "source": [
    "# Label the row index in dm using the concatenation of dm.study_id and dm.subjid\n",
    "\n",
    "# INSERT YOUR SOLUTION "
   ]
  },
  {
   "cell_type": "code",
   "execution_count": null,
   "id": "5abc28ff",
   "metadata": {},
   "outputs": [],
   "source": [
    "# Retain the following column order in dm: study_id, subjid, age, sex\n",
    "\n",
    "# INSERT YOUR SOLUTION"
   ]
  },
  {
   "cell_type": "markdown",
   "id": "45d27f7a",
   "metadata": {},
   "source": [
    "## Exercice 2"
   ]
  },
  {
   "cell_type": "code",
   "execution_count": null,
   "id": "0268dde8",
   "metadata": {},
   "outputs": [],
   "source": [
    "# Filter dm to show only records with at least one missing value\n",
    "\n",
    "# INSERT YOUR SOLUTION"
   ]
  },
  {
   "cell_type": "code",
   "execution_count": null,
   "id": "83660662",
   "metadata": {},
   "outputs": [],
   "source": [
    "# Display dm.age Series with only missing values\n",
    "\n",
    "# INSERT YOUR SOLUTION"
   ]
  },
  {
   "cell_type": "code",
   "execution_count": null,
   "id": "f2a1a183",
   "metadata": {},
   "outputs": [],
   "source": [
    "# Create a dictionary with 2 keys\n",
    "#  'missing_age'      : the value will be a tuple of subjid with missing age in dm \n",
    "#  'missing_sex'      : the value will be a tuple of subjid with missing sex in dm\n",
    "#  'missing_some_data': the value will be an iterable object of unique subjid with a missing value in either age or sex in dm\n",
    "#  'missing_all_data' : the value will be an iterable object of unique subjid with a missing value in either age and sex in dm\n",
    "#  'no_missing'       : the value will be an integer: the number of subjects with no missing values for age and sex in dm\n",
    "\n",
    "# INSERT YOUR SOLUTION"
   ]
  },
  {
   "cell_type": "code",
   "execution_count": null,
   "id": "8f6f2ffa",
   "metadata": {},
   "outputs": [],
   "source": [
    "# What's the type for Series age? And why?\n",
    "\n",
    "# INSERT YOUR SOLUTION"
   ]
  },
  {
   "cell_type": "code",
   "execution_count": null,
   "id": "69ba07cf",
   "metadata": {},
   "outputs": [],
   "source": [
    "# in vs, apply a LOCF to 'result'\n",
    "# i.e. when result is missing, carry forward the value from the previous visit (by subject and param)\n",
    "\n",
    "# INSERT YOUR SOLUTION"
   ]
  },
  {
   "cell_type": "markdown",
   "id": "08013746",
   "metadata": {},
   "source": [
    "## Exercise 3"
   ]
  },
  {
   "cell_type": "code",
   "execution_count": null,
   "id": "258a9064",
   "metadata": {},
   "outputs": [],
   "source": [
    "# How many female subjects over 40 years old in dm?\n",
    "\n",
    "# INSERT AT LEAST 2 SOLUTIONS"
   ]
  },
  {
   "cell_type": "code",
   "execution_count": null,
   "id": "f32072f0",
   "metadata": {},
   "outputs": [],
   "source": [
    "# What's the average age by sex and race?\n",
    "\n",
    "# INSERT YOUR SOLUTION"
   ]
  },
  {
   "cell_type": "code",
   "execution_count": null,
   "id": "8074dce9",
   "metadata": {},
   "outputs": [],
   "source": [
    "# Build a list of subjid for the 5 oldest subject(s) in descending order\n",
    "\n",
    "# INSERT YOUR SOLUTION"
   ]
  },
  {
   "cell_type": "code",
   "execution_count": 39,
   "id": "66a99bb8",
   "metadata": {},
   "outputs": [],
   "source": [
    "# Optional: Create a plot showing age distribution by sex\n",
    "\n",
    "# INSERT YOUR SOLUTION"
   ]
  },
  {
   "cell_type": "code",
   "execution_count": null,
   "id": "9600dd2b",
   "metadata": {},
   "outputs": [],
   "source": [
    "# Add a variable in dm with this value: \n",
    "# \"I'm <...> year\", replacing the ... with the actual age\n",
    "\n",
    "# INSERT YOUR SOLUTION"
   ]
  },
  {
   "cell_type": "code",
   "execution_count": null,
   "id": "ca1e1104",
   "metadata": {},
   "outputs": [],
   "source": [
    "# Add a variable in dm with this value for all rows: 'hello@world@how's it going?\"\n",
    "# Split this variable by delimiter @ into as many variables in dm as needed\n",
    "\n",
    "# INSERT YOUR SOLUTION"
   ]
  },
  {
   "cell_type": "code",
   "execution_count": null,
   "id": "9c4716f8",
   "metadata": {},
   "outputs": [],
   "source": [
    "# Delete the variables created in this Exercise\n",
    "\n",
    "# INSERT AT LEAST 2 SOLUTIONS"
   ]
  },
  {
   "cell_type": "markdown",
   "id": "69d1397a",
   "metadata": {},
   "source": [
    "## Exercise 4"
   ]
  },
  {
   "cell_type": "code",
   "execution_count": 19,
   "id": "9a71685f",
   "metadata": {},
   "outputs": [],
   "source": [
    "# Build a dataframe dm_fixed for subjects 10100 to 10120.\n",
    "# Assign them a random age (different from dm, from 18 to 65) but make sure you use the same gender as in dm\n",
    "\n",
    "# INSERT YOUR SOLUTION "
   ]
  },
  {
   "cell_type": "code",
   "execution_count": null,
   "id": "23aaab81",
   "metadata": {},
   "outputs": [],
   "source": [
    "# Change the age values in dm using the values from dm_fixed\n",
    "\n",
    "# INSERT YOUR SOLUTION "
   ]
  },
  {
   "cell_type": "code",
   "execution_count": null,
   "id": "7903745a",
   "metadata": {},
   "outputs": [],
   "source": [
    "# Reset the row index in dm to use a default index (i.e. a range of integers)\n",
    "\n",
    "# INSERT YOUR SOLUTION "
   ]
  },
  {
   "cell_type": "markdown",
   "id": "0ecb8127",
   "metadata": {},
   "source": [
    "## Exercise 5"
   ]
  },
  {
   "cell_type": "code",
   "execution_count": null,
   "id": "8b42a90b",
   "metadata": {},
   "outputs": [],
   "source": [
    "# Add age and sex from dm to the vs dataframe, by subjid\n",
    "\n",
    "# INSERT YOUR SOLUTION "
   ]
  },
  {
   "cell_type": "code",
   "execution_count": null,
   "id": "418d899f",
   "metadata": {},
   "outputs": [],
   "source": [
    "# Display the highest heart rate across the visits by subject\n",
    "\n",
    "# INSERT YOUR SOLUTION "
   ]
  },
  {
   "cell_type": "code",
   "execution_count": null,
   "id": "0d49230f",
   "metadata": {},
   "outputs": [],
   "source": [
    "# Optional: plot the highest heart rate by age\n",
    "\n",
    "# INSERT YOUR SOLUTION "
   ]
  },
  {
   "cell_type": "markdown",
   "id": "b39736b3",
   "metadata": {},
   "source": [
    "## Exercice 6"
   ]
  },
  {
   "cell_type": "code",
   "execution_count": null,
   "id": "3c0c0ad2",
   "metadata": {},
   "outputs": [],
   "source": [
    "# In vs, drop age and sex variables\n",
    "# Instead, in vs, create a visit=0 with param='age' and param='sex' with values coming from dm\n",
    "\n",
    "# INSERT YOUR SOLUTION "
   ]
  },
  {
   "cell_type": "code",
   "execution_count": null,
   "id": "eb0fb8bb",
   "metadata": {},
   "outputs": [],
   "source": [
    "# Now remove these param=0 records\n",
    "\n",
    "# INSERT YOUR SOLUTION "
   ]
  },
  {
   "cell_type": "markdown",
   "id": "b4888e27",
   "metadata": {},
   "source": [
    "## Exercice 7"
   ]
  },
  {
   "cell_type": "code",
   "execution_count": null,
   "id": "0b367b66",
   "metadata": {},
   "outputs": [],
   "source": [
    "# The baseline for a parameter in vs is defined at visit 1.\n",
    "# Add a new variable in vs to display the change from baseline for all parameters\n",
    "\n",
    "# INSERT YOUR SOLUTION "
   ]
  },
  {
   "cell_type": "code",
   "execution_count": null,
   "id": "c1bf9662",
   "metadata": {},
   "outputs": [],
   "source": [
    "# Display the 5 absolute highest change from baseline for heart rate at visit 3\n",
    "\n",
    "# INSERT YOUR SOLUTION "
   ]
  },
  {
   "cell_type": "code",
   "execution_count": null,
   "id": "38e28fa4",
   "metadata": {},
   "outputs": [],
   "source": [
    "# Add a 'High change HR' flag (True/False) in dm\n",
    "# Set it to True if the subject had at least a 15% increase or more than a 5% decrease in change from baseline for heart rate.\n",
    "# Set to False otherwise\n",
    "\n",
    "# INSERT YOUR SOLUTION "
   ]
  },
  {
   "cell_type": "code",
   "execution_count": null,
   "id": "8c032a11",
   "metadata": {},
   "outputs": [],
   "source": [
    "# Add a 'review' flag in dm: \n",
    "# if 'High change HR' is True and age>60 (or age missing), set the flag to 'Review'.\n",
    "\n",
    "# INSERT YOUR SOLUTION "
   ]
  },
  {
   "cell_type": "markdown",
   "id": "124fe1b0",
   "metadata": {},
   "source": [
    "## Exercise 8"
   ]
  },
  {
   "cell_type": "code",
   "execution_count": null,
   "id": "7cbc650d",
   "metadata": {},
   "outputs": [],
   "source": [
    "# Save the dm and vs dataframes to your IDAR Shiny home. Save them as .xpt and .xlsx. \n",
    "\n",
    "# INSERT YOUR SOLUTION "
   ]
  },
  {
   "cell_type": "code",
   "execution_count": null,
   "id": "094fbb33",
   "metadata": {},
   "outputs": [],
   "source": [
    "# In a new Jupyter notebook, open dm.xpt and dm.xlsx\n",
    "# Are they equal?\n",
    "\n",
    "# INSERT YOUR SOLUTION IN A NEW NOTEBOOK"
   ]
  }
 ],
 "metadata": {
  "kernelspec": {
   "display_name": "Python 3 (ipykernel)",
   "language": "python",
   "name": "python3"
  },
  "language_info": {
   "codemirror_mode": {
    "name": "ipython",
    "version": 3
   },
   "file_extension": ".py",
   "mimetype": "text/x-python",
   "name": "python",
   "nbconvert_exporter": "python",
   "pygments_lexer": "ipython3",
   "version": "3.9.12"
  }
 },
 "nbformat": 4,
 "nbformat_minor": 5
}
