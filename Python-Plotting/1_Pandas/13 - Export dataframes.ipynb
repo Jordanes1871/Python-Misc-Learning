{
 "cells": [
  {
   "cell_type": "markdown",
   "metadata": {},
   "source": [
    "![alt text](pandas.png \"Title\")"
   ]
  },
  {
   "cell_type": "code",
   "execution_count": 2,
   "metadata": {},
   "outputs": [
    {
     "ename": "ModuleNotFoundError",
     "evalue": "No module named 'xport'",
     "output_type": "error",
     "traceback": [
      "\u001b[0;31m---------------------------------------------------------------------------\u001b[0m",
      "\u001b[0;31mModuleNotFoundError\u001b[0m                       Traceback (most recent call last)",
      "Cell \u001b[0;32mIn[2], line 5\u001b[0m\n\u001b[1;32m      2\u001b[0m \u001b[38;5;28;01mimport\u001b[39;00m \u001b[38;5;21;01mjson\u001b[39;00m\n\u001b[1;32m      4\u001b[0m \u001b[38;5;66;03m# SAS\u001b[39;00m\n\u001b[0;32m----> 5\u001b[0m \u001b[38;5;28;01mimport\u001b[39;00m \u001b[38;5;21;01mxport\u001b[39;00m\n\u001b[1;32m      6\u001b[0m \u001b[38;5;28;01mimport\u001b[39;00m \u001b[38;5;21;01mxport\u001b[39;00m\u001b[38;5;21;01m.\u001b[39;00m\u001b[38;5;21;01mv56\u001b[39;00m\n",
      "\u001b[0;31mModuleNotFoundError\u001b[0m: No module named 'xport'"
     ]
    }
   ],
   "source": [
    "import pandas as pd\n",
    "import json\n",
    "\n",
    "# SAS\n",
    "import xport\n",
    "import xport.v56"
   ]
  },
  {
   "cell_type": "markdown",
   "metadata": {},
   "source": [
    "As we saw, data manipulation in Python is usually achieved with Pandas, a popular library for Data Science and Analysis. The Pandas dataframe is the preferred object used by programmers to manipulate data. These dataframes cannot be stored as persistent files as such, therefore programmers must choose the data storage format. \n",
    "\n",
    "There are many options."
   ]
  },
  {
   "cell_type": "markdown",
   "metadata": {},
   "source": [
    "# Export dataframes"
   ]
  },
  {
   "cell_type": "markdown",
   "metadata": {},
   "source": [
    "## Test data"
   ]
  },
  {
   "cell_type": "code",
   "execution_count": 3,
   "metadata": {},
   "outputs": [
    {
     "data": {
      "text/html": [
       "<div>\n",
       "<style scoped>\n",
       "    .dataframe tbody tr th:only-of-type {\n",
       "        vertical-align: middle;\n",
       "    }\n",
       "\n",
       "    .dataframe tbody tr th {\n",
       "        vertical-align: top;\n",
       "    }\n",
       "\n",
       "    .dataframe thead th {\n",
       "        text-align: right;\n",
       "    }\n",
       "</style>\n",
       "<table border=\"1\" class=\"dataframe\">\n",
       "  <thead>\n",
       "    <tr style=\"text-align: right;\">\n",
       "      <th></th>\n",
       "      <th>subjid</th>\n",
       "      <th>age</th>\n",
       "      <th>gender</th>\n",
       "    </tr>\n",
       "  </thead>\n",
       "  <tbody>\n",
       "    <tr>\n",
       "      <th>0</th>\n",
       "      <td>10010</td>\n",
       "      <td>20</td>\n",
       "      <td>M</td>\n",
       "    </tr>\n",
       "    <tr>\n",
       "      <th>1</th>\n",
       "      <td>10011</td>\n",
       "      <td>25</td>\n",
       "      <td>F</td>\n",
       "    </tr>\n",
       "    <tr>\n",
       "      <th>2</th>\n",
       "      <td>10012</td>\n",
       "      <td>23</td>\n",
       "      <td>F</td>\n",
       "    </tr>\n",
       "  </tbody>\n",
       "</table>\n",
       "</div>"
      ],
      "text/plain": [
       "   subjid  age gender\n",
       "0   10010   20      M\n",
       "1   10011   25      F\n",
       "2   10012   23      F"
      ]
     },
     "execution_count": 3,
     "metadata": {},
     "output_type": "execute_result"
    }
   ],
   "source": [
    "data = {\n",
    "    'subjid': [10010, 10011, 10012],\n",
    "    'gender': ['M', 'F', 'F'],\n",
    "    'age':    [20, 25, 23],\n",
    "}\n",
    "\n",
    "dm = pd.DataFrame(data, columns=['subjid','age', 'gender'])\n",
    "dm"
   ]
  },
  {
   "cell_type": "markdown",
   "metadata": {},
   "source": [
    "## Send to clipboard"
   ]
  },
  {
   "cell_type": "code",
   "execution_count": 4,
   "metadata": {},
   "outputs": [
    {
     "ename": "PyperclipException",
     "evalue": "\n    Pyperclip could not find a copy/paste mechanism for your system.\n    For more information, please visit\n    https://pyperclip.readthedocs.io/en/latest/#not-implemented-error\n    ",
     "output_type": "error",
     "traceback": [
      "\u001b[0;31m---------------------------------------------------------------------------\u001b[0m",
      "\u001b[0;31mPyperclipException\u001b[0m                        Traceback (most recent call last)",
      "Cell \u001b[0;32mIn[4], line 2\u001b[0m\n\u001b[1;32m      1\u001b[0m \u001b[38;5;66;03m# This copies your dataframe in the clipboard. You can then paste the data in, say, Excel. This may not work over a server\u001b[39;00m\n\u001b[0;32m----> 2\u001b[0m \u001b[43mdm\u001b[49m\u001b[38;5;241;43m.\u001b[39;49m\u001b[43mto_clipboard\u001b[49m\u001b[43m(\u001b[49m\u001b[43m)\u001b[49m\n",
      "File \u001b[0;32m/opt/python/3.9.12/lib/python3.9/site-packages/pandas/core/generic.py:3143\u001b[0m, in \u001b[0;36mNDFrame.to_clipboard\u001b[0;34m(self, excel, sep, **kwargs)\u001b[0m\n\u001b[1;32m   3076\u001b[0m \u001b[38;5;250m\u001b[39m\u001b[38;5;124mr\u001b[39m\u001b[38;5;124;03m\"\"\"\u001b[39;00m\n\u001b[1;32m   3077\u001b[0m \u001b[38;5;124;03mCopy object to the system clipboard.\u001b[39;00m\n\u001b[1;32m   3078\u001b[0m \n\u001b[0;32m   (...)\u001b[0m\n\u001b[1;32m   3139\u001b[0m \u001b[38;5;124;03m   pyperclip.copy(html)\u001b[39;00m\n\u001b[1;32m   3140\u001b[0m \u001b[38;5;124;03m\"\"\"\u001b[39;00m\n\u001b[1;32m   3141\u001b[0m \u001b[38;5;28;01mfrom\u001b[39;00m \u001b[38;5;21;01mpandas\u001b[39;00m\u001b[38;5;21;01m.\u001b[39;00m\u001b[38;5;21;01mio\u001b[39;00m \u001b[38;5;28;01mimport\u001b[39;00m clipboards\n\u001b[0;32m-> 3143\u001b[0m \u001b[43mclipboards\u001b[49m\u001b[38;5;241;43m.\u001b[39;49m\u001b[43mto_clipboard\u001b[49m\u001b[43m(\u001b[49m\u001b[38;5;28;43mself\u001b[39;49m\u001b[43m,\u001b[49m\u001b[43m \u001b[49m\u001b[43mexcel\u001b[49m\u001b[38;5;241;43m=\u001b[39;49m\u001b[43mexcel\u001b[49m\u001b[43m,\u001b[49m\u001b[43m \u001b[49m\u001b[43msep\u001b[49m\u001b[38;5;241;43m=\u001b[39;49m\u001b[43msep\u001b[49m\u001b[43m,\u001b[49m\u001b[43m \u001b[49m\u001b[38;5;241;43m*\u001b[39;49m\u001b[38;5;241;43m*\u001b[39;49m\u001b[43mkwargs\u001b[49m\u001b[43m)\u001b[49m\n",
      "File \u001b[0;32m/opt/python/3.9.12/lib/python3.9/site-packages/pandas/io/clipboards.py:137\u001b[0m, in \u001b[0;36mto_clipboard\u001b[0;34m(obj, excel, sep, **kwargs)\u001b[0m\n\u001b[1;32m    134\u001b[0m     obj\u001b[38;5;241m.\u001b[39mto_csv(buf, sep\u001b[38;5;241m=\u001b[39msep, encoding\u001b[38;5;241m=\u001b[39m\u001b[38;5;124m\"\u001b[39m\u001b[38;5;124mutf-8\u001b[39m\u001b[38;5;124m\"\u001b[39m, \u001b[38;5;241m*\u001b[39m\u001b[38;5;241m*\u001b[39mkwargs)\n\u001b[1;32m    135\u001b[0m     text \u001b[38;5;241m=\u001b[39m buf\u001b[38;5;241m.\u001b[39mgetvalue()\n\u001b[0;32m--> 137\u001b[0m     \u001b[43mclipboard_set\u001b[49m\u001b[43m(\u001b[49m\u001b[43mtext\u001b[49m\u001b[43m)\u001b[49m\n\u001b[1;32m    138\u001b[0m     \u001b[38;5;28;01mreturn\u001b[39;00m\n\u001b[1;32m    139\u001b[0m \u001b[38;5;28;01mexcept\u001b[39;00m \u001b[38;5;167;01mTypeError\u001b[39;00m:\n",
      "File \u001b[0;32m/opt/python/3.9.12/lib/python3.9/site-packages/pandas/io/clipboard/__init__.py:639\u001b[0m, in \u001b[0;36mlazy_load_stub_copy\u001b[0;34m(text)\u001b[0m\n\u001b[1;32m    637\u001b[0m \u001b[38;5;28;01mglobal\u001b[39;00m copy, paste\n\u001b[1;32m    638\u001b[0m copy, paste \u001b[38;5;241m=\u001b[39m determine_clipboard()\n\u001b[0;32m--> 639\u001b[0m \u001b[38;5;28;01mreturn\u001b[39;00m \u001b[43mcopy\u001b[49m\u001b[43m(\u001b[49m\u001b[43mtext\u001b[49m\u001b[43m)\u001b[49m\n",
      "File \u001b[0;32m/opt/python/3.9.12/lib/python3.9/site-packages/pandas/io/clipboard/__init__.py:299\u001b[0m, in \u001b[0;36minit_no_clipboard.<locals>.ClipboardUnavailable.__call__\u001b[0;34m(self, *args, **kwargs)\u001b[0m\n\u001b[1;32m    298\u001b[0m \u001b[38;5;28;01mdef\u001b[39;00m \u001b[38;5;21m__call__\u001b[39m(\u001b[38;5;28mself\u001b[39m, \u001b[38;5;241m*\u001b[39margs, \u001b[38;5;241m*\u001b[39m\u001b[38;5;241m*\u001b[39mkwargs):\n\u001b[0;32m--> 299\u001b[0m     \u001b[38;5;28;01mraise\u001b[39;00m PyperclipException(EXCEPT_MSG)\n",
      "\u001b[0;31mPyperclipException\u001b[0m: \n    Pyperclip could not find a copy/paste mechanism for your system.\n    For more information, please visit\n    https://pyperclip.readthedocs.io/en/latest/#not-implemented-error\n    "
     ]
    }
   ],
   "source": [
    "# This copies your dataframe in the clipboard. You can then paste the data in, say, Excel. This may not work over a server\n",
    "dm.to_clipboard()"
   ]
  },
  {
   "cell_type": "markdown",
   "metadata": {},
   "source": [
    "## Export in JSON"
   ]
  },
  {
   "cell_type": "markdown",
   "metadata": {},
   "source": [
    "JSON (JavaScript Object Notation) is a text format that has become quite popular. Originally used for exchanging data between a browser and a server, we can use it for saving data (e.g. Python dictionnaries or pandas dataframes). It's language agnostic and supported by pandas. \n",
    "https://pandas.pydata.org/pandas-docs/stable/reference/api/pandas.DataFrame.to_json.html"
   ]
  },
  {
   "cell_type": "code",
   "execution_count": 22,
   "metadata": {},
   "outputs": [],
   "source": [
    "# Save a dataframe to JSON\n",
    "dm.to_json('exported_dm.json')\n",
    "\n",
    "# and then to read it back:\n",
    "# df = pd.read_json('exported_dm.json')"
   ]
  },
  {
   "cell_type": "markdown",
   "metadata": {},
   "source": [
    "## Export in SAS formats "
   ]
  },
  {
   "cell_type": "markdown",
   "metadata": {},
   "source": [
    "We cannot save to SAS7BDAT as it is a closed format. However we can save to XPORT/XPT using a third party module.\n",
    "\n",
    "https://pypi.org/project/xport/"
   ]
  },
  {
   "cell_type": "code",
   "execution_count": 24,
   "metadata": {},
   "outputs": [
    {
     "name": "stderr",
     "output_type": "stream",
     "text": [
      "C:\\ProgramData\\Anaconda3\\lib\\site-packages\\xport\\v56.py:609: UserWarning: Converting column dtypes {'subjid': 'float', 'age': 'float', 'gender': 'string'}\n",
      "  warnings.warn(f'Converting column dtypes {conversions}')\n",
      "Converting column 'subjid' from int64 to float\n",
      "Converting column 'age' from int64 to float\n",
      "Converting column 'gender' from object to string\n"
     ]
    }
   ],
   "source": [
    "# Code coming from Xport documentation\n",
    "\n",
    "ds = xport.Dataset(dm, name='DATA', label='demographics')\n",
    "\n",
    "for k, v in ds.items():\n",
    "    v.label = k               # Use the column name as SAS label\n",
    "    v.name = k.upper()[:8]    # SAS names are limited to 8 chars\n",
    "    if v.dtype == 'object':\n",
    "        v.format = '$CHAR20.' # Variables will parse SAS formats\n",
    "    else:\n",
    "        v.format = '10.2'\n",
    "\n",
    "library = xport.Library({'DATA': ds})\n",
    "\n",
    "with open('dm.xpt', 'wb') as f:\n",
    "    xport.v56.dump(library, f)"
   ]
  },
  {
   "cell_type": "markdown",
   "metadata": {},
   "source": [
    "## Export to CSV"
   ]
  },
  {
   "cell_type": "markdown",
   "metadata": {},
   "source": [
    "Pandas supports export to CSV. Many options to control the outcome: https://pandas.pydata.org/pandas-docs/stable/reference/api/pandas.DataFrame.to_csv.html"
   ]
  },
  {
   "cell_type": "code",
   "execution_count": 3,
   "metadata": {},
   "outputs": [],
   "source": [
    "dm.to_csv('exported_dm.csv')\n",
    "\n",
    "# and then to read it back:\n",
    "# df = pd.read_csv('exported_dm.csv')"
   ]
  },
  {
   "cell_type": "markdown",
   "metadata": {},
   "source": [
    "## Export to Excel formats"
   ]
  },
  {
   "cell_type": "markdown",
   "metadata": {},
   "source": [
    "Same with XLSX. Doc: https://pandas.pydata.org/pandas-docs/stable/reference/api/pandas.DataFrame.to_excel.html"
   ]
  },
  {
   "cell_type": "code",
   "execution_count": 8,
   "metadata": {},
   "outputs": [],
   "source": [
    "dm.to_excel('exported_dm.xlsx', index=False)\n",
    "\n",
    "# and then to read it back:\n",
    "# df = pd.read_excel('exported_dm.xlsx')"
   ]
  },
  {
   "cell_type": "markdown",
   "metadata": {},
   "source": [
    "## Export to Pickle"
   ]
  },
  {
   "cell_type": "markdown",
   "metadata": {},
   "source": [
    "Pickle is THE common way to serialize Python objects in binary format. It is supported by Pandas\n",
    "https://pandas.pydata.org/pandas-docs/stable/reference/api/pandas.DataFrame.to_pickle.html\n",
    "\n",
    "Disadvantage: it doesn't garantee cross-language or even cross-version compatibility. Can be a security issue if you unpickle unknown sources."
   ]
  },
  {
   "cell_type": "code",
   "execution_count": 10,
   "metadata": {},
   "outputs": [
    {
     "data": {
      "text/html": [
       "<div>\n",
       "<style scoped>\n",
       "    .dataframe tbody tr th:only-of-type {\n",
       "        vertical-align: middle;\n",
       "    }\n",
       "\n",
       "    .dataframe tbody tr th {\n",
       "        vertical-align: top;\n",
       "    }\n",
       "\n",
       "    .dataframe thead th {\n",
       "        text-align: right;\n",
       "    }\n",
       "</style>\n",
       "<table border=\"1\" class=\"dataframe\">\n",
       "  <thead>\n",
       "    <tr style=\"text-align: right;\">\n",
       "      <th></th>\n",
       "      <th>subjid</th>\n",
       "      <th>age</th>\n",
       "      <th>gender</th>\n",
       "    </tr>\n",
       "  </thead>\n",
       "  <tbody>\n",
       "    <tr>\n",
       "      <th>0</th>\n",
       "      <td>10010</td>\n",
       "      <td>20</td>\n",
       "      <td>M</td>\n",
       "    </tr>\n",
       "    <tr>\n",
       "      <th>1</th>\n",
       "      <td>10011</td>\n",
       "      <td>25</td>\n",
       "      <td>F</td>\n",
       "    </tr>\n",
       "    <tr>\n",
       "      <th>2</th>\n",
       "      <td>10012</td>\n",
       "      <td>23</td>\n",
       "      <td>F</td>\n",
       "    </tr>\n",
       "  </tbody>\n",
       "</table>\n",
       "</div>"
      ],
      "text/plain": [
       "   subjid  age gender\n",
       "0   10010   20      M\n",
       "1   10011   25      F\n",
       "2   10012   23      F"
      ]
     },
     "execution_count": 10,
     "metadata": {},
     "output_type": "execute_result"
    }
   ],
   "source": [
    "dm.to_pickle('exported_dm.pickle')\n",
    "\n",
    "# and then to read it back\n",
    "#df = pd.read_pickle('exported_dm.pickle')\n"
   ]
  },
  {
   "cell_type": "markdown",
   "metadata": {},
   "source": [
    "## Export to HDF5"
   ]
  },
  {
   "cell_type": "markdown",
   "metadata": {},
   "source": [
    "HDF5 allows to store large amounts of data efficiently. Potentially a good candidate for a department-wide solution"
   ]
  },
  {
   "cell_type": "code",
   "execution_count": 15,
   "metadata": {},
   "outputs": [
    {
     "data": {
      "text/html": [
       "<div>\n",
       "<style scoped>\n",
       "    .dataframe tbody tr th:only-of-type {\n",
       "        vertical-align: middle;\n",
       "    }\n",
       "\n",
       "    .dataframe tbody tr th {\n",
       "        vertical-align: top;\n",
       "    }\n",
       "\n",
       "    .dataframe thead th {\n",
       "        text-align: right;\n",
       "    }\n",
       "</style>\n",
       "<table border=\"1\" class=\"dataframe\">\n",
       "  <thead>\n",
       "    <tr style=\"text-align: right;\">\n",
       "      <th></th>\n",
       "      <th>subjid</th>\n",
       "      <th>age</th>\n",
       "      <th>gender</th>\n",
       "    </tr>\n",
       "  </thead>\n",
       "  <tbody>\n",
       "    <tr>\n",
       "      <th>0</th>\n",
       "      <td>10010</td>\n",
       "      <td>20</td>\n",
       "      <td>M</td>\n",
       "    </tr>\n",
       "    <tr>\n",
       "      <th>1</th>\n",
       "      <td>10011</td>\n",
       "      <td>25</td>\n",
       "      <td>F</td>\n",
       "    </tr>\n",
       "    <tr>\n",
       "      <th>2</th>\n",
       "      <td>10012</td>\n",
       "      <td>23</td>\n",
       "      <td>F</td>\n",
       "    </tr>\n",
       "  </tbody>\n",
       "</table>\n",
       "</div>"
      ],
      "text/plain": [
       "   subjid  age gender\n",
       "0   10010   20      M\n",
       "1   10011   25      F\n",
       "2   10012   23      F"
      ]
     },
     "execution_count": 15,
     "metadata": {},
     "output_type": "execute_result"
    }
   ],
   "source": [
    "dm.to_hdf('exported_dm.hdf', key='dm', mode='w')\n",
    "\n",
    "# and then to read it back\n",
    "# pd.read_hdf('exported_dm.hdf')"
   ]
  },
  {
   "cell_type": "markdown",
   "metadata": {},
   "source": [
    "## Export in feather"
   ]
  },
  {
   "cell_type": "markdown",
   "metadata": {},
   "source": [
    "feather is a light-weight binary format that seems to be a very good candidate to persist dataframes between sessions. It's supported by pandas."
   ]
  },
  {
   "cell_type": "code",
   "execution_count": 25,
   "metadata": {},
   "outputs": [],
   "source": [
    "# Save a dataframe to feather:\n",
    "dm.to_feather('exported_dm.feather')\n",
    "\n",
    "# and then to read it back\n",
    "# pd.read_feather('exported_dm.feather')"
   ]
  },
  {
   "cell_type": "markdown",
   "metadata": {},
   "source": [
    "__________________________________________________\n",
    "Nicolas Dupuis, Methodology and Innovation (IDAR C&SP), 2020+"
   ]
  }
 ],
 "metadata": {
  "kernelspec": {
   "display_name": "Python 3 (ipykernel)",
   "language": "python",
   "name": "python3"
  },
  "language_info": {
   "codemirror_mode": {
    "name": "ipython",
    "version": 3
   },
   "file_extension": ".py",
   "mimetype": "text/x-python",
   "name": "python",
   "nbconvert_exporter": "python",
   "pygments_lexer": "ipython3",
   "version": "3.9.12"
  }
 },
 "nbformat": 4,
 "nbformat_minor": 2
}
