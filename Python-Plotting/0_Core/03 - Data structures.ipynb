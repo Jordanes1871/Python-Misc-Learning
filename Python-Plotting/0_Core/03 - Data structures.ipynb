{
 "cells": [
  {
   "cell_type": "markdown",
   "metadata": {},
   "source": [
    "![alt text](python.png \"Title\")"
   ]
  },
  {
   "cell_type": "markdown",
   "metadata": {},
   "source": [
    "# Data Structures "
   ]
  },
  {
   "cell_type": "markdown",
   "metadata": {},
   "source": [
    "Python has several important types of structures to hold data. It's essential to know them.\n",
    "\n",
    "https://docs.python.org/3/tutorial/datastructures.html"
   ]
  },
  {
   "cell_type": "markdown",
   "metadata": {},
   "source": [
    "## Lists"
   ]
  },
  {
   "cell_type": "code",
   "execution_count": 1,
   "metadata": {},
   "outputs": [
    {
     "name": "stdout",
     "output_type": "stream",
     "text": [
      "a:  ['Hello', 1, True]\n",
      "3\n",
      "<class 'list'>\n",
      "b:  [[1, 2, 3], [4, 5, 6]]\n",
      "c:  [1, 2, 3, 4, 5, 6]\n"
     ]
    }
   ],
   "source": [
    "# Lists are ordered, mutable collections of heteregonous objects. They are very handy!\n",
    "# List items are enclosed in square braquets and comma delimited.\n",
    "\n",
    "a = []     # Declares an empty list\n",
    "a = list() # Same thing\n",
    "\n",
    "# let's create a list of 3 objects\n",
    "a = ['Hello', 1, True, ] # It's OK to leave a comma at the end, but not mandatory\n",
    "\n",
    "print ( 'a: ', a )  # see how it's printed out\n",
    "print ( len(a)   )  # number of items in the list\n",
    "print ( type (a) )  # it's a list\n",
    "\n",
    "# Lists can be nested \n",
    "b = [ [1, 2, 3], [4, 5, 6]]\n",
    "print(\"b: \", b)\n",
    "\n",
    "# Lists can be concatenated:\n",
    "c = [1, 2, 3] + [4, 5, 6]\n",
    "print(\"c: \", c)"
   ]
  },
  {
   "cell_type": "code",
   "execution_count": 2,
   "metadata": {},
   "outputs": [
    {
     "name": "stdout",
     "output_type": "stream",
     "text": [
      "a       = [[1, 2, 3], [4, 5, 6]]\n",
      "a[0]    = [1, 2, 3]\n",
      "a[0][1] = 2\n",
      "a[-1]   = [4, 5, 6] \n",
      "\n",
      "b        = [1, 2, 3, 4, 5, 6]\n",
      "b[0:2]   = [1, 2]\n",
      "b[:2]    = [1, 2]\n",
      "b[2:]    = [3, 4, 5, 6]\n",
      "b[2:-1]  = [3, 4, 5]\n",
      "b[-1:-3] = []\n",
      "b[::2]   = [1, 3, 5]\n",
      "b[::-2]   = [6, 4, 2]\n"
     ]
    }
   ],
   "source": [
    "# Slices: access the content by position. In Python, an iteration always starts at zero!\n",
    "a = [ [1, 2, 3], [4, 5, 6]]\n",
    "\n",
    "print ('a       =', a          )\n",
    "print ('a[0]    =', a[0]       ) # First item in the list, which is a  list\n",
    "print ('a[0][1] =', a[0][1]    ) # First item in the list & second item in the nested list, which is an integer\n",
    "print ('a[-1]   =', a[-1], '\\n') # Last item in the list, which is a list\n",
    "\n",
    "# A slice can also be a range:\n",
    "b = [ 1, 2, 3, 4, 5, 6]\n",
    "\n",
    "print ('b        =',  b       )\n",
    "print ('b[0:2]   =',  b[0:2]  ) # first and second item (the second range number is NOT inclusive )\n",
    "print ('b[:2]    =',  b[:2]   ) # same \n",
    "print ('b[2:]    =',  b[2:]   ) # from third item till the last item\n",
    "print ('b[2:-1]  =',  b[2:-1] ) # from third item till the second to last item\n",
    "print ('b[-1:-3] =',  b[-1:-3]) # empty\n",
    "print ('b[::2]   =',  b[::2])   # increment, from left to right\n",
    "print ('b[::-2]   =',  b[::-2]) # increment, from right to left"
   ]
  },
  {
   "cell_type": "markdown",
   "metadata": {},
   "source": [
    "![alt text](slices.jpg \"Title\")"
   ]
  },
  {
   "cell_type": "code",
   "execution_count": 3,
   "metadata": {},
   "outputs": [
    {
     "name": "stdout",
     "output_type": "stream",
     "text": [
      "Hello\n",
      "world\n",
      "!\n"
     ]
    }
   ],
   "source": [
    "# Lists are iterable objects. We'll cover the 'for' loops later, for now note that you can iterate on the items in a list\n",
    "for item in [\"Hello\", \"world\", '!']:\n",
    "    print(item)"
   ]
  },
  {
   "cell_type": "code",
   "execution_count": 4,
   "metadata": {},
   "outputs": [
    {
     "name": "stdout",
     "output_type": "stream",
     "text": [
      "True\n",
      "False\n"
     ]
    }
   ],
   "source": [
    "# Check for existence of a list item using 'in':\n",
    "a = ['Hello', 'world']\n",
    "\n",
    "print ('Hello' in a) # the returning object is a boolean\n",
    "print ('hello' in a)"
   ]
  },
  {
   "cell_type": "code",
   "execution_count": 5,
   "metadata": {},
   "outputs": [
    {
     "name": "stdout",
     "output_type": "stream",
     "text": [
      "a:  [1, 3]\n",
      "b:  [1, 2]\n",
      "c:  [1, 2, 3, 4]\n",
      "d: ['a1', 'a2', 'b1', 'b5']\n",
      "e: ['a1', 'a2', 'b1', 'b5']\n",
      "Hello@world\n",
      "<class 'str'>\n"
     ]
    }
   ],
   "source": [
    "# More functions & methods:\n",
    "\n",
    "# del(): remove an item by position\n",
    "a = [1, 2, 3]\n",
    "del (a[1])\n",
    "\n",
    "print('a: ', a)\n",
    "\n",
    "# pop(): remove the last item\n",
    "b = [1, 2, 3]\n",
    "b.pop()\n",
    "print('b: ', b)\n",
    "\n",
    "# append(): add an item at the end of the list\n",
    "c = [1, 2, 3]\n",
    "c.append(4)\n",
    "print('c: ', c)\n",
    "\n",
    "# sorted(): function to lexicographically sort list items\n",
    "d = ['b1', 'a2', 'a1', 'b5', ]\n",
    "d = sorted(d)\n",
    "print ('d:', d )\n",
    "\n",
    "# sort(): **in-place** method to lexicographically sort list items\n",
    "e = ['b1', 'a2', 'a1', 'b5', ]\n",
    "e.sort()\n",
    "print ('e:', e )\n",
    "\n",
    "# join() converts a list to a string, with a delimiter. This does the opposite of split()\n",
    "joined = '@'.join(['Hello', 'world']) \n",
    "print(joined)\n",
    "print(type(joined))"
   ]
  },
  {
   "cell_type": "code",
   "execution_count": 8,
   "metadata": {},
   "outputs": [
    {
     "name": "stdout",
     "output_type": "stream",
     "text": [
      "[1, 4, 9]\n"
     ]
    }
   ],
   "source": [
    "# List comprehensions are a compact & pythonic way to create lists. It's a very important feature that you should know\n",
    "\n",
    "a = [1, 2, 3]\n",
    "squared = [number**2 for number in a]\n",
    "print(squared)\n",
    "\n",
    "# You can do this with a 'for' loop, but this is not the best way\n",
    "squared = []\n",
    "for number in a:\n",
    "    squared.append(number**2)\n",
    "    "
   ]
  },
  {
   "cell_type": "code",
   "execution_count": 6,
   "metadata": {},
   "outputs": [
    {
     "name": "stdout",
     "output_type": "stream",
     "text": [
      "a: ['HELLO', 'WORLD']\n"
     ]
    }
   ],
   "source": [
    "# Here's one way to apply a function on every item in a list:\n",
    "a = ['Hello', 'World']\n",
    "a = [item.upper() for item in a]\n",
    "print ('a:', a)"
   ]
  },
  {
   "cell_type": "code",
   "execution_count": 9,
   "metadata": {},
   "outputs": [
    {
     "name": "stdout",
     "output_type": "stream",
     "text": [
      "b: [0, 2, 4, 6, 8, 10]\n"
     ]
    }
   ],
   "source": [
    "# And that's how we could create a list of even numbers:\n",
    "b = [number for number in [0,1,2,3,4,5,6,7,8,9,10] if number % 2 == 0]\n",
    "print ('b:', b)"
   ]
  },
  {
   "cell_type": "code",
   "execution_count": 11,
   "metadata": {},
   "outputs": [
    {
     "name": "stdout",
     "output_type": "stream",
     "text": [
      "range(0, 10)\n",
      "[0, 1, 2, 3, 4, 5, 6, 7, 8, 9]\n"
     ]
    }
   ],
   "source": [
    "# You can easily create a list of integers with the 'range' function\n",
    "a = range(10) # it also takes option for starting point, increment etc\n",
    "print(a) # you can iterate on that object\n",
    "\n",
    "# Turn the range object into an actual list\n",
    "print(list(a))"
   ]
  },
  {
   "cell_type": "code",
   "execution_count": 6,
   "metadata": {},
   "outputs": [
    {
     "name": "stdout",
     "output_type": "stream",
     "text": [
      "False\n",
      "True\n",
      "True\n",
      "False\n"
     ]
    }
   ],
   "source": [
    "# all() and any() functions\n",
    "\n",
    "# Are all the values equal to True?\n",
    "print( all([True, True, False]))\n",
    "print( all([1<0, True, True ]))\n",
    "\n",
    "# Do we have at least one True?\n",
    "print( any([True, True, False]))\n",
    "print( any([False, False, False] ))"
   ]
  },
  {
   "cell_type": "markdown",
   "metadata": {},
   "source": [
    "## Tuples"
   ]
  },
  {
   "cell_type": "markdown",
   "metadata": {},
   "source": [
    "Tuples are very similar to lists, with one key difference: lists are mutable and tuples are not. Because of that, tuples are more efficient to process. Use them if you know you won't need to change them. The rest is the same (iterable, accessing with index etc)"
   ]
  },
  {
   "cell_type": "code",
   "execution_count": 13,
   "metadata": {},
   "outputs": [
    {
     "ename": "AttributeError",
     "evalue": "'str' object has no attribute 'append'",
     "output_type": "error",
     "traceback": [
      "\u001b[0;31m---------------------------------------------------------------------------\u001b[0m",
      "\u001b[0;31mAttributeError\u001b[0m                            Traceback (most recent call last)",
      "Cell \u001b[0;32mIn[13], line 7\u001b[0m\n\u001b[1;32m      5\u001b[0m \u001b[38;5;66;03m# Create a tuple (using parentheses, not square brackets) and add an item. That will fail.\u001b[39;00m\n\u001b[1;32m      6\u001b[0m myTuple \u001b[38;5;241m=\u001b[39m (\u001b[38;5;124m'\u001b[39m\u001b[38;5;124mhello\u001b[39m\u001b[38;5;124m'\u001b[39m)\n\u001b[0;32m----> 7\u001b[0m \u001b[43mmyTuple\u001b[49m\u001b[38;5;241;43m.\u001b[39;49m\u001b[43mappend\u001b[49m(\u001b[38;5;124m'\u001b[39m\u001b[38;5;124mworld\u001b[39m\u001b[38;5;124m'\u001b[39m)\n",
      "\u001b[0;31mAttributeError\u001b[0m: 'str' object has no attribute 'append'"
     ]
    }
   ],
   "source": [
    "# Create a list and add an item. That will work.\n",
    "myList = ['hello']\n",
    "myList.append('world')\n",
    "\n",
    "# Create a tuple (using parentheses, not square brackets) and add an item. That will fail.\n",
    "myTuple = ('hello')\n",
    "myTuple.append('world')"
   ]
  },
  {
   "cell_type": "code",
   "execution_count": 14,
   "metadata": {},
   "outputs": [
    {
     "data": {
      "text/plain": [
       "('h', 'e', 'l', 'l', 'o')"
      ]
     },
     "execution_count": 14,
     "metadata": {},
     "output_type": "execute_result"
    }
   ],
   "source": [
    "# Tuple comprehension:\n",
    "\n",
    "# Note we need to specify 'tuple', because it would be ambigious with just parentheses\n",
    "t = tuple(letter for letter in 'hello') \n",
    "t"
   ]
  },
  {
   "cell_type": "code",
   "execution_count": 15,
   "metadata": {},
   "outputs": [
    {
     "name": "stdout",
     "output_type": "stream",
     "text": [
      "('Hello', 'world')\n"
     ]
    }
   ],
   "source": [
    "# Convert a tuple to a list and back to a tuple, in case you do need to change it :-)\n",
    "a = ('hello', 'world')\n",
    "\n",
    "a = list(a)\n",
    "a[0] = 'Hello'\n",
    "a = tuple(a)\n",
    "\n",
    "print(a)"
   ]
  },
  {
   "cell_type": "markdown",
   "metadata": {},
   "source": [
    "## Set"
   ]
  },
  {
   "cell_type": "markdown",
   "metadata": {},
   "source": [
    "Somehow similar to lists, with some differences\n",
    "* sets are unordered \n",
    "* sets do not allow duplicate values (that makes them also more efficient)\n",
    "* set items are unmutable but you can add more items to a set (using add() or update() )"
   ]
  },
  {
   "cell_type": "code",
   "execution_count": 18,
   "metadata": {},
   "outputs": [
    {
     "name": "stdout",
     "output_type": "stream",
     "text": [
      "{1, 2, 3, 4}\n",
      "<class 'set'>\n",
      "[1, 2, 3, 4]\n"
     ]
    }
   ],
   "source": [
    "# Convert a list to a set removes the duplicates:\n",
    "a = set( [1, 2, 3, 3, 4] )\n",
    "print(a)\n",
    "print(type(a))\n",
    "\n",
    "# You can convert back to a list:\n",
    "a = list(a)\n",
    "print(a)"
   ]
  },
  {
   "cell_type": "code",
   "execution_count": 19,
   "metadata": {},
   "outputs": [
    {
     "data": {
      "text/plain": [
       "{1, 2, 3, 4}"
      ]
     },
     "execution_count": 19,
     "metadata": {},
     "output_type": "execute_result"
    }
   ],
   "source": [
    "# Create set with curly brackets:\n",
    "a = {1, 2, 3, 3, 4}\n",
    "a"
   ]
  },
  {
   "cell_type": "code",
   "execution_count": 20,
   "metadata": {},
   "outputs": [
    {
     "name": "stdout",
     "output_type": "stream",
     "text": [
      "1\n",
      "2\n",
      "3\n",
      "4\n",
      "True\n",
      "False\n"
     ]
    }
   ],
   "source": [
    "# Sets are not ordered, so you can NOT access values using indexes\n",
    "a = {1, 2, 3, 3, 4}\n",
    "# a[1] # that will crash\n",
    "\n",
    "# However, you can iterate on a set and retrieve the values:\n",
    "for item in a: \n",
    "    print(item)\n",
    "    \n",
    "# Or, like in a list, check for existence of an item:\n",
    "print( 2 in a)\n",
    "print( 20 in a)"
   ]
  },
  {
   "cell_type": "code",
   "execution_count": 21,
   "metadata": {},
   "outputs": [
    {
     "name": "stdout",
     "output_type": "stream",
     "text": [
      "Union:  {'a', 'b', 'd', 'e', 'c'}\n",
      "Intersection:  {'a'}\n",
      "Not in both:  {'e', 'b', 'd', 'c'}\n"
     ]
    }
   ],
   "source": [
    "# Sets have useful methods for content comparisons:\n",
    "setA= {'a', 'b', 'd'}\n",
    "setB= {'a', 'c', 'e'}\n",
    "\n",
    "# A few examples:\n",
    "print('Union: ',        setA.union(setB))\n",
    "print('Intersection: ', setA.intersection(setB))\n",
    "print('Not in both: ',  setA.symmetric_difference(setB))"
   ]
  },
  {
   "cell_type": "code",
   "execution_count": 12,
   "metadata": {},
   "outputs": [
    {
     "data": {
      "text/plain": [
       "{' ', 'd', 'e', 'h', 'l', 'o', 'r', 'w'}"
      ]
     },
     "execution_count": 12,
     "metadata": {},
     "output_type": "execute_result"
    }
   ],
   "source": [
    "# Set comprehension: a proof that sets are not ordered:\n",
    "s = {letter for letter in 'hello world'}\n",
    "s"
   ]
  },
  {
   "cell_type": "markdown",
   "metadata": {},
   "source": [
    "## Strings"
   ]
  },
  {
   "cell_type": "code",
   "execution_count": 22,
   "metadata": {},
   "outputs": [
    {
     "name": "stdout",
     "output_type": "stream",
     "text": [
      "a[0]    : H\n",
      "a[-1]   : !\n",
      "a[0:2]  : He\n",
      "a[-3:]  : lo!\n",
      "a[-3:-1]: lo\n"
     ]
    }
   ],
   "source": [
    "# A string can be seen as a list of characters\n",
    "a = 'Hello!'\n",
    "\n",
    "# We can slice a string. As with lists, start point from 0 and end point is excluded.\n",
    "print('a[0]    :' , a[0])\n",
    "print('a[-1]   :' , a[-1])\n",
    "print('a[0:2]  :' , a[0:2])\n",
    "print('a[-3:]  :' , a[-3:])\n",
    "print('a[-3:-1]:' , a[-3:-1])"
   ]
  },
  {
   "cell_type": "code",
   "execution_count": 16,
   "metadata": {},
   "outputs": [
    {
     "name": "stdout",
     "output_type": "stream",
     "text": [
      "hello this is a string written on 2 lines\n"
     ]
    }
   ],
   "source": [
    "# You can use single, double or triple quotes:\n",
    "\n",
    "# a and b are the same\n",
    "a = 'Hello'\n",
    "b = \"Hello\"\n",
    "\n",
    "# Depending on how you want it inside the string:\n",
    "c = \"I'm here.\"\n",
    "d = 'I am \"here\".'\n",
    "\n",
    "# Triple quotes protect single and double quotes:\n",
    "e = ''' I'm \"here\" '''\n",
    "\n",
    "# Use the \\ sign to indent the way you like. Useful when the line gets too long\n",
    "a = \"hello this is \" \\\n",
    "    \"a string written on 2 lines\"\n",
    "print(a)"
   ]
  },
  {
   "cell_type": "code",
   "execution_count": 23,
   "metadata": {},
   "outputs": [
    {
     "data": {
      "text/plain": [
       "'Hello world!'"
      ]
     },
     "execution_count": 23,
     "metadata": {},
     "output_type": "execute_result"
    }
   ],
   "source": [
    "# Concatenate strings with the + operator:\n",
    "'Hello' + \" world!\""
   ]
  },
  {
   "cell_type": "code",
   "execution_count": 24,
   "metadata": {},
   "outputs": [
    {
     "data": {
      "text/plain": [
       "34"
      ]
     },
     "execution_count": 24,
     "metadata": {},
     "output_type": "execute_result"
    }
   ],
   "source": [
    "# As with all iterable objects, you can use len() to retrieve the number of elements\n",
    "long_word = \"Supercalifragilisticexpialidocious\"\n",
    "len(long_word)"
   ]
  },
  {
   "cell_type": "code",
   "execution_count": 25,
   "metadata": {},
   "outputs": [
    {
     "name": "stdout",
     "output_type": "stream",
     "text": [
      "/**************************************/\n",
      "/* Supercalifragilisticexpialidocious */\n",
      "/**************************************/\n"
     ]
    }
   ],
   "source": [
    "# String multiplication\n",
    "comments = \"/*\" + \"*\" * (len(long_word)+2) + \"*/\"\n",
    "\n",
    "print (comments)\n",
    "print (\"/*\", long_word, '*/')\n",
    "print (comments )"
   ]
  },
  {
   "cell_type": "code",
   "execution_count": 26,
   "metadata": {},
   "outputs": [
    {
     "name": "stdout",
     "output_type": "stream",
     "text": [
      "['Hello,', 'world', '!']\n",
      "['Hello', 'world !']\n",
      "123\n",
      "<class 'int'>\n"
     ]
    }
   ],
   "source": [
    "# You can easily create a list out of a string with split(). Default delimiter is space.\n",
    "# This does the opposite of join()\n",
    "\n",
    "Mylist = 'Hello, world !'.split()\n",
    "print(Mylist)\n",
    "\n",
    "# using a different delimiter\n",
    "Mylist = 'Hello, world !'.split(', ')\n",
    "print(Mylist)\n",
    "\n",
    "# Chain splits:\n",
    "comment = \"patient (id=123) was discharged\"\n",
    "usubjid = int(comment.split('id=')[1].split(')')[0]) # we force the conversion to Integer, otherwise we'd get a String\n",
    "print (usubjid)\n",
    "print (type(usubjid))\n",
    "\n",
    "# we'll do this in a more elegant way with Regex"
   ]
  },
  {
   "cell_type": "code",
   "execution_count": 16,
   "metadata": {},
   "outputs": [
    {
     "name": "stdout",
     "output_type": "stream",
     "text": [
      "Hi, world\n"
     ]
    }
   ],
   "source": [
    "# Replacing substrings\n",
    "\n",
    "a = 'Hello, world'\n",
    "a = a.replace('Hello', 'Hi') # replace is not in-place\n",
    "print(a)"
   ]
  },
  {
   "cell_type": "code",
   "execution_count": 18,
   "metadata": {},
   "outputs": [
    {
     "name": "stdout",
     "output_type": "stream",
     "text": [
      "c:\\user\\nicolas\n",
      "Hello \n",
      "world\n",
      "Hello \\nworld\n"
     ]
    }
   ],
   "source": [
    "# Escape characters are using backslashes, i.e \\n \n",
    "\n",
    "# Python will raise an error because \\u is not a valid escape char\n",
    "#folder = \"c:\\user\\nicolas\"  \n",
    "\n",
    "# You can prefix the string with 'r' to avoid this:\n",
    "folder = r\"c:\\user\\nicolas\"\n",
    "print(folder)\n",
    "\n",
    "# or alternatively protect every backslash with an additional backslash:\n",
    "folder = 'c:\\\\user\\\\nicolas'\n",
    "\n",
    "# Sometimes we do want to use escape characters (\\n means return carriage):\n",
    "print( 'Hello \\nworld')\n",
    "print( r'Hello \\nworld')"
   ]
  },
  {
   "cell_type": "code",
   "execution_count": 19,
   "metadata": {},
   "outputs": [
    {
     "name": "stdout",
     "output_type": "stream",
     "text": [
      "There are 12 letters in 'October 15th'.\n"
     ]
    }
   ],
   "source": [
    "# Formating strings\n",
    "\n",
    "usubjid = 123\n",
    "date = \"October 15th\"\n",
    "\n",
    "# let's put these 2 vars in a sentence\n",
    "\n",
    "# Solution 1: concatenate. Not the easiest or readable way...\n",
    "comment = \"Patient (id=\" + str(usubjid) + \") was discharged on \" + date\n",
    "\n",
    "# Solution 2: use format() and curly brackets as placeholders. More option with this (e.g. number of digits)\n",
    "comment = \"Patient (id={}) was discharged on {}\".format(usubjid, date)\n",
    "\n",
    "# Solution 3 and my personal favorite: use the format prefix. You can use functions inside the curly brackets. \n",
    "comment = f\"Patient (id={usubjid}) was discharged on {date}\"\n",
    "print (f\"There are {len(date)} letters in '{date}'.\")"
   ]
  },
  {
   "cell_type": "code",
   "execution_count": 20,
   "metadata": {},
   "outputs": [
    {
     "data": {
      "text/plain": [
       "'dlroW olleH'"
      ]
     },
     "execution_count": 20,
     "metadata": {},
     "output_type": "execute_result"
    }
   ],
   "source": [
    "# Reverse a string :-)\n",
    "\"Hello World\"[::-1]"
   ]
  },
  {
   "cell_type": "markdown",
   "metadata": {},
   "source": [
    "## Dictionnaries"
   ]
  },
  {
   "cell_type": "markdown",
   "metadata": {},
   "source": [
    "Python dicts are unordered, mutable and indexed collections. Think of it as pairs of keys and values."
   ]
  },
  {
   "cell_type": "code",
   "execution_count": 21,
   "metadata": {},
   "outputs": [
    {
     "name": "stdout",
     "output_type": "stream",
     "text": [
      "{'Clark': '555-153-0486', 'Lois': '555-594-1647'}\n",
      "We have 2 contacts:\n",
      "- Clark\n",
      "555-153-0486\n",
      "- Lois\n",
      "555-594-1647\n"
     ]
    }
   ],
   "source": [
    "# Create dicts with curly brackets, full-stop as delimiter between key/value and a comma between pairs\n",
    "contacts = {'Clark': '555-153-0486', 'Lois': '555-594-1647'}\n",
    "print(contacts)\n",
    "\n",
    "# Dicts are iterable:\n",
    "print (f'We have {len(contacts)} contacts:')\n",
    "\n",
    "for name in contacts:\n",
    "    print('-', name)\n",
    "    print(contacts[name])"
   ]
  },
  {
   "cell_type": "code",
   "execution_count": 7,
   "metadata": {},
   "outputs": [
    {
     "ename": "KeyError",
     "evalue": "0",
     "output_type": "error",
     "traceback": [
      "\u001b[0;31m---------------------------------------------------------------------------\u001b[0m",
      "\u001b[0;31mKeyError\u001b[0m                                  Traceback (most recent call last)",
      "Cell \u001b[0;32mIn[7], line 2\u001b[0m\n\u001b[1;32m      1\u001b[0m \u001b[38;5;66;03m# Dicts are unordered\u001b[39;00m\n\u001b[0;32m----> 2\u001b[0m \u001b[43mcontacts\u001b[49m\u001b[43m[\u001b[49m\u001b[38;5;241;43m0\u001b[39;49m\u001b[43m]\u001b[49m\n",
      "\u001b[0;31mKeyError\u001b[0m: 0"
     ]
    }
   ],
   "source": [
    "# Dicts are unordered, so this will crash if you thought accessing the first key. It only works if you have a key named 0\n",
    "contacts[0]"
   ]
  },
  {
   "cell_type": "code",
   "execution_count": 20,
   "metadata": {},
   "outputs": [
    {
     "data": {
      "text/plain": [
       "dict_items([('Clark', '555-153-0486'), ('Lois', '555-594-1647')])"
      ]
     },
     "execution_count": 20,
     "metadata": {},
     "output_type": "execute_result"
    }
   ],
   "source": [
    "# Get a list of keys/values\n",
    "contacts.items() # this retrieves a collection of tuples, which can be converted to a list of tuples"
   ]
  },
  {
   "cell_type": "code",
   "execution_count": 22,
   "metadata": {},
   "outputs": [
    {
     "name": "stdout",
     "output_type": "stream",
     "text": [
      "Clark's phone number: 555-153-0486\n"
     ]
    }
   ],
   "source": [
    "# Accessing values using the key as index:\n",
    "print (\"Clark's phone number:\", contacts['Clark'] )"
   ]
  },
  {
   "cell_type": "code",
   "execution_count": 22,
   "metadata": {},
   "outputs": [
    {
     "name": "stdout",
     "output_type": "stream",
     "text": [
      "flying\n",
      "['Flying', 'Invulnerable', 'X-rays', 'Freezing breath']\n"
     ]
    }
   ],
   "source": [
    "# Dictionaries can contain all kinds of objects (dict, list etc)\n",
    "a = {'Clark': {'phone':  '555-153-0486', \n",
    "               'email':  'ICanFly@gmail.com',\n",
    "               'powers': ['flying', 'Invulnerable', 'X-rays']},\n",
    "     'Lois' : None}\n",
    "\n",
    "# Accessing values with chain indexes:\n",
    "print ( a['Clark']['powers'][0] )\n",
    "\n",
    "# Dicts are mutable:\n",
    "a['Clark']['powers'].append('Freezing breath') # In fact, we are modifying a list, which is mutable\n",
    "a['Clark']['powers'][0] = 'Flying' \n",
    "print (a['Clark']['powers'])"
   ]
  },
  {
   "cell_type": "code",
   "execution_count": 24,
   "metadata": {},
   "outputs": [
    {
     "data": {
      "text/plain": [
       "{'Clark': '555-153-0486', 'Lois': '555-594-1647', 'test': 'Test value'}"
      ]
     },
     "execution_count": 24,
     "metadata": {},
     "output_type": "execute_result"
    }
   ],
   "source": [
    "# add a new key\n",
    "contacts['test'] = 'Test value'\n",
    "contacts"
   ]
  },
  {
   "cell_type": "code",
   "execution_count": 26,
   "metadata": {},
   "outputs": [
    {
     "ename": "KeyError",
     "evalue": "'Loiss'",
     "output_type": "error",
     "traceback": [
      "\u001b[0;31m---------------------------------------------------------------------------\u001b[0m",
      "\u001b[0;31mKeyError\u001b[0m                                  Traceback (most recent call last)",
      "Cell \u001b[0;32mIn[26], line 1\u001b[0m\n\u001b[0;32m----> 1\u001b[0m \u001b[38;5;28;01mdel\u001b[39;00m (contacts[\u001b[38;5;124m'\u001b[39m\u001b[38;5;124mLoiss\u001b[39m\u001b[38;5;124m'\u001b[39m])\n",
      "\u001b[0;31mKeyError\u001b[0m: 'Loiss'"
     ]
    }
   ],
   "source": [
    "del (contacts['Loiss'])"
   ]
  },
  {
   "cell_type": "code",
   "execution_count": null,
   "metadata": {},
   "outputs": [],
   "source": [
    "# Remove a key by name:\n",
    "del (a['Lois'])\n",
    "\n",
    "# Python will crash if the key doesn't exist when deleting.\n",
    "# You can test it beforehand using 'in' (because Dicts are iterable):\n",
    "if 'Lois' in a:\n",
    "    del (a['Lois'])\n",
    "else:\n",
    "    print('Lois was already deleted from the dictionnary.')\n",
    "\n",
    "a\n",
    "\n",
    "# We'll see the try/except block later, which is a better way"
   ]
  },
  {
   "cell_type": "code",
   "execution_count": 5,
   "metadata": {},
   "outputs": [
    {
     "name": "stdout",
     "output_type": "stream",
     "text": [
      "{1: 'a', 2: 'b'}\n",
      "key= A value= B\n"
     ]
    }
   ],
   "source": [
    "# Dict comprehension:\n",
    "tuples = [(1, 'a'), (2, 'b')]\n",
    "d = {key:value for key, value in tuples}\n",
    "print(d)\n",
    "\n",
    "# this works because Python unpacks the tuple values:\n",
    "key, value = ('A','B')\n",
    "print('key=', key, 'value=', value)"
   ]
  },
  {
   "cell_type": "markdown",
   "metadata": {},
   "source": [
    "## Copies\n",
    "\n",
    "\n"
   ]
  },
  {
   "cell_type": "markdown",
   "metadata": {},
   "source": [
    "When copying (e.g. a=b) mutable objects, you don't create a independent object but a reference!"
   ]
  },
  {
   "cell_type": "code",
   "execution_count": 24,
   "metadata": {},
   "outputs": [
    {
     "data": {
      "text/plain": [
       "'Hello'"
      ]
     },
     "execution_count": 24,
     "metadata": {},
     "output_type": "execute_result"
    }
   ],
   "source": [
    "# Strings are safe: a copy is a copy. Strings are NOT mutable.\n",
    "old = \"Hello\"\n",
    "new = old\n",
    "\n",
    "# If we change 'old', 'new' remains unchanged:\n",
    "old = \"Hi\"\n",
    "new"
   ]
  },
  {
   "cell_type": "code",
   "execution_count": 25,
   "metadata": {},
   "outputs": [
    {
     "ename": "TypeError",
     "evalue": "'str' object does not support item assignment",
     "output_type": "error",
     "traceback": [
      "\u001b[0;31m---------------------------------------------------------------------------\u001b[0m",
      "\u001b[0;31mTypeError\u001b[0m                                 Traceback (most recent call last)",
      "Cell \u001b[0;32mIn[25], line 3\u001b[0m\n\u001b[1;32m      1\u001b[0m \u001b[38;5;66;03m# A proof strings are not mutable\u001b[39;00m\n\u001b[1;32m      2\u001b[0m test \u001b[38;5;241m=\u001b[39m \u001b[38;5;124m\"\u001b[39m\u001b[38;5;124mHello\u001b[39m\u001b[38;5;124m\"\u001b[39m\n\u001b[0;32m----> 3\u001b[0m \u001b[43mtest\u001b[49m\u001b[43m[\u001b[49m\u001b[38;5;241;43m0\u001b[39;49m\u001b[43m]\u001b[49m \u001b[38;5;241m=\u001b[39m \u001b[38;5;124m'\u001b[39m\u001b[38;5;124mh\u001b[39m\u001b[38;5;124m'\u001b[39m\n",
      "\u001b[0;31mTypeError\u001b[0m: 'str' object does not support item assignment"
     ]
    }
   ],
   "source": [
    "# A proof strings are not mutable\n",
    "test = \"Hello\"\n",
    "test[0] = 'h'"
   ]
  },
  {
   "cell_type": "code",
   "execution_count": 26,
   "metadata": {},
   "outputs": [
    {
     "data": {
      "text/plain": [
       "['Hi', 'world']"
      ]
     },
     "execution_count": 26,
     "metadata": {},
     "output_type": "execute_result"
    }
   ],
   "source": [
    "# BE CAREFUL with lists, as they are mutable. A copied list is in fact a reference!!\n",
    "old = ['Hello', 'world']\n",
    "new = old\n",
    "\n",
    "# If we change 'old', 'new' is changed too :-o\n",
    "old[0] = 'Hi'\n",
    "new"
   ]
  },
  {
   "cell_type": "code",
   "execution_count": 27,
   "metadata": {},
   "outputs": [
    {
     "data": {
      "text/plain": [
       "['Hi', 'world']"
      ]
     },
     "execution_count": 27,
     "metadata": {},
     "output_type": "execute_result"
    }
   ],
   "source": [
    "# and of course, that 'works' both ways :s\n",
    "old = ['Hello', 'world']\n",
    "new = old\n",
    "\n",
    "new[0] = 'Hi'\n",
    "old"
   ]
  },
  {
   "cell_type": "code",
   "execution_count": 28,
   "metadata": {},
   "outputs": [
    {
     "data": {
      "text/plain": [
       "['Hello', 'world']"
      ]
     },
     "execution_count": 28,
     "metadata": {},
     "output_type": "execute_result"
    }
   ],
   "source": [
    "# So, use the copy() built-in method if you want a independant copy of that list\n",
    "old = ['Hello', 'world']\n",
    "new = old.copy()\n",
    "\n",
    "old[0] = 'Hi'\n",
    "new"
   ]
  },
  {
   "cell_type": "code",
   "execution_count": null,
   "metadata": {},
   "outputs": [],
   "source": [
    "# Dictionaries are mutable, so same story as lists\n",
    "old = {'Clark': '555-153-0486', 'Lois': '555-594-1647'}\n",
    "\n",
    "# take a real copy:\n",
    "new = old.copy()\n",
    "\n",
    "# or alternatively\n",
    "new = dict(old)"
   ]
  },
  {
   "cell_type": "code",
   "execution_count": 27,
   "metadata": {},
   "outputs": [
    {
     "name": "stdout",
     "output_type": "stream",
     "text": [
      "{1, 2, 3}\n"
     ]
    }
   ],
   "source": [
    "# Sets are mutable too. You can use copy()\n",
    "a = {1, 2, 3}\n",
    "b = a.copy()\n",
    "print(b)"
   ]
  },
  {
   "cell_type": "code",
   "execution_count": 14,
   "metadata": {},
   "outputs": [
    {
     "ename": "AttributeError",
     "evalue": "'tuple' object has no attribute 'copy'",
     "output_type": "error",
     "traceback": [
      "\u001b[0;31m---------------------------------------------------------------------------\u001b[0m",
      "\u001b[0;31mAttributeError\u001b[0m                            Traceback (most recent call last)",
      "Cell \u001b[0;32mIn[14], line 5\u001b[0m\n\u001b[1;32m      1\u001b[0m \u001b[38;5;66;03m# Sets are mutable too. You can use copy()\u001b[39;00m\n\u001b[1;32m      2\u001b[0m \n\u001b[1;32m      3\u001b[0m \u001b[38;5;66;03m# Tuples? Well, tuples are unmutable so we're good.\u001b[39;00m\n\u001b[1;32m      4\u001b[0m a \u001b[38;5;241m=\u001b[39m (\u001b[38;5;241m1\u001b[39m, \u001b[38;5;241m2\u001b[39m)\n\u001b[0;32m----> 5\u001b[0m b \u001b[38;5;241m=\u001b[39m \u001b[43ma\u001b[49m\u001b[38;5;241;43m.\u001b[39;49m\u001b[43mcopy\u001b[49m()\n",
      "\u001b[0;31mAttributeError\u001b[0m: 'tuple' object has no attribute 'copy'"
     ]
    }
   ],
   "source": [
    "# Tuples? Well, tuples are unmutable so you can't use copy() because you don't need to\n",
    "a = (1, 2)\n",
    "b = a"
   ]
  },
  {
   "cell_type": "markdown",
   "metadata": {},
   "source": [
    "## Advanced: Memory address"
   ]
  },
  {
   "cell_type": "markdown",
   "metadata": {},
   "source": [
    "id() returns the memory address of an object. Mutable object references share the same id! This is a great feature in fact but dangerous if you don't know."
   ]
  },
  {
   "cell_type": "code",
   "execution_count": 29,
   "metadata": {},
   "outputs": [
    {
     "name": "stdout",
     "output_type": "stream",
     "text": [
      "Before: 140184015429696 140184015429696\n",
      "After : 140184015429696 140184015429696\n"
     ]
    }
   ],
   "source": [
    "a = ['Hello']\n",
    "b = a \n",
    "\n",
    "# b is a reference to a\n",
    "print('Before:', id(a), id(b) )\n",
    "\n",
    "# Let's modify a\n",
    "a.append('world')\n",
    "\n",
    "# These objects share the same id, even after we changed them.\n",
    "print('After :', id(a), id(b) )"
   ]
  },
  {
   "cell_type": "code",
   "execution_count": 30,
   "metadata": {},
   "outputs": [
    {
     "name": "stdout",
     "output_type": "stream",
     "text": [
      "Before: 140184015429696 140184015469440\n"
     ]
    }
   ],
   "source": [
    "# Using copy(), these are now different objects:\n",
    "c = a.copy()\n",
    "print('Before:', id(a), id(c) )"
   ]
  },
  {
   "cell_type": "code",
   "execution_count": 29,
   "metadata": {},
   "outputs": [
    {
     "name": "stdout",
     "output_type": "stream",
     "text": [
      "Before: 140708102365632 140708102365632\n",
      "After : 140708102348144 140708102365632\n"
     ]
    }
   ],
   "source": [
    "# Let's try the same with unmutable objects (like strings or integer)\n",
    "a = 'Hello'\n",
    "b = a\n",
    "\n",
    "# Interestingly a and b share the same id, for now they point to the same address (that's efficient)\n",
    "print('Before:', id(a), id(b) )\n",
    "\n",
    "# And what if we modify a?\n",
    "a = 'Hi'\n",
    "\n",
    "# id is now different. Not a surprize since we in fact created a object from scratch.\n",
    "print('After :', id(a), id(b) ) "
   ]
  },
  {
   "cell_type": "markdown",
   "metadata": {},
   "source": [
    "__________________________________________________\n",
    "Nicolas Dupuis, Methodology and Innovation (IDAR C&SP), 2020+"
   ]
  }
 ],
 "metadata": {
  "kernelspec": {
   "display_name": "Python 3 (ipykernel)",
   "language": "python",
   "name": "python3"
  },
  "language_info": {
   "codemirror_mode": {
    "name": "ipython",
    "version": 3
   },
   "file_extension": ".py",
   "mimetype": "text/x-python",
   "name": "python",
   "nbconvert_exporter": "python",
   "pygments_lexer": "ipython3",
   "version": "3.9.12"
  }
 },
 "nbformat": 4,
 "nbformat_minor": 2
}
