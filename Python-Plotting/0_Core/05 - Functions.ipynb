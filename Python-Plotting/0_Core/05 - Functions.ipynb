{
 "cells": [
  {
   "cell_type": "markdown",
   "metadata": {},
   "source": [
    "![alt text](python.png \"Title\")"
   ]
  },
  {
   "cell_type": "markdown",
   "metadata": {},
   "source": [
    "# Functions"
   ]
  },
  {
   "cell_type": "markdown",
   "metadata": {},
   "source": [
    "Functions are objects (of course) that allows you to re-use code."
   ]
  },
  {
   "cell_type": "markdown",
   "metadata": {},
   "source": [
    "## Basics"
   ]
  },
  {
   "cell_type": "code",
   "execution_count": 1,
   "metadata": {},
   "outputs": [
    {
     "name": "stdout",
     "output_type": "stream",
     "text": [
      "Hello world\n"
     ]
    }
   ],
   "source": [
    "# Function definition: indented bloc\n",
    "def message():\n",
    "    print ('Hello world')\n",
    "\n",
    "# function call\n",
    "message()"
   ]
  },
  {
   "cell_type": "code",
   "execution_count": 2,
   "metadata": {},
   "outputs": [
    {
     "name": "stdout",
     "output_type": "stream",
     "text": [
      "3 to the square = 9\n",
      "5 to the square = 25\n"
     ]
    }
   ],
   "source": [
    "# Function can take parameters, aka arguments\n",
    "def square(x):\n",
    "    print (f'{x} to the square = {x**2}')\n",
    "\n",
    "# function call\n",
    "square(3)\n",
    "square(x=5)"
   ]
  },
  {
   "cell_type": "code",
   "execution_count": 5,
   "metadata": {},
   "outputs": [
    {
     "name": "stdout",
     "output_type": "stream",
     "text": [
      "<built-in function print>\n",
      "<class 'builtin_function_or_method'>\n",
      "Hi\n",
      "Hi\n",
      "<class 'NoneType'>\n"
     ]
    }
   ],
   "source": [
    "# Don't mix function reference and function call:\n",
    "\n",
    "# reference\n",
    "print( print )           # function reference\n",
    "print( type(print) )     # function type (a class)\n",
    "\n",
    "# call\n",
    "print('Hi')                  # function call\n",
    "print( type( print('Hi') ) ) # function outcome type (a class). Return None because print() doesn't return anything."
   ]
  },
  {
   "cell_type": "code",
   "execution_count": 11,
   "metadata": {},
   "outputs": [
    {
     "name": "stdout",
     "output_type": "stream",
     "text": [
      "27\n",
      "None\n"
     ]
    }
   ],
   "source": [
    "# Functions can 'return' an object, which stops the function. You can have several 'return' with if/else logic.\n",
    "def cube(x):\n",
    "    ''' Return x**3 if x is greater or equal 0, Return None otherwise '''\n",
    "    \n",
    "    if x < 0:\n",
    "        return None\n",
    "    \n",
    "    else: \n",
    "        return x**3 # this returns an integer object. We can return any kind of object\n",
    "        print('Not in a million years!') # that will be never be executed. Some IDE will highlight this.\n",
    "\n",
    "    print('Not in a million years!') # this also will never be executed...\n",
    "        \n",
    "s = cube(3) # the returned object is stored in this variable\n",
    "print (s)\n",
    "\n",
    "s = cube(-3)\n",
    "print (s)\n",
    "\n",
    "# note the duck-typing in action again"
   ]
  },
  {
   "cell_type": "markdown",
   "metadata": {},
   "source": [
    "## Arguments"
   ]
  },
  {
   "cell_type": "code",
   "execution_count": 4,
   "metadata": {},
   "outputs": [
    {
     "ename": "SyntaxError",
     "evalue": "positional argument follows keyword argument (2414310255.py, line 14)",
     "output_type": "error",
     "traceback": [
      "\u001b[0;36m  Cell \u001b[0;32mIn[4], line 14\u001b[0;36m\u001b[0m\n\u001b[0;31m    print ( expo(power = 2, 5) )  # keyword arguments must follow positional arguments\u001b[0m\n\u001b[0m                             ^\u001b[0m\n\u001b[0;31mSyntaxError\u001b[0m\u001b[0;31m:\u001b[0m positional argument follows keyword argument\n"
     ]
    }
   ],
   "source": [
    "# Functions can have no argument, one argument or several\n",
    "\n",
    "def expo(x, power = 2): # we have 1 positional argument (x) and 1 keyword argument (power) with a default value\n",
    "    \n",
    "    return x**power\n",
    "    \n",
    "print ( expo(5) )              # using default value for power\n",
    "print ( expo(5, 3) )           # overrides the 'power' default value\n",
    "print ( expo(5, power=3) )     # same but less ambiguous\n",
    "print ( expo(x=5, power=3) )   # same but even less ambiguous\n",
    "\n",
    "# The following won't work:\n",
    "# print ( expo(x=5, 3) )        # once you start using keyword args, you must finish...\n",
    "print ( expo(power = 2, 5) )  # keyword arguments must follow positional arguments    "
   ]
  },
  {
   "cell_type": "code",
   "execution_count": 7,
   "metadata": {},
   "outputs": [
    {
     "ename": "TypeError",
     "evalue": "test() missing 2 required positional arguments: 'a' and 'b'",
     "output_type": "error",
     "traceback": [
      "\u001b[0;31m---------------------------------------------------------------------------\u001b[0m",
      "\u001b[0;31mTypeError\u001b[0m                                 Traceback (most recent call last)",
      "Cell \u001b[0;32mIn[7], line 8\u001b[0m\n\u001b[1;32m      1\u001b[0m \u001b[38;5;28;01mdef\u001b[39;00m \u001b[38;5;21mtest\u001b[39m(\n\u001b[1;32m      2\u001b[0m     a, \n\u001b[1;32m      3\u001b[0m     b, \n\u001b[1;32m      4\u001b[0m     c \u001b[38;5;241m=\u001b[39m \u001b[38;5;124m'\u001b[39m\u001b[38;5;124mNone\u001b[39m\u001b[38;5;124m'\u001b[39m,\n\u001b[1;32m      5\u001b[0m     d \u001b[38;5;241m=\u001b[39m \u001b[38;5;28;01mNone\u001b[39;00m):\n\u001b[1;32m      6\u001b[0m     \u001b[38;5;28;01mpass\u001b[39;00m\n\u001b[0;32m----> 8\u001b[0m \u001b[43mtest\u001b[49m\u001b[43m(\u001b[49m\u001b[43m)\u001b[49m\n",
      "\u001b[0;31mTypeError\u001b[0m: test() missing 2 required positional arguments: 'a' and 'b'"
     ]
    }
   ],
   "source": [
    "# You must provide the positional arguments when calling the function.\n",
    "# The keyword args are optional since they have a default value.\n",
    "def test(\n",
    "    a, \n",
    "    b, \n",
    "    c = 'None',\n",
    "    d = None):\n",
    "    pass\n",
    "\n",
    "test()\n"
   ]
  },
  {
   "cell_type": "code",
   "execution_count": 6,
   "metadata": {},
   "outputs": [
    {
     "name": "stdout",
     "output_type": "stream",
     "text": [
      "('Hello', 'world', '!')\n",
      "first arg Hello\n"
     ]
    }
   ],
   "source": [
    "# How to receive an unknown number of positional arguments?\n",
    "\n",
    "def my_function(*args): # 'args' is a convention, not a mandatory name. The * is what matters\n",
    "    print(args)     # args is a tuple with all the arguments passed, let's print it\n",
    "    print(\"first arg\", args[0])\n",
    "\n",
    "# I'm passing 3 arguments to the function, they are received and could be further processed\n",
    "my_function(\"Hello\", \"world\", \"!\")"
   ]
  },
  {
   "cell_type": "code",
   "execution_count": 7,
   "metadata": {},
   "outputs": [
    {
     "name": "stdout",
     "output_type": "stream",
     "text": [
      "{'first': 'Hello', 'second': 'world', 'third': '!'}\n",
      "Hello\n"
     ]
    }
   ],
   "source": [
    "# How to receive an unknown number of keyword arguments?\n",
    "\n",
    "def my_function(**kwargs):  # 'kwargs' is a convention, not a mandatory name. The ** is what matters\n",
    "    print(kwargs)           # kwargs is a dict containing all the keyword arguments and their values\n",
    "    print(kwargs['first'])\n",
    "\n",
    "my_function(first = \"Hello\", second= \"world\", third = \"!\")"
   ]
  },
  {
   "cell_type": "code",
   "execution_count": 26,
   "metadata": {},
   "outputs": [
    {
     "name": "stdout",
     "output_type": "stream",
     "text": [
      "('Oh', 123, True)\n",
      "{'first': 'Hello', 'second': 'world', 'third': '!'}\n"
     ]
    }
   ],
   "source": [
    "# Mixing arbitrary positional and keyword arguments.\n",
    "\n",
    "def my_function(\n",
    "    *args,\n",
    "    **kwargs\n",
    "):\n",
    "    print(args) \n",
    "    print(kwargs) \n",
    "\n",
    "my_function(\"Oh\", 123, True, first = \"Hello\", second= \"world\", third = \"!\")"
   ]
  },
  {
   "cell_type": "code",
   "execution_count": 6,
   "metadata": {},
   "outputs": [
    {
     "name": "stdout",
     "output_type": "stream",
     "text": [
      "<class 'str'>\n",
      "<class 'list'>\n",
      "<class 'bool'>\n",
      "hello world\n",
      "h e l l o\n"
     ]
    },
    {
     "ename": "AssertionError",
     "evalue": "Wrong type",
     "output_type": "error",
     "traceback": [
      "\u001b[1;31m---------------------------------------------------------------------------\u001b[0m",
      "\u001b[1;31mAssertionError\u001b[0m                            Traceback (most recent call last)",
      "\u001b[1;32m<ipython-input-6-4a8e1405fea8>\u001b[0m in \u001b[0;36m<module>\u001b[1;34m\u001b[0m\n\u001b[0;32m     20\u001b[0m     \u001b[1;32mreturn\u001b[0m \u001b[1;34m' '\u001b[0m\u001b[1;33m.\u001b[0m\u001b[0mjoin\u001b[0m\u001b[1;33m(\u001b[0m\u001b[0mx\u001b[0m\u001b[1;33m)\u001b[0m\u001b[1;33m\u001b[0m\u001b[1;33m\u001b[0m\u001b[0m\n\u001b[0;32m     21\u001b[0m \u001b[1;33m\u001b[0m\u001b[0m\n\u001b[1;32m---> 22\u001b[1;33m \u001b[0mtest3\u001b[0m\u001b[1;33m(\u001b[0m\u001b[1;34m'hello'\u001b[0m\u001b[1;33m)\u001b[0m\u001b[1;33m\u001b[0m\u001b[1;33m\u001b[0m\u001b[0m\n\u001b[0m",
      "\u001b[1;32m<ipython-input-6-4a8e1405fea8>\u001b[0m in \u001b[0;36mtest3\u001b[1;34m(x)\u001b[0m\n\u001b[0;32m     17\u001b[0m \u001b[1;31m# A good way to enforce the type could be:\u001b[0m\u001b[1;33m\u001b[0m\u001b[1;33m\u001b[0m\u001b[1;33m\u001b[0m\u001b[0m\n\u001b[0;32m     18\u001b[0m \u001b[1;32mdef\u001b[0m \u001b[0mtest3\u001b[0m\u001b[1;33m(\u001b[0m\u001b[0mx\u001b[0m\u001b[1;33m)\u001b[0m\u001b[1;33m:\u001b[0m\u001b[1;33m\u001b[0m\u001b[1;33m\u001b[0m\u001b[0m\n\u001b[1;32m---> 19\u001b[1;33m     \u001b[1;32massert\u001b[0m \u001b[0misinstance\u001b[0m\u001b[1;33m(\u001b[0m\u001b[0mx\u001b[0m\u001b[1;33m,\u001b[0m \u001b[0mlist\u001b[0m\u001b[1;33m)\u001b[0m\u001b[1;33m,\u001b[0m \u001b[1;34m'Wrong type'\u001b[0m\u001b[1;33m\u001b[0m\u001b[1;33m\u001b[0m\u001b[0m\n\u001b[0m\u001b[0;32m     20\u001b[0m     \u001b[1;32mreturn\u001b[0m \u001b[1;34m' '\u001b[0m\u001b[1;33m.\u001b[0m\u001b[0mjoin\u001b[0m\u001b[1;33m(\u001b[0m\u001b[0mx\u001b[0m\u001b[1;33m)\u001b[0m\u001b[1;33m\u001b[0m\u001b[1;33m\u001b[0m\u001b[0m\n\u001b[0;32m     21\u001b[0m \u001b[1;33m\u001b[0m\u001b[0m\n",
      "\u001b[1;31mAssertionError\u001b[0m: Wrong type"
     ]
    }
   ],
   "source": [
    "# Argument types\n",
    "\n",
    "def test(x): # x type will be whatever is passed to the function\n",
    "    print(type(x)) \n",
    "\n",
    "test(\"hello\")\n",
    "test(['1', 2])\n",
    "test(True)\n",
    "\n",
    "# We can give a hint. It's useful for code review or can be used by third-party libraries. But Python doesn't care :-)\n",
    "def test2(x: list) -> str: # we think that x should be a list and test2 will return a string\n",
    "    print( ' '.join(x) )\n",
    "\n",
    "test2(['hello', 'world']) # the expectation\n",
    "test2(\"hello\")            # not the expectation but that works anyway...\n",
    "\n",
    "# A good way to enforce the type could be:\n",
    "def test3(x):\n",
    "    assert isinstance(x, list), 'Wrong type'\n",
    "    return ' '.join(x)\n",
    "\n",
    "test3('hello')"
   ]
  },
  {
   "cell_type": "code",
   "execution_count": 110,
   "metadata": {},
   "outputs": [
    {
     "name": "stdout",
     "output_type": "stream",
     "text": [
      "Inside function: Ciao\n",
      "Inside function: Aurevoir\n",
      "Outside function: Bonjour\n",
      "Outside function: Aurevoir\n"
     ]
    }
   ],
   "source": [
    "# Variable scopes are managed with **Namespaces**\n",
    "\n",
    "# Global variables (which belong to the global Namespace) can be accessed anywhere, inside or outside functions\n",
    "hello = \"Bonjour\"\n",
    "bye = \"Aurevoir\"\n",
    "\n",
    "def babel():\n",
    "    ''' The local Namespace includes local names inside the function. It is created when a function is called\n",
    "        and it only lasts while the function runs.\n",
    "    '''    \n",
    "    \n",
    "    # A local variable is only available in this function (e.g. different namespace).\n",
    "    # Local variables supersede global ones!\n",
    "    hello = \"Ciao\"\n",
    "    print(\"Inside function:\", hello)\n",
    "\n",
    "    # Variable bye doesn't exist in this local namespace/function,\n",
    "    # therefore Python brings the variable from the global namespace.\n",
    "    print(\"Inside function:\", bye)  \n",
    "    \n",
    "babel()\n",
    "\n",
    "# the function did not alter the global variables, i.e. hello is unchanged\n",
    "print(\"Outside function:\", hello)\n",
    "print(\"Outside function:\", bye)"
   ]
  },
  {
   "cell_type": "code",
   "execution_count": 116,
   "metadata": {},
   "outputs": [
    {
     "name": "stdout",
     "output_type": "stream",
     "text": [
      "Inside hello:  Hi!!!\n",
      "Inside bye_modified:  Bye!!!\n",
      "Outside Hello:  Hi!!!\n",
      "Outside Bye:  Bye\n"
     ]
    }
   ],
   "source": [
    "# Warning: if you want to modify global variables inside a function (why ?!?) you need to declare it first as global\n",
    "hello = \"Hi\"\n",
    "bye = \"Bye\"\n",
    "\n",
    "def babel():\n",
    "    \n",
    "    # without the global statement, Python will complain that hello is not assigned yet (not a local var).\n",
    "    # See it as a kind reminder!\n",
    "    global hello \n",
    "    hello = hello + '!!!'\n",
    "    print(\"Inside hello: \", hello)\n",
    "    \n",
    "    # no need to use global here as I'm not modiying the global variable\n",
    "    bye_modified = bye + '!!!'\n",
    "    print(\"Inside bye_modified: \", bye_modified)\n",
    "    \n",
    "babel()\n",
    "print(\"Outside Hello: \", hello) # it was indeed modified\n",
    "print(\"Outside Bye: \", bye)"
   ]
  },
  {
   "cell_type": "markdown",
   "metadata": {},
   "source": [
    "## Docs"
   ]
  },
  {
   "cell_type": "markdown",
   "metadata": {},
   "source": [
    "Documenting your code is always useful."
   ]
  },
  {
   "cell_type": "code",
   "execution_count": 47,
   "metadata": {},
   "outputs": [
    {
     "name": "stdout",
     "output_type": "stream",
     "text": [
      " I'm gonna do a great function in here, trust me \n",
      " \n",
      " -------------------------------------------------- \n",
      " \n",
      "Help on function myfunc in module __main__:\n",
      "\n",
      "myfunc(x, *y, **z)\n",
      "    I'm gonna do a great function in here, trust me\n",
      "\n",
      "None\n"
     ]
    }
   ],
   "source": [
    "def myfunc(x, *y, **z):\n",
    "    ''' I'm gonna do a great function in here, trust me '''\n",
    "    pass\n",
    "\n",
    "# you can access this doc using\n",
    "print( myfunc.__doc__ )\n",
    "      \n",
    "print(f\" \\n {'-' * 50} \\n \")\n",
    "\n",
    "# or using\n",
    "print( help(myfunc) )"
   ]
  },
  {
   "cell_type": "markdown",
   "metadata": {},
   "source": [
    "## Functional Programming"
   ]
  },
  {
   "cell_type": "markdown",
   "metadata": {},
   "source": [
    "Python is not a functional programming language per se, but it does incorporate some of its concepts alongside other programming paradigms. With Python, it's easy to write code in a functional style, which may provide the best solution for the task at hand."
   ]
  },
  {
   "cell_type": "code",
   "execution_count": 16,
   "metadata": {},
   "outputs": [
    {
     "name": "stdout",
     "output_type": "stream",
     "text": [
      "[1, 9, 25, 36]\n",
      "[2, 4, 6, 7]\n"
     ]
    }
   ],
   "source": [
    "# you can use functions as arguments for other functions\n",
    "\n",
    "def square(x):\n",
    "    return x**2\n",
    "\n",
    "def increment(x):\n",
    "    return x+1\n",
    "\n",
    "def update_list_square(items, f=square):\n",
    "    \n",
    "    for i, item in enumerate(items):\n",
    "        \n",
    "        items[i] = square(item)\n",
    "    \n",
    "    return items\n",
    "        \n",
    "# Using the default f\n",
    "print ( update_list([1, 3, 5, 6]) )\n",
    "    \n",
    "# but we can easily override that\n",
    "print( update_list([1, 3, 5, 6], f=increment) )\n",
    "\n",
    "# bottom line: 'update_list' has only one function/role\n",
    "# This is interesting especially for unit testing"
   ]
  },
  {
   "cell_type": "code",
   "execution_count": 62,
   "metadata": {},
   "outputs": [
    {
     "name": "stdout",
     "output_type": "stream",
     "text": [
      "<map object at 0x000001CFE5CFD8D0>\n",
      "['Clark Kent', 'Lois Lane', 'Jimmy Olson']\n"
     ]
    }
   ],
   "source": [
    "# map(): Function that allows to apply a function to every element in an iterable object. \n",
    "# This is a very important function in Python (and in Pandas as we'll see later).\n",
    "\n",
    "# let's capitalize all these names\n",
    "names = ['clark kent', 'lois lane', 'jimmy olson',]\n",
    "\n",
    "def capitals(string):\n",
    "    return string.title()\n",
    "\n",
    "cp_names = map(capitals, names)\n",
    "\n",
    "# We got a 'map object' (whatever that is...)\n",
    "print(cp_names)\n",
    "\n",
    "# but we can convert it back to a list, a tuple or a set.\n",
    "print( list(cp_names) )"
   ]
  },
  {
   "cell_type": "code",
   "execution_count": 70,
   "metadata": {},
   "outputs": [
    {
     "name": "stdout",
     "output_type": "stream",
     "text": [
      "<filter object at 0x000001CFE64E0EB8>\n",
      "[2, 4]\n"
     ]
    }
   ],
   "source": [
    "# filter(): Function that tests every element in an iterable object with a function that returns either True or False,\n",
    "#           and keep only the element evaluated to True\n",
    "\n",
    "def is_even(number):\n",
    "    \n",
    "    if number % 2 == 0: # % is a division remainder\n",
    "        return True\n",
    "    else:\n",
    "        return False\n",
    "\n",
    "numbers = [1, 2, 3, 4, 5]\n",
    "even_numbers = filter(is_even, numbers)\n",
    "\n",
    "# We got a 'filter object' (whatever that is...)\n",
    "print(even_numbers)\n",
    "\n",
    "# but we can convert it back to a list, a tuple or a set.\n",
    "print( list(even_numbers) )"
   ]
  },
  {
   "cell_type": "markdown",
   "metadata": {},
   "source": [
    "    Conclusion: MAP and FILTER encourage you to create atomical functions, to be modular and re-use code"
   ]
  },
  {
   "cell_type": "markdown",
   "metadata": {},
   "source": [
    "## Lambda functions"
   ]
  },
  {
   "cell_type": "markdown",
   "metadata": {},
   "source": [
    "Lambda are small anonymous functions"
   ]
  },
  {
   "cell_type": "code",
   "execution_count": 49,
   "metadata": {},
   "outputs": [
    {
     "name": "stdout",
     "output_type": "stream",
     "text": [
      "25\n"
     ]
    }
   ],
   "source": [
    "a = lambda x : x**2\n",
    "print( a(5) )"
   ]
  },
  {
   "cell_type": "code",
   "execution_count": 1,
   "metadata": {},
   "outputs": [
    {
     "name": "stdout",
     "output_type": "stream",
     "text": [
      "[1, 9, 25, 36]\n",
      "['Clark Kent', 'Lois Lane', 'Jimmy Olson']\n"
     ]
    }
   ],
   "source": [
    "# Combining map() and lambda is pretty cool. One expression doing the same as cells above...\n",
    "\n",
    "oldList = [1, 3, 5, 6] \n",
    "newList = list(map(lambda number: number**2, oldList))  \n",
    "print(newList)\n",
    "\n",
    "oldNames = ['clark kent', 'lois lane', 'jimmy olson',]\n",
    "newNames = list(map(lambda name: name.title(), oldNames))\n",
    "print(newNames)"
   ]
  },
  {
   "cell_type": "code",
   "execution_count": 3,
   "metadata": {},
   "outputs": [
    {
     "name": "stdout",
     "output_type": "stream",
     "text": [
      "[8, 64, 216, 512, 1000, 1728, 2744, 4096, 5832, 8000]\n"
     ]
    }
   ],
   "source": [
    "# Combining map(), filter() and lambda: get the cube of even numbers between 1 and 20 \n",
    "a = map(lambda num: num ** 3, filter(lambda num: num % 2 == 0, range(1, 21)))\n",
    "print(list(a))"
   ]
  },
  {
   "cell_type": "markdown",
   "metadata": {},
   "source": [
    "## Advanced: Generators"
   ]
  },
  {
   "cell_type": "markdown",
   "metadata": {},
   "source": [
    "In Python, a generator is a function that returns an iterator that produces a sequence of values when iterated over.\n",
    "\n",
    "Generators are useful when we want to produce a large sequence of values, but we don't want to store all of them in memory at once."
   ]
  },
  {
   "cell_type": "code",
   "execution_count": 9,
   "metadata": {},
   "outputs": [
    {
     "name": "stdout",
     "output_type": "stream",
     "text": [
      "<generator object PowTwoGen at 0x7f9c6c2230b0>\n",
      "1\n",
      "2\n",
      "4\n",
      "8\n",
      "16\n"
     ]
    }
   ],
   "source": [
    "def PowTwoGen(max=0):\n",
    "    n = 0\n",
    "    while n < max:\n",
    "        yield 2 ** n\n",
    "        n += 1\n",
    "\n",
    "test = PowTwoGen(5)\n",
    "print(test) # the rule is implemented; but not executed yet\n",
    "\n",
    "for item in test: \n",
    "    print(item)"
   ]
  },
  {
   "cell_type": "markdown",
   "metadata": {},
   "source": [
    "For the record, this is the equivalent using a iterable class object"
   ]
  },
  {
   "cell_type": "code",
   "execution_count": 12,
   "metadata": {},
   "outputs": [
    {
     "name": "stdout",
     "output_type": "stream",
     "text": [
      "<__main__.PowTwo object at 0x7f9c6c2588b0>\n",
      "1\n",
      "2\n",
      "4\n",
      "8\n",
      "16\n",
      "32\n"
     ]
    }
   ],
   "source": [
    "class PowTwo:\n",
    "    def __init__(self, max=0):\n",
    "        self.n = 0\n",
    "        self.max = max\n",
    "\n",
    "    def __iter__(self):\n",
    "        return self\n",
    "\n",
    "    def __next__(self):\n",
    "        if self.n > self.max:\n",
    "            raise StopIteration\n",
    "\n",
    "        result = 2 ** self.n\n",
    "        self.n += 1\n",
    "        return result\n",
    "    \n",
    "# a bit more lengthty and confusing. Also, less efficient memory-wise\n",
    "test = PowTwo(5)\n",
    "print(test)"
   ]
  },
  {
   "cell_type": "markdown",
   "metadata": {},
   "source": [
    "__________________________________________________\n",
    "Nicolas Dupuis, Methodology and Innovation (IDAR C&SP), 2020+"
   ]
  }
 ],
 "metadata": {
  "kernelspec": {
   "display_name": "Python 3 (ipykernel)",
   "language": "python",
   "name": "python3"
  },
  "language_info": {
   "codemirror_mode": {
    "name": "ipython",
    "version": 3
   },
   "file_extension": ".py",
   "mimetype": "text/x-python",
   "name": "python",
   "nbconvert_exporter": "python",
   "pygments_lexer": "ipython3",
   "version": "3.9.12"
  }
 },
 "nbformat": 4,
 "nbformat_minor": 2
}
