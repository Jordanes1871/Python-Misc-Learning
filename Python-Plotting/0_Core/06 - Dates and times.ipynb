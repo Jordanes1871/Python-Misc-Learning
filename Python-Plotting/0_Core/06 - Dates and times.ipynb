{
 "cells": [
  {
   "cell_type": "markdown",
   "metadata": {},
   "source": [
    "![alt text](python.png \"Title\")"
   ]
  },
  {
   "cell_type": "markdown",
   "metadata": {},
   "source": [
    "# Date and time"
   ]
  },
  {
   "cell_type": "markdown",
   "metadata": {},
   "source": [
    "The core package 'datetime' provides basic features regarding date and time. We'll go deeper when using pandas.\n",
    "\n",
    "Cheat sheet: https://www.w3schools.com/python/python_datetime.asp\n",
    "\n",
    "Reference: https://docs.python.org/3/library/datetime.html"
   ]
  },
  {
   "cell_type": "code",
   "execution_count": 3,
   "metadata": {},
   "outputs": [],
   "source": [
    "# We need to import some packages first, not everything is loaded right away. \n",
    "# If an import fails, you need to install the package first, using the pip command in a terminal (UNIX or Windows)\n",
    "\n",
    "from datetime import datetime\n",
    "from dateutil.parser import parse"
   ]
  },
  {
   "cell_type": "code",
   "execution_count": 12,
   "metadata": {},
   "outputs": [
    {
     "name": "stdout",
     "output_type": "stream",
     "text": [
      "today is: 2023-08-14 08:08:31.901394\n",
      "<class 'datetime.datetime'>\n",
      "Year : 2023\n",
      "<class 'int'>\n",
      "Month: 8\n",
      "Day  : 14\n",
      "Hour : 8\n",
      "Min  : 8\n",
      "Sec  : 31\n"
     ]
    }
   ],
   "source": [
    "# today's date & time\n",
    "x = datetime.now()\n",
    "print('today is:', x)\n",
    "print(type(x))\n",
    "\n",
    "# we can extract details from this datetime object\n",
    "print('Year :', x.year)\n",
    "print(type(x.year))\n",
    "print('Month:', x.month)\n",
    "print('Day  :', x.day)\n",
    "print('Hour :', x.hour)\n",
    "print('Min  :', x.minute)\n",
    "print('Sec  :', x.second)"
   ]
  },
  {
   "cell_type": "code",
   "execution_count": 13,
   "metadata": {},
   "outputs": [
    {
     "name": "stdout",
     "output_type": "stream",
     "text": [
      "1980-05-17 00:00:00\n",
      "<class 'datetime.datetime'>\n"
     ]
    }
   ],
   "source": [
    "# We can create datetime objects:\n",
    "dob = datetime(1980, 5, 17) # YYY, MM, DD (ISO 8601 format)\n",
    "print(dob)\n",
    "print(type(dob))"
   ]
  },
  {
   "cell_type": "code",
   "execution_count": 10,
   "metadata": {},
   "outputs": [
    {
     "name": "stdout",
     "output_type": "stream",
     "text": [
      "<class 'datetime.timedelta'>\n",
      "Timedelta  : 15794 days, 7:58:47.764621\n",
      "age (days) : 15794\n",
      "age (years): 43.24161533196441\n"
     ]
    }
   ],
   "source": [
    "# datetime objects support duration calculation\n",
    "\n",
    "# That will produce a timedelta object:\n",
    "age = datetime.now() - dob\n",
    "print(type(age))\n",
    "\n",
    "# that object has properties:\n",
    "print('Timedelta  :', age)\n",
    "print('age (days) :', age.days)\n",
    "print('age (years):', age.days/365.25)"
   ]
  },
  {
   "cell_type": "code",
   "execution_count": 7,
   "metadata": {},
   "outputs": [
    {
     "data": {
      "text/plain": [
       "datetime.datetime(1980, 5, 17, 0, 0)"
      ]
     },
     "execution_count": 7,
     "metadata": {},
     "output_type": "execute_result"
    }
   ],
   "source": [
    "# If we are working with strings, one way to convert to datetime could be:\n",
    "raw = \"1980-05-17\"\n",
    "raw_list = [ int(item) for item in raw.split('-') ]\n",
    "datetime(raw_list[0], raw_list[1], raw_list[2])"
   ]
  },
  {
   "cell_type": "code",
   "execution_count": 8,
   "metadata": {},
   "outputs": [
    {
     "data": {
      "text/plain": [
       "datetime.datetime(2005, 6, 1, 13, 33)"
      ]
     },
     "execution_count": 8,
     "metadata": {},
     "output_type": "execute_result"
    }
   ],
   "source": [
    "# but datetime.strptime() (=string parse time) offers a more elegant parsing solution\n",
    "raw = \"Jun 1 2005  1:33PM\"\n",
    "datetime.strptime (raw, '%b %d %Y %I:%M%p')"
   ]
  },
  {
   "cell_type": "code",
   "execution_count": 9,
   "metadata": {},
   "outputs": [
    {
     "data": {
      "text/plain": [
       "'Jun 01 2005 01:33PM'"
      ]
     },
     "execution_count": 9,
     "metadata": {},
     "output_type": "execute_result"
    }
   ],
   "source": [
    "# Similarily, we can format datetime objects with datetime.strftime() (=string format time):\n",
    "date = datetime(2005,6,1,13,33,0)\n",
    "datetime.strftime (date, '%b %d %Y %I:%M%p')"
   ]
  },
  {
   "cell_type": "markdown",
   "metadata": {},
   "source": [
    "## Date parser"
   ]
  },
  {
   "cell_type": "markdown",
   "metadata": {},
   "source": [
    "parser.parse from the __dateutils__ package is very good (but not flawless) at parsing all kinds of date inputs from different languages."
   ]
  },
  {
   "cell_type": "code",
   "execution_count": 5,
   "metadata": {},
   "outputs": [
    {
     "name": "stdout",
     "output_type": "stream",
     "text": [
      "2020-01-06 00:00:00\n",
      "2020-01-23 00:00:00\n",
      "2020-01-06 14:00:00\n",
      "2020-01-02 00:00:00\n",
      "2020-02-01 00:00:00\n"
     ]
    }
   ],
   "source": [
    "print (parse('2020-01-06'))\n",
    "print (parse('Jan 2020 23rd '))\n",
    "print (parse('2020 Jan, 06th 2pm '))\n",
    "print (parse('01/02/2020', dayfirst= False))\n",
    "print (parse('01/02/2020', dayfirst= True))"
   ]
  },
  {
   "cell_type": "markdown",
   "metadata": {},
   "source": [
    "__________________________________________________\n",
    "Nicolas Dupuis, Methodology and Innovation (IDAR C&SP), 2020+"
   ]
  }
 ],
 "metadata": {
  "kernelspec": {
   "display_name": "Python 3 (ipykernel)",
   "language": "python",
   "name": "python3"
  },
  "language_info": {
   "codemirror_mode": {
    "name": "ipython",
    "version": 3
   },
   "file_extension": ".py",
   "mimetype": "text/x-python",
   "name": "python",
   "nbconvert_exporter": "python",
   "pygments_lexer": "ipython3",
   "version": "3.9.12"
  }
 },
 "nbformat": 4,
 "nbformat_minor": 2
}
