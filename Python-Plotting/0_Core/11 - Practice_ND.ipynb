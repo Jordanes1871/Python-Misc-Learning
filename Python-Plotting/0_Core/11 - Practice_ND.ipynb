{
 "cells": [
  {
   "cell_type": "markdown",
   "id": "3ef66245",
   "metadata": {},
   "source": [
    "![alt text](python.png \"Title\")"
   ]
  },
  {
   "cell_type": "markdown",
   "id": "3c892819",
   "metadata": {},
   "source": [
    "# Let's practice"
   ]
  },
  {
   "cell_type": "markdown",
   "id": "62169aa3",
   "metadata": {},
   "source": [
    "## Exercice 1"
   ]
  },
  {
   "cell_type": "code",
   "execution_count": 1,
   "id": "fac6525a",
   "metadata": {},
   "outputs": [],
   "source": [
    "# Run this cell.\n",
    "import random\n",
    "data = {}\n",
    "for subjid in range(20):\n",
    "    data[subjid] = random.choice([True, False])"
   ]
  },
  {
   "cell_type": "code",
   "execution_count": 2,
   "id": "c8ddb97e",
   "metadata": {},
   "outputs": [
    {
     "data": {
      "text/plain": [
       "{0: True,\n",
       " 1: True,\n",
       " 2: False,\n",
       " 3: False,\n",
       " 4: True,\n",
       " 5: True,\n",
       " 6: False,\n",
       " 7: False,\n",
       " 8: False,\n",
       " 9: True,\n",
       " 10: False,\n",
       " 11: True,\n",
       " 12: False,\n",
       " 13: False,\n",
       " 14: False,\n",
       " 15: False,\n",
       " 16: False,\n",
       " 17: False,\n",
       " 18: False,\n",
       " 19: True}"
      ]
     },
     "execution_count": 2,
     "metadata": {},
     "output_type": "execute_result"
    }
   ],
   "source": [
    "data"
   ]
  },
  {
   "cell_type": "code",
   "execution_count": 2,
   "id": "04db8325",
   "metadata": {},
   "outputs": [],
   "source": [
    "# Filter the 'data' dictionary to select only the False values\n",
    "\n",
    "# PROVIDE AT LEAST 2 SOLUTIONS"
   ]
  },
  {
   "cell_type": "code",
   "execution_count": 3,
   "id": "36a3b644",
   "metadata": {},
   "outputs": [],
   "source": [
    "# Convert the 'data' dictionary to a tuple of lists. Exp: myTuple=([1, False], [2, True], ...)\n",
    "\n",
    "# YOUR SOLUTION"
   ]
  },
  {
   "cell_type": "code",
   "execution_count": 4,
   "id": "78e047e8",
   "metadata": {},
   "outputs": [],
   "source": [
    "# Add ten more lists (<subjid>, True) to 'myTuple'. The new subjid values will be from 20 to 29. \n",
    "\n",
    "# YOUR SOLUTION"
   ]
  },
  {
   "cell_type": "code",
   "execution_count": 5,
   "id": "88e5fbe3",
   "metadata": {},
   "outputs": [],
   "source": [
    "# Convert this back to a dictionary with the following structure:\n",
    "# data = {1: {'screened': False}, ..., 29: {'screened': True}}\n",
    "\n",
    "# YOUR SOLUTION"
   ]
  },
  {
   "cell_type": "markdown",
   "id": "e5cb60cc",
   "metadata": {},
   "source": [
    "## Exercice 2"
   ]
  },
  {
   "cell_type": "code",
   "execution_count": 6,
   "id": "9f0c1bd6",
   "metadata": {},
   "outputs": [],
   "source": [
    "# Run this cell.\n",
    "import random\n",
    "data  = random.sample(range(1, 20), 10)\n",
    "data2 = random.sample(range(1, 20), 10)"
   ]
  },
  {
   "cell_type": "code",
   "execution_count": 7,
   "id": "48ddd1e0",
   "metadata": {},
   "outputs": [],
   "source": [
    "# Create a string looking like this: \n",
    "# \"The highest number in the data list is ...\" and replace ... with the actual highest in the 'data' list\n",
    "\n",
    "# PROVIDE AT LEAST 2 SOLUTIONS"
   ]
  },
  {
   "cell_type": "code",
   "execution_count": 8,
   "id": "4ddc4daa",
   "metadata": {},
   "outputs": [],
   "source": [
    "# What's the sum of numbers in data plus the sum of numbers in data2? \n",
    "\n",
    "# PROVIDE AT LEAST 2 SOLUTIONS"
   ]
  },
  {
   "cell_type": "code",
   "execution_count": 9,
   "id": "10d8630b",
   "metadata": {},
   "outputs": [],
   "source": [
    "# Create an iterable object that contains the unique values in both data and data2\n",
    "\n",
    "# PROVIDE AT LEAST 2 SOLUTIONS"
   ]
  },
  {
   "cell_type": "code",
   "execution_count": 10,
   "id": "4a3629de",
   "metadata": {},
   "outputs": [],
   "source": [
    "# Create an iterable object containing the square values of:\n",
    "# - every odd number in data\n",
    "# - every even number in data2\n",
    "\n",
    "# PROVIDE AT LEAST 2 SOLUTIONS, INCLUDING ONE WITH A FUNCTION"
   ]
  },
  {
   "cell_type": "code",
   "execution_count": 11,
   "id": "dfed69c9",
   "metadata": {},
   "outputs": [],
   "source": [
    "# Create a tuple object looking like this:\n",
    "# ( (<first_value_from_data>, <first_value_from_data2>), (<second_value_from_data>, <second_value_from_data2>), etc )\n",
    "\n",
    "# PROVIDE AT LEAST 2 SOLUTIONS"
   ]
  },
  {
   "cell_type": "markdown",
   "id": "5258c138",
   "metadata": {},
   "source": [
    "## Exercice 3"
   ]
  },
  {
   "cell_type": "code",
   "execution_count": 12,
   "id": "be7796b5",
   "metadata": {},
   "outputs": [],
   "source": [
    "# Run this cell.\n",
    "myString = \"We have reviewed patient 0001 for DBR_01.\""
   ]
  },
  {
   "cell_type": "code",
   "execution_count": 13,
   "id": "9e324315",
   "metadata": {},
   "outputs": [],
   "source": [
    "# How many words and characters do we have in this sentence?\n",
    "\n",
    "# PROVIDE YOUR SOLUTION"
   ]
  },
  {
   "cell_type": "code",
   "execution_count": 14,
   "id": "11f36b24",
   "metadata": {},
   "outputs": [],
   "source": [
    "# Create the variables 'patient_id' (integer) and 'dbr' (string) with values coming from myString.\n",
    "\n",
    "# PROVIDE AT LEAST 2 SOLUTIONS"
   ]
  },
  {
   "cell_type": "code",
   "execution_count": 15,
   "id": "e1a08b10",
   "metadata": {},
   "outputs": [],
   "source": [
    "# Create the following string, uppercasing and reversing myString: \n",
    "# '.10_RBD ROF 1000 TNEITAP DEWEIVER EVAH EW'\n",
    "\n",
    "# PROVIDE YOUR SOLUTION"
   ]
  },
  {
   "cell_type": "markdown",
   "id": "6f1b05b7",
   "metadata": {},
   "source": [
    "## Exercice 4"
   ]
  },
  {
   "cell_type": "code",
   "execution_count": 16,
   "id": "9c742b75",
   "metadata": {},
   "outputs": [],
   "source": [
    "# What's today date? How many days since January 1st this year? \n",
    "\n",
    "# PROVIDE YOUR SOLUTION"
   ]
  },
  {
   "cell_type": "code",
   "execution_count": 17,
   "id": "ea5bc032",
   "metadata": {},
   "outputs": [],
   "source": [
    "# Create a sentence looking like (adjusting obviously with today's date):\n",
    "# \"This year (2023) 15th of August was a Tuesday, next year it will be a Thursday.\"\n",
    "\n",
    "# PROVIDE YOUR SOLUTION"
   ]
  },
  {
   "cell_type": "code",
   "execution_count": 18,
   "id": "976b46a1",
   "metadata": {},
   "outputs": [],
   "source": [
    "# Will 2024 be a leap year?\n",
    "\n",
    "# PROVIDE YOUR SOLUTION"
   ]
  },
  {
   "cell_type": "code",
   "execution_count": 19,
   "id": "10db426f",
   "metadata": {},
   "outputs": [],
   "source": [
    "# As of today, how many days since myDate?\n",
    "myDate = \"July, 12th 1998\"\n",
    "\n",
    "# PROVIDE YOUR SOLUTION"
   ]
  },
  {
   "cell_type": "markdown",
   "id": "3e67d1b4",
   "metadata": {},
   "source": [
    "## Exercice 5"
   ]
  },
  {
   "cell_type": "code",
   "execution_count": 20,
   "id": "e3ea4af9",
   "metadata": {},
   "outputs": [],
   "source": [
    "# Create a robust function that returns the division of 2 arguments, with the denominator having a default value of 10.\n",
    "# Test it\n",
    "\n",
    "# PROVIDE A PYTHONIC SOLUTION"
   ]
  },
  {
   "cell_type": "code",
   "execution_count": 21,
   "id": "8079b766",
   "metadata": {},
   "outputs": [],
   "source": [
    "# Create a function that returns the number of upper case letters in a string. \n",
    "# Apply it to this list of items to create a tuple like (0, None, None, 1, 3, 2, None)\n",
    "\n",
    "myList = [\"hello world!\", True, 3.1416, \"Hello world\", \"YAY!\", 'OK, bye', None]\n",
    "\n",
    "# Create a dictionary with the item as key and the number of upper case letters as value\n",
    "# What's the sentence with the most upper case letters?\n",
    "\n",
    "# PROVIDE AT LEAST 2 SOLUTIONS"
   ]
  },
  {
   "cell_type": "markdown",
   "id": "b8273c8f",
   "metadata": {},
   "source": [
    "## Exercice 6"
   ]
  },
  {
   "cell_type": "code",
   "execution_count": 22,
   "id": "2ee943d0",
   "metadata": {},
   "outputs": [],
   "source": [
    "# Be creative, make up a function or a class that does something cool :-)"
   ]
  },
  {
   "cell_type": "markdown",
   "id": "5d0292df",
   "metadata": {},
   "source": [
    "## Exercice 7"
   ]
  },
  {
   "cell_type": "code",
   "execution_count": 23,
   "id": "07eea82d",
   "metadata": {},
   "outputs": [],
   "source": [
    "# Store the function/class from the previous exercice in a module\n",
    "# Import the module in a program and use it"
   ]
  },
  {
   "cell_type": "code",
   "execution_count": 24,
   "id": "9a590e0e",
   "metadata": {},
   "outputs": [],
   "source": [
    "# Store the function/class from the previous exercice in a package\n",
    "# Import the package in a program and use it"
   ]
  },
  {
   "cell_type": "markdown",
   "id": "e3b7edc7",
   "metadata": {},
   "source": [
    "__________________________________________________\n",
    "Nicolas Dupuis, Methodology and Innovation (IDAR C&SP), 2020+"
   ]
  }
 ],
 "metadata": {
  "kernelspec": {
   "display_name": "Python 3 (ipykernel)",
   "language": "python",
   "name": "python3"
  },
  "language_info": {
   "codemirror_mode": {
    "name": "ipython",
    "version": 3
   },
   "file_extension": ".py",
   "mimetype": "text/x-python",
   "name": "python",
   "nbconvert_exporter": "python",
   "pygments_lexer": "ipython3",
   "version": "3.9.12"
  }
 },
 "nbformat": 4,
 "nbformat_minor": 5
}
