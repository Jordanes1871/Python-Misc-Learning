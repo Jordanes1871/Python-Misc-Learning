{
 "cells": [
  {
   "cell_type": "markdown",
   "metadata": {},
   "source": [
    "![alt text](python.png \"Title\")"
   ]
  },
  {
   "cell_type": "markdown",
   "metadata": {},
   "source": [
    "# Regular expressions"
   ]
  },
  {
   "cell_type": "markdown",
   "metadata": {},
   "source": [
    "A RegEx, or Regular Expression, is a sequence of characters that forms a search pattern. It's powerful and useful for writing compact and efficient code. Not so readable though...\n",
    "\n",
    "Nice and easy cheat sheet: https://www.w3schools.com/python/python_regex.asp"
   ]
  },
  {
   "cell_type": "code",
   "execution_count": null,
   "metadata": {},
   "outputs": [],
   "source": [
    "# Import the regex package\n",
    "import re"
   ]
  },
  {
   "cell_type": "markdown",
   "metadata": {},
   "source": [
    "## re.findall()"
   ]
  },
  {
   "cell_type": "markdown",
   "metadata": {},
   "source": [
    "Returns a list containing all matches"
   ]
  },
  {
   "cell_type": "code",
   "execution_count": 26,
   "metadata": {},
   "outputs": [
    {
     "name": "stdout",
     "output_type": "stream",
     "text": [
      "subjid= ['100123']\n",
      "period= 4\n"
     ]
    }
   ],
   "source": [
    "text = \"Patient (id=100123) was discharged on 2012-05-06 (study period 04)\"\n",
    "\n",
    "# a pattern with 6 digits in a row\n",
    "subjid = re.findall('\\d{6}', text)  # that's a list\n",
    "\n",
    "# a pattern with a white character followed by a zero and number that could be 1, 2, 3, 4 or 5.\n",
    "period = int(re.findall('\\s[0][12345]', text) [0]) # we take the first item in the list and convert to integer\n",
    "\n",
    "print ( 'subjid=', subjid)\n",
    "print ( 'period=', period)"
   ]
  },
  {
   "cell_type": "code",
   "execution_count": 58,
   "metadata": {},
   "outputs": [
    {
     "data": {
      "text/plain": [
       "['ndupuis@its.jnj.com']"
      ]
     },
     "execution_count": 58,
     "metadata": {},
     "output_type": "execute_result"
    }
   ],
   "source": [
    "txt = \"hello@world, my email is ndupuis@its.jnj.com \"\n",
    "\n",
    "# Finding emails in a string. Not easy to read, but imagine the alternative algorithm...\n",
    "re.findall(\"([a-zA-Z0-9_.+-]+@[a-zA-Z0-9-]+\\.[a-zA-Z0-9-.]+)\", txt)"
   ]
  },
  {
   "cell_type": "markdown",
   "metadata": {},
   "source": [
    "## re.search()"
   ]
  },
  {
   "cell_type": "markdown",
   "metadata": {},
   "source": [
    "Returns a Match object if there is a match anywhere in a string."
   ]
  },
  {
   "cell_type": "code",
   "execution_count": 42,
   "metadata": {},
   "outputs": [
    {
     "name": "stdout",
     "output_type": "stream",
     "text": [
      "<re.Match object; span=(17, 27), match='555-12-781'>\n",
      "Valid phone number (555-12-781, at position (17, 27)) \n",
      "\n",
      "<re.Match object; span=(11, 21), match='555/12-781'>\n",
      "Valid phone number (555/12-781, at position (11, 21)) \n",
      "\n",
      "None\n",
      "Not a valid phone number \n",
      "\n"
     ]
    }
   ],
   "source": [
    "def check_phone_number(txt):\n",
    "    \n",
    "    ''' Searches for occurences of phone numbers in a string. \n",
    "        Returns the phone number and position in string if an occurence was found, return None otherwise.\n",
    "    '''\n",
    "    \n",
    "    # pattern=\n",
    "    # 3 digits, followed by a single char, followed by 2 digits, followed by a single char, followed by 3 digits.\n",
    "    match = re.search(\"\\d{3}.\\d{2}.\\d{3}\", txt)\n",
    "    print(match) # a match object\n",
    "    \n",
    "    if match:\n",
    "        return f'Valid phone number ({match.group()}, at position {match.span()}) \\n'\n",
    "    else: \n",
    "        return 'Not a valid phone number \\n'\n",
    "\n",
    "print ( check_phone_number(\"my phone number: 555-12-781\") )\n",
    "print ( check_phone_number(\"call me on 555/12-781\") )\n",
    "print ( check_phone_number(\"Yeah, 555-121-781 is my phone.\") )"
   ]
  },
  {
   "cell_type": "markdown",
   "metadata": {},
   "source": [
    "## re.split()"
   ]
  },
  {
   "cell_type": "markdown",
   "metadata": {},
   "source": [
    "Returns a list where the string has been split at each match"
   ]
  },
  {
   "cell_type": "code",
   "execution_count": 52,
   "metadata": {},
   "outputs": [
    {
     "name": "stdout",
     "output_type": "stream",
     "text": [
      "regex split:  ['Hello', 'world!', 'How', 'are', 'you', 'today?', \"I'm\", 'good', ':-).']\n",
      "normal split: ['Hello', 'world!', 'How', 'are', 'you', 'today?', \"I'm\", 'good', ':-).']\n",
      "['Hello', 'world', '', 'How', 'are', 'you', 'today', '', 'I', 'm', 'good', '', '', '', '', '']\n",
      "['Hello', 'world', 'How', 'are', 'you', 'today', 'I', 'm', 'good']\n"
     ]
    }
   ],
   "source": [
    "txt = \"Hello world! How are you today? I'm good :-).\"\n",
    "\n",
    "# Using \\s (white characther) as regex in re.split(). Returns the same as split()\n",
    "print('regex split: ', re.split(\"\\s\", txt) )\n",
    "print('normal split:', txt.split() )\n",
    "\n",
    "# re.split() offers more flexibility.\n",
    "# For example, \\W returns a match where the string does not contain any word characters:\n",
    "tokens = re.split(\"\\W\", txt)\n",
    "print(tokens)\n",
    "\n",
    "# We can clean further:\n",
    "tokens = [token for token in tokens if token != '']\n",
    "print(tokens)"
   ]
  },
  {
   "cell_type": "markdown",
   "metadata": {},
   "source": [
    "## re.sub()"
   ]
  },
  {
   "cell_type": "markdown",
   "metadata": {},
   "source": [
    "Replaces one or many matches with a string"
   ]
  },
  {
   "cell_type": "code",
   "execution_count": 55,
   "metadata": {},
   "outputs": [
    {
     "name": "stdout",
     "output_type": "stream",
     "text": [
      "Hi world, hello!\n",
      "Oh, hello world, hello!\n"
     ]
    }
   ],
   "source": [
    "txt = \"hello world, hello!\"\n",
    "txt2 = \"Oh, hello world, hello!\"\n",
    "\n",
    "# Replaces occurences of 'hello' with 'hi' only when the occurence is at the start of the string:\n",
    "print ( re.sub('^hello', 'Hi', txt))\n",
    "print ( re.sub('^hello', 'Hi', txt2))"
   ]
  },
  {
   "cell_type": "markdown",
   "metadata": {},
   "source": [
    "__________________________________________________\n",
    "Nicolas Dupuis, Methodology and Innovation (IDAR C&SP), 2020+"
   ]
  }
 ],
 "metadata": {
  "kernelspec": {
   "display_name": "Python 3 (ipykernel)",
   "language": "python",
   "name": "python3"
  },
  "language_info": {
   "codemirror_mode": {
    "name": "ipython",
    "version": 3
   },
   "file_extension": ".py",
   "mimetype": "text/x-python",
   "name": "python",
   "nbconvert_exporter": "python",
   "pygments_lexer": "ipython3",
   "version": "3.9.12"
  }
 },
 "nbformat": 4,
 "nbformat_minor": 4
}
