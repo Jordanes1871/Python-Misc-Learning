{
 "cells": [
  {
   "cell_type": "markdown",
   "metadata": {},
   "source": [
    "![alt text](python.png \"Title\")"
   ]
  },
  {
   "cell_type": "markdown",
   "metadata": {},
   "source": [
    "# Advanced: decorators"
   ]
  },
  {
   "cell_type": "markdown",
   "metadata": {},
   "source": [
    "A decorator is a function that extends the behavior of another function without explicitly modifying it. Put simply, decorators wrap functions and change them. They are very common in some programs/frameworks.\n",
    "\n",
    "https://realpython.com/primer-on-python-decorators/"
   ]
  },
  {
   "cell_type": "markdown",
   "metadata": {},
   "source": [
    "## Basics"
   ]
  },
  {
   "cell_type": "code",
   "execution_count": 1,
   "metadata": {},
   "outputs": [
    {
     "name": "stdout",
     "output_type": "stream",
     "text": [
      "Before.\n",
      "Now.\n",
      "After.\n"
     ]
    }
   ],
   "source": [
    "# Let's create a simple decorator. That's a function that takes a function as parameter\n",
    "def my_decorator(func):\n",
    "    \n",
    "    def wrapper():\n",
    "        print(\"Before.\")  # pre-decoration\n",
    "        func()            # Calling the function we want to decorate. We could even call it twice...\n",
    "        print(\"After.\")   # post-decoration\n",
    "    \n",
    "    return wrapper        # my_decorator will return a function\n",
    "\n",
    "# and that's the function we want to decorate\n",
    "def present():\n",
    "    print(\"Now.\")\n",
    "\n",
    "# let's decorate present(). \n",
    "present = my_decorator(present) # The function is passed as a reference, not actually called.\n",
    "\n",
    "# and now let's call the decorated function\n",
    "present()"
   ]
  },
  {
   "cell_type": "code",
   "execution_count": 2,
   "metadata": {},
   "outputs": [
    {
     "name": "stdout",
     "output_type": "stream",
     "text": [
      "Before.\n",
      "Now!\n",
      "After.\n"
     ]
    }
   ],
   "source": [
    "# The previous syntax (line 16) has its drawbacks. The following is syntactic sugar for decorating functions:\n",
    "\n",
    "@my_decorator\n",
    "def present():\n",
    "    print(\"Now!\")\n",
    "    \n",
    "present()    "
   ]
  },
  {
   "cell_type": "code",
   "execution_count": 3,
   "metadata": {},
   "outputs": [
    {
     "name": "stdout",
     "output_type": "stream",
     "text": [
      "Before.\n",
      "Today!\n",
      "After.\n"
     ]
    }
   ],
   "source": [
    "# Because my_decorator is independent, you can re-use it. That's the main purpose for decorators!\n",
    "\n",
    "@my_decorator\n",
    "def today(): # different function, same decoration\n",
    "    print(\"Today!\")\n",
    "\n",
    "today()    "
   ]
  },
  {
   "cell_type": "markdown",
   "metadata": {},
   "source": [
    "## Arguments and returning values"
   ]
  },
  {
   "cell_type": "markdown",
   "metadata": {},
   "source": [
    "Let's see how we can pass arguments and return values. We'll take a real world example, with a decorator that prevent duplicates to be created."
   ]
  },
  {
   "cell_type": "code",
   "execution_count": 5,
   "metadata": {},
   "outputs": [
    {
     "name": "stdout",
     "output_type": "stream",
     "text": [
      "Patient 10013 was added.\n",
      "No sorry, 10011 is already in there!\n"
     ]
    },
    {
     "data": {
      "text/plain": [
       "[10010, 10011, 10012, 10013]"
      ]
     },
     "execution_count": 5,
     "metadata": {},
     "output_type": "execute_result"
    }
   ],
   "source": [
    "# import functools\n",
    "\n",
    "def prevent_duplicates(func):\n",
    "\n",
    "    # @functools.wraps(func) # Bonus: to preserve information about the original function\n",
    "    \n",
    "    # The inner wrapper function can accept an arbitrary number of positional arguments.\n",
    "    def wrapper(*args):                 \n",
    "        \n",
    "        if args[1] in args[0]:\n",
    "            print(f'No sorry, {args[1]} is already in there!')\n",
    "            return args[0] # let's return the list unchanged\n",
    "        else: \n",
    "            print(f'Patient {args[1]} was added.')\n",
    "            return func(*args) # return value of the decorated function.\n",
    "                \n",
    "    return wrapper\n",
    "\n",
    "@prevent_duplicates\n",
    "def add_patient(patients, new_patient):\n",
    "    \n",
    "    patients.append(new_patient)\n",
    "    \n",
    "    return patients\n",
    "\n",
    "# Call the function\n",
    "patients = [10010, 10011, 10012]\n",
    "patients = add_patient(patients, 10013)\n",
    "patients = add_patient(patients, 10011)\n",
    "patients\n",
    "\n",
    "# Of course, we could have put this test inside add_patients(). \n",
    "# But maybe this prevent_duplicates could be used in some other scenarios.\n",
    "# In that case, a decorator is a transparent way to do that, even more than explicitely calling a function."
   ]
  },
  {
   "cell_type": "markdown",
   "metadata": {},
   "source": [
    "Conclusion: \n",
    "* decorators are very pythonic tools for functional programming, code re-usabiity and readibility.\n",
    "* the world of decorators is vast. You can stack them on one function, you can decorate classes, you can pass arguments in the @ definition and more. It can get as tricky as you want/need :-)"
   ]
  },
  {
   "cell_type": "markdown",
   "metadata": {},
   "source": [
    "__________________________________________________\n",
    "Nicolas Dupuis, Methodology and Innovation (IDAR C&SP), 2020+"
   ]
  }
 ],
 "metadata": {
  "kernelspec": {
   "display_name": "Python 3 (ipykernel)",
   "language": "python",
   "name": "python3"
  },
  "language_info": {
   "codemirror_mode": {
    "name": "ipython",
    "version": 3
   },
   "file_extension": ".py",
   "mimetype": "text/x-python",
   "name": "python",
   "nbconvert_exporter": "python",
   "pygments_lexer": "ipython3",
   "version": "3.9.12"
  }
 },
 "nbformat": 4,
 "nbformat_minor": 4
}
