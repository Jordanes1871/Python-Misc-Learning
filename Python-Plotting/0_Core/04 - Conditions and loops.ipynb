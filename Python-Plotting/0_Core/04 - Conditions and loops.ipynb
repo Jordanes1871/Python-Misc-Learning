{
 "cells": [
  {
   "cell_type": "markdown",
   "metadata": {},
   "source": [
    "![alt text](python.png \"Title\")"
   ]
  },
  {
   "cell_type": "markdown",
   "metadata": {},
   "source": [
    "# Conditions and loops"
   ]
  },
  {
   "cell_type": "markdown",
   "metadata": {},
   "source": [
    "## Conditional blocs"
   ]
  },
  {
   "cell_type": "code",
   "execution_count": 1,
   "metadata": {},
   "outputs": [
    {
     "name": "stdout",
     "output_type": "stream",
     "text": [
      "Obviously...\n"
     ]
    }
   ],
   "source": [
    "# A conditional bloc in its simplest form:\n",
    "if 1 > 0: # this returns a boolean and the bloc is executed is the condition is True\n",
    "    print(\"Obviously...\")\n",
    "    \n",
    "# Note the full-stop indicating the start of an indented (usually 4 spaces or a tabulation) bloc of code. "
   ]
  },
  {
   "cell_type": "code",
   "execution_count": 1,
   "metadata": {},
   "outputs": [
    {
     "ename": "IndentationError",
     "evalue": "expected an indented block (1203001846.py, line 3)",
     "output_type": "error",
     "traceback": [
      "\u001b[0;36m  Cell \u001b[0;32mIn[1], line 3\u001b[0;36m\u001b[0m\n\u001b[0;31m    print(\"1 is greater than 0, shocking isn't?\")\u001b[0m\n\u001b[0m    ^\u001b[0m\n\u001b[0;31mIndentationError\u001b[0m\u001b[0;31m:\u001b[0m expected an indented block\n"
     ]
    }
   ],
   "source": [
    "# That will fail because of the lack of indentation:\n",
    "if 1 > 0:\n",
    "print(\"1 is greater than 0, shocking isn't?\") "
   ]
  },
  {
   "cell_type": "code",
   "execution_count": 2,
   "metadata": {},
   "outputs": [
    {
     "ename": "SyntaxError",
     "evalue": "invalid syntax (891031252.py, line 2)",
     "output_type": "error",
     "traceback": [
      "\u001b[0;36m  Cell \u001b[0;32mIn[2], line 2\u001b[0;36m\u001b[0m\n\u001b[0;31m    if 1 > 0\u001b[0m\n\u001b[0m            ^\u001b[0m\n\u001b[0;31mSyntaxError\u001b[0m\u001b[0;31m:\u001b[0m invalid syntax\n"
     ]
    }
   ],
   "source": [
    "# That will fail because of the lack of the full-stop:\n",
    "if 1 > 0\n",
    "    print(\"1 is greater than 0, shocking isn't?\") "
   ]
  },
  {
   "cell_type": "code",
   "execution_count": 4,
   "metadata": {},
   "outputs": [
    {
     "ename": "IndentationError",
     "evalue": "unindent does not match any outer indentation level (<tokenize>, line 4)",
     "output_type": "error",
     "traceback": [
      "\u001b[0;36m  File \u001b[0;32m<tokenize>:4\u001b[0;36m\u001b[0m\n\u001b[0;31m    print('Hi')\u001b[0m\n\u001b[0m    ^\u001b[0m\n\u001b[0;31mIndentationError\u001b[0m\u001b[0;31m:\u001b[0m unindent does not match any outer indentation level\n"
     ]
    }
   ],
   "source": [
    "# That will fail because of inconsistent indentation\n",
    "if \"Hello\" in ['Hello', 'world',]:\n",
    "    print('Hello you too') \n",
    "   print('Hi')"
   ]
  },
  {
   "cell_type": "code",
   "execution_count": 13,
   "metadata": {},
   "outputs": [
    {
     "name": "stdout",
     "output_type": "stream",
     "text": [
      "None\n"
     ]
    }
   ],
   "source": [
    "# if, elif & else\n",
    "patient = None\n",
    "\n",
    "if patient in ['10010']:\n",
    "    pass # lazy placeholder that allows the code to run (it would crash otherwise).\n",
    "\n",
    "elif patient == 10011: # else if\n",
    "    pass\n",
    "\n",
    "else: # otherwise\n",
    "    print('None')"
   ]
  },
  {
   "cell_type": "code",
   "execution_count": 3,
   "metadata": {},
   "outputs": [
    {
     "name": "stdout",
     "output_type": "stream",
     "text": [
      "Condition 2\n"
     ]
    }
   ],
   "source": [
    "# You can use the classic AND, OR, NOT, XOR in the conditional blocs:\n",
    "a, b = True, False\n",
    "\n",
    "if a == b or a == False: # Note the double = sign to test equality. \n",
    "    print('Condition 1')\n",
    "\n",
    "if a != b and (a == False or not(b == True)):  # != means not equal\n",
    "    print('Condition 2')\n",
    "    \n",
    "if 0 <= 1: # lower or equal than\n",
    "    pass"
   ]
  },
  {
   "cell_type": "code",
   "execution_count": 1,
   "metadata": {},
   "outputs": [],
   "source": [
    "# Nested blocs = more indentation\n",
    "a, b = 1, 2\n",
    "\n",
    "if a != False:\n",
    "    if a > b: \n",
    "        pass "
   ]
  },
  {
   "cell_type": "code",
   "execution_count": 2,
   "metadata": {},
   "outputs": [
    {
     "name": "stdout",
     "output_type": "stream",
     "text": [
      "a is greater than b\n",
      "A\n"
     ]
    }
   ],
   "source": [
    "# Conditions on one line (if one statement per condition)\n",
    "a, b = 2, 1\n",
    "\n",
    "# with just a IF\n",
    "if a > b: print(\"a is greater than b\")\n",
    "    \n",
    "# an IF and an ELSE\n",
    "print(\"A\") if a > b else print(\"B\")"
   ]
  },
  {
   "cell_type": "markdown",
   "metadata": {},
   "source": [
    "## Better ask forgiveness than permission"
   ]
  },
  {
   "cell_type": "code",
   "execution_count": 3,
   "metadata": {},
   "outputs": [
    {
     "ename": "KeyError",
     "evalue": "'Jimmy'",
     "output_type": "error",
     "traceback": [
      "\u001b[1;31m---------------------------------------------------------------------------\u001b[0m",
      "\u001b[1;31mKeyError\u001b[0m                                  Traceback (most recent call last)",
      "Cell \u001b[1;32mIn[3], line 8\u001b[0m\n\u001b[0;32m      2\u001b[0m contacts \u001b[38;5;241m=\u001b[39m {\n\u001b[0;32m      3\u001b[0m     \u001b[38;5;124m'\u001b[39m\u001b[38;5;124mClark\u001b[39m\u001b[38;5;124m'\u001b[39m: \u001b[38;5;124m'\u001b[39m\u001b[38;5;124m555-153-0486\u001b[39m\u001b[38;5;124m'\u001b[39m,\n\u001b[0;32m      4\u001b[0m     \u001b[38;5;124m'\u001b[39m\u001b[38;5;124mLois\u001b[39m\u001b[38;5;124m'\u001b[39m: \u001b[38;5;124m'\u001b[39m\u001b[38;5;124m555-594-1647\u001b[39m\u001b[38;5;124m'\u001b[39m\n\u001b[0;32m      5\u001b[0m }\n\u001b[0;32m      7\u001b[0m \u001b[38;5;66;03m# that will crash (key error, Jimmy's not in the dict)\u001b[39;00m\n\u001b[1;32m----> 8\u001b[0m \u001b[43mcontacts\u001b[49m\u001b[43m[\u001b[49m\u001b[38;5;124;43m'\u001b[39;49m\u001b[38;5;124;43mJimmy\u001b[39;49m\u001b[38;5;124;43m'\u001b[39;49m\u001b[43m]\u001b[49m\n",
      "\u001b[1;31mKeyError\u001b[0m: 'Jimmy'"
     ]
    }
   ],
   "source": [
    "# Let's create a simple dict:\n",
    "contacts = {\n",
    "    'Clark': '555-153-0486',\n",
    "    'Lois': '555-594-1647'\n",
    "}\n",
    "\n",
    "# that will crash (key error, Jimmy's not in the dict)\n",
    "contacts['Jimmy']"
   ]
  },
  {
   "cell_type": "code",
   "execution_count": 4,
   "metadata": {},
   "outputs": [
    {
     "name": "stdout",
     "output_type": "stream",
     "text": [
      "Sorry, never heard of that guy.\n"
     ]
    }
   ],
   "source": [
    "# So we could test beforehand: \n",
    "if 'Jimmy' in contacts:\n",
    "    print(contacts['Jimmy'])\n",
    "else: \n",
    "    print('Sorry, never heard of that guy.')\n",
    "    \n",
    "# that means: 1) we'll always test beforehand (perfomance?) 2) we need to know what could go wrong (i.e KeyError)"
   ]
  },
  {
   "cell_type": "code",
   "execution_count": 5,
   "metadata": {},
   "outputs": [
    {
     "name": "stdout",
     "output_type": "stream",
     "text": [
      "Sorry, never heard of that guy.\n"
     ]
    }
   ],
   "source": [
    "# A much better way of handling this is the try/except bloc:\n",
    "\n",
    "# Python will try to run the commands in the 'try' bloc\n",
    "# If the code generates an error, any error, Python switches silently to the commands under the 'except' bloc.\n",
    "try: \n",
    "    contacts['Jimmy'] \n",
    "except:\n",
    "    print('Sorry, never heard of that guy.') # you must have an except bloc, but it can be just a 'pass'"
   ]
  },
  {
   "cell_type": "code",
   "execution_count": 6,
   "metadata": {},
   "outputs": [
    {
     "name": "stdout",
     "output_type": "stream",
     "text": [
      "Unexpected error\n",
      "\n",
      "\n",
      "Unexpected error\n",
      "\n",
      "\n"
     ]
    }
   ],
   "source": [
    "# And there's more to it, to better organize your code.\n",
    "\n",
    "for name in ['Clark', 'Jimmy']: \n",
    "\n",
    "    try: \n",
    "        telephone = contacts[name]\n",
    "        #telephone = conttacts[name] # throws the unexpected error\n",
    "\n",
    "    except KeyError: # we are naming the error here\n",
    "        print(f\"Sorry, never heard of {name}.\")\n",
    "\n",
    "    except: # catch eveything else...\n",
    "        print('Unexpected error')\n",
    "\n",
    "    else:  # that clause is executed if the 'try' worked\n",
    "        print(f\"{name}: {telephone}\")\n",
    "\n",
    "    finally: # that clause is executed no matter what\n",
    "        print('\\n')"
   ]
  },
  {
   "cell_type": "code",
   "execution_count": 36,
   "metadata": {},
   "outputs": [
    {
     "name": "stdout",
     "output_type": "stream",
     "text": [
      "KeyError(\"I'm gonna make you crash\")\n",
      "ZeroDivisionError('division by zero')\n"
     ]
    }
   ],
   "source": [
    "# How can we know the error name? Easy:\n",
    "try:\n",
    "    contacts[\"I'm gonna make you crash\"]\n",
    "except Exception as error:\n",
    "    print( repr(error) )\n",
    "    \n",
    "try:\n",
    "    1 / 0\n",
    "except Exception as error:\n",
    "    print( repr(error) )    "
   ]
  },
  {
   "cell_type": "markdown",
   "metadata": {},
   "source": [
    "List of exceptions: https://www.w3schools.com/python/python_ref_exceptions.asp"
   ]
  },
  {
   "cell_type": "code",
   "execution_count": 7,
   "metadata": {},
   "outputs": [
    {
     "ename": "AssertionError",
     "evalue": "Oops, I was expecting 2 treatment arms, not 3. I'm crashing now...",
     "output_type": "error",
     "traceback": [
      "\u001b[1;31m---------------------------------------------------------------------------\u001b[0m",
      "\u001b[1;31mAssertionError\u001b[0m                            Traceback (most recent call last)",
      "\u001b[1;32m<ipython-input-7-3ed4bb4ba8aa>\u001b[0m in \u001b[0;36m<module>\u001b[1;34m\u001b[0m\n\u001b[0;32m      4\u001b[0m \u001b[1;33m\u001b[0m\u001b[0m\n\u001b[0;32m      5\u001b[0m \u001b[1;31m# the following will crash if the condition is not met.\u001b[0m\u001b[1;33m\u001b[0m\u001b[1;33m\u001b[0m\u001b[1;33m\u001b[0m\u001b[0m\n\u001b[1;32m----> 6\u001b[1;33m \u001b[1;32massert\u001b[0m \u001b[0mn_treatment\u001b[0m\u001b[1;33m==\u001b[0m\u001b[1;36m2\u001b[0m\u001b[1;33m,\u001b[0m \u001b[1;34mf\"Oops, I was expecting 2 treatment arms, not {n_treatment}. I'm crashing now...\"\u001b[0m\u001b[1;33m\u001b[0m\u001b[1;33m\u001b[0m\u001b[0m\n\u001b[0m\u001b[0;32m      7\u001b[0m \u001b[1;33m\u001b[0m\u001b[0m\n\u001b[0;32m      8\u001b[0m \u001b[1;31m# essentialy, assert does the following:\u001b[0m\u001b[1;33m\u001b[0m\u001b[1;33m\u001b[0m\u001b[1;33m\u001b[0m\u001b[0m\n",
      "\u001b[1;31mAssertionError\u001b[0m: Oops, I was expecting 2 treatment arms, not 3. I'm crashing now..."
     ]
    }
   ],
   "source": [
    "# While we're here: 'assert' can be useful to insert crash points in your program\n",
    "\n",
    "# the following will crash if the condition is not met.\n",
    "n_treatment = 3\n",
    "condition = n_treatment==2 # that's a boolean\n",
    "assert condition, f\"Oops, I was expecting 2 treatment arms, not {n_treatment}. I'm crashing now...\"\n",
    "\n",
    "# essentialy, 'assert' does the following:\n",
    "if not condition:\n",
    "    raise AssertionError()"
   ]
  },
  {
   "cell_type": "markdown",
   "metadata": {},
   "source": [
    "## Iterations"
   ]
  },
  {
   "cell_type": "code",
   "execution_count": 38,
   "metadata": {},
   "outputs": [
    {
     "name": "stdout",
     "output_type": "stream",
     "text": [
      "Hello\n",
      "world\n"
     ]
    }
   ],
   "source": [
    "# 'for' loops are also blocs (with indentation & full-stop) and require an iterable object:\n",
    "for item in ['Hello', 'world',]: # a list is an iterable\n",
    "    print(item)"
   ]
  },
  {
   "cell_type": "code",
   "execution_count": 11,
   "metadata": {},
   "outputs": [
    {
     "name": "stdout",
     "output_type": "stream",
     "text": [
      "H\n",
      "e\n",
      "l\n",
      "l\n",
      "o\n",
      " \n",
      "w\n",
      "o\n",
      "r\n",
      "l\n",
      "d\n"
     ]
    }
   ],
   "source": [
    "# Strings are iterable\n",
    "for item in 'Hello world':\n",
    "    print(item)"
   ]
  },
  {
   "cell_type": "code",
   "execution_count": 39,
   "metadata": {},
   "outputs": [
    {
     "ename": "TypeError",
     "evalue": "'int' object is not iterable",
     "output_type": "error",
     "traceback": [
      "\u001b[1;31m---------------------------------------------------------------------------\u001b[0m",
      "\u001b[1;31mTypeError\u001b[0m                                 Traceback (most recent call last)",
      "\u001b[1;32m<ipython-input-39-e4441b376953>\u001b[0m in \u001b[0;36m<module>\u001b[1;34m\u001b[0m\n\u001b[0;32m      1\u001b[0m \u001b[1;31m# integer are not iterable, so this will crash\u001b[0m\u001b[1;33m\u001b[0m\u001b[1;33m\u001b[0m\u001b[1;33m\u001b[0m\u001b[0m\n\u001b[1;32m----> 2\u001b[1;33m \u001b[1;32mfor\u001b[0m \u001b[0mi\u001b[0m \u001b[1;32min\u001b[0m \u001b[1;36m50\u001b[0m\u001b[1;33m:\u001b[0m\u001b[1;33m\u001b[0m\u001b[1;33m\u001b[0m\u001b[0m\n\u001b[0m\u001b[0;32m      3\u001b[0m     \u001b[0mprint\u001b[0m\u001b[1;33m(\u001b[0m\u001b[0mi\u001b[0m\u001b[1;33m)\u001b[0m\u001b[1;33m\u001b[0m\u001b[1;33m\u001b[0m\u001b[0m\n",
      "\u001b[1;31mTypeError\u001b[0m: 'int' object is not iterable"
     ]
    }
   ],
   "source": [
    "# Integer are not iterables, so this will crash\n",
    "for i in 50:\n",
    "    print(i)"
   ]
  },
  {
   "cell_type": "code",
   "execution_count": 7,
   "metadata": {},
   "outputs": [
    {
     "name": "stdout",
     "output_type": "stream",
     "text": [
      "range(0, 5)\n",
      "0\n",
      "1\n",
      "2\n",
      "3\n",
      "4\n"
     ]
    }
   ],
   "source": [
    "# To iterate on numbers you can use range(), a function that creates an iterable range of numbers:\n",
    "myRange = range(5)\n",
    "print (myRange) # this is a 'range' object\n",
    "\n",
    "# It contains 5 numbers, starting at zero\n",
    "for i in myRange:\n",
    "    print(i)"
   ]
  },
  {
   "cell_type": "code",
   "execution_count": 46,
   "metadata": {},
   "outputs": [
    {
     "name": "stdout",
     "output_type": "stream",
     "text": [
      "2\n",
      "4\n",
      "6\n",
      "8\n"
     ]
    }
   ],
   "source": [
    "# range() have options:\n",
    "for i in range(2, 10, 2): # starting point, end point, increment step\n",
    "    print(i)"
   ]
  },
  {
   "cell_type": "code",
   "execution_count": 69,
   "metadata": {},
   "outputs": [
    {
     "name": "stdout",
     "output_type": "stream",
     "text": [
      "0\n",
      "1\n",
      "2\n",
      "4\n"
     ]
    }
   ],
   "source": [
    "# During a 'for' loop, we can skip a certain iteration with 'continue':\n",
    "for i in range(5):\n",
    "    if i == 3:\n",
    "        continue # this will skip the rest of the code for that iteration, and start a new iteration\n",
    "    print(i)  "
   ]
  },
  {
   "cell_type": "code",
   "execution_count": 5,
   "metadata": {},
   "outputs": [
    {
     "name": "stdout",
     "output_type": "stream",
     "text": [
      "0\n",
      "1\n",
      "2\n"
     ]
    }
   ],
   "source": [
    "# And we can terminate the iteration with 'break':\n",
    "for i in range(5):\n",
    "    if i == 3:\n",
    "        break # this will stop the loop entirely\n",
    "    print(i)  "
   ]
  },
  {
   "cell_type": "code",
   "execution_count": 4,
   "metadata": {},
   "outputs": [
    {
     "name": "stdout",
     "output_type": "stream",
     "text": [
      "0 Hello\n",
      "1 world\n",
      "0 Hello\n",
      "1 world\n"
     ]
    }
   ],
   "source": [
    "# How to get the iteration number?\n",
    "\n",
    "l = ['Hello', 'world',]\n",
    "\n",
    "# We could increment a INT variable: \n",
    "i = -1\n",
    "for item in l:\n",
    "    i += 1\n",
    "    print(i, item)\n",
    "\n",
    "# but enumerate() takes care of that:\n",
    "for i, item in enumerate(l): # enumerate() creates a 2-variable tuple, which is unpacked into 'i' and 'item'\n",
    "    print(i, item)"
   ]
  },
  {
   "cell_type": "code",
   "execution_count": 3,
   "metadata": {},
   "outputs": [
    {
     "name": "stdout",
     "output_type": "stream",
     "text": [
      "Zip object:  <zip object at 0x0000028F300DB540>\n",
      "('Clark', 'Superman')\n",
      "Yep, Clark is Superman! \n",
      "\n",
      "('Peter', 'Spiderman')\n",
      "Yep, Peter is Spiderman! \n",
      "\n"
     ]
    }
   ],
   "source": [
    "# zip() is a useful tool that creates an iterable (a tuple in fact) out of other iterables:\n",
    "covers      = (\"Clark\"   , \"Peter\"    , \"Bruce\" ) # that's a tuple\n",
    "superheroes = [\"Superman\", \"Spiderman\", ] # that's a list\n",
    "\n",
    "# It will associate the items from the 2 iterables in the same sequence\n",
    "\n",
    "# you can print it but it's not so useful\n",
    "print('Zip object: ', zip(covers, superheroes))\n",
    "\n",
    "# Better iterate on it\n",
    "for x in zip(covers, superheroes):\n",
    "    \n",
    "    print(x) # x is a tuple which we can unpack\n",
    "    cover, superheroe = x\n",
    "    \n",
    "    # we could also unpack like this:\n",
    "    # cover = x[0]; superheroe = x[1]\n",
    "    \n",
    "    print (f'Yep, {cover} is {superheroe}!', '\\n')"
   ]
  },
  {
   "cell_type": "code",
   "execution_count": 2,
   "metadata": {},
   "outputs": [
    {
     "name": "stdout",
     "output_type": "stream",
     "text": [
      "['Superman', 'Spiderman', None]\n"
     ]
    }
   ],
   "source": [
    "# explore zip options\n",
    "# list comprehension on superheroes to have the same length\n",
    "\n",
    "covers      = (\"Clark\"   , \"Peter\"    , \"Bruce\" ) # that's a tuple\n",
    "superheroes = [\"Superman\", \"Spiderman\", ]\n",
    "\n",
    "a= len(covers)\n",
    "\n",
    "for i in range(len(covers)-len(superheroes)):\n",
    "    superheroes.append(None)\n",
    "\n",
    "print(superheroes)\n",
    "    "
   ]
  },
  {
   "cell_type": "markdown",
   "metadata": {},
   "source": [
    "## While loop"
   ]
  },
  {
   "cell_type": "code",
   "execution_count": 1,
   "metadata": {},
   "outputs": [
    {
     "name": "stdout",
     "output_type": "stream",
     "text": [
      "1\n",
      "2\n",
      "3\n",
      "4\n",
      "5\n"
     ]
    }
   ],
   "source": [
    "# Loop while a condition is met\n",
    "\n",
    "i = 0\n",
    "while i < 5: \n",
    "    i += 1\n",
    "    print(i)\n",
    "    \n",
    "# watch out for those never ending loops :-)"
   ]
  },
  {
   "cell_type": "markdown",
   "metadata": {},
   "source": [
    "__________________________________________________\n",
    "Nicolas Dupuis, Methodology and Innovation (IDAR C&SP), 2020+"
   ]
  }
 ],
 "metadata": {
  "kernelspec": {
   "display_name": "Python 3 (ipykernel)",
   "language": "python",
   "name": "python3"
  },
  "language_info": {
   "codemirror_mode": {
    "name": "ipython",
    "version": 3
   },
   "file_extension": ".py",
   "mimetype": "text/x-python",
   "name": "python",
   "nbconvert_exporter": "python",
   "pygments_lexer": "ipython3",
   "version": "3.12.2"
  }
 },
 "nbformat": 4,
 "nbformat_minor": 4
}
