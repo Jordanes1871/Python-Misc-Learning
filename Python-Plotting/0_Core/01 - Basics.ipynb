{
 "cells": [
  {
   "cell_type": "markdown",
   "metadata": {},
   "source": [
    "![alt text](python.png \"Title\")"
   ]
  },
  {
   "cell_type": "markdown",
   "metadata": {},
   "source": [
    "# Python basics"
   ]
  },
  {
   "cell_type": "markdown",
   "metadata": {},
   "source": [
    "## Objects and types"
   ]
  },
  {
   "cell_type": "code",
   "execution_count": 2,
   "metadata": {},
   "outputs": [
    {
     "name": "stdout",
     "output_type": "stream",
     "text": [
      "\n"
     ]
    }
   ],
   "source": [
    "# Python is an object-oriented programming language. \n",
    "# Everything is an object in Python, including each of the following:\n",
    "\n",
    "10         # an integer\n",
    "\"Hello\"    # a string \n",
    "True       # a boolean\n",
    "None       # the None object\n",
    "['a', 'b'] # a list\n",
    "print      # a function, one of the many available in Python\n",
    "print()    # a function outcome"
   ]
  },
  {
   "cell_type": "code",
   "execution_count": 1,
   "metadata": {},
   "outputs": [
    {
     "name": "stdout",
     "output_type": "stream",
     "text": [
      "hello is a <class 'str'>\n",
      "-1 is a <class 'int'>\n",
      "3.1416 is a <class 'float'>\n",
      "True is a <class 'bool'>\n",
      "None is a <class 'NoneType'>\n",
      "<built-in function print> is a <class 'builtin_function_or_method'>\n"
     ]
    }
   ],
   "source": [
    "# Python is strongly typed and type is dynamically assigned.\n",
    "# Python follows the duck-typing philosophy: \"if it walks like a duck and quacks like a duck, then it's a duck\"\n",
    "\n",
    "# See how 'item' was dynamically assigned a type based on the assigned value:\n",
    "item = 'hello' \n",
    "print(item, \"is a\", type(item))\n",
    "\n",
    "item = -1       \n",
    "print(item, \"is a\",type(item))\n",
    "\n",
    "item = 3.1416\n",
    "print(item, \"is a\",type(item))\n",
    "\n",
    "item = True    \n",
    "print(item, \"is a\",type(item))\n",
    "\n",
    "item = None    \n",
    "print(item, \"is a\",type(item))\n",
    "\n",
    "item = print # notice the absence of (). We're not calling the function, just passing a reference.\n",
    "print(item, \"is a\",type(item))"
   ]
  },
  {
   "cell_type": "code",
   "execution_count": 3,
   "metadata": {},
   "outputs": [
    {
     "ename": "NameError",
     "evalue": "name 'hello' is not defined",
     "output_type": "error",
     "traceback": [
      "\u001b[1;31m---------------------------------------------------------------------------\u001b[0m",
      "\u001b[1;31mNameError\u001b[0m                                 Traceback (most recent call last)",
      "Cell \u001b[1;32mIn[3], line 1\u001b[0m\n\u001b[1;32m----> 1\u001b[0m item \u001b[38;5;241m=\u001b[39m \u001b[43mhello\u001b[49m\n",
      "\u001b[1;31mNameError\u001b[0m: name 'hello' is not defined"
     ]
    }
   ],
   "source": [
    "item = hello"
   ]
  },
  {
   "cell_type": "code",
   "execution_count": 4,
   "metadata": {},
   "outputs": [
    {
     "ename": "NameError",
     "evalue": "name 'A' is not defined",
     "output_type": "error",
     "traceback": [
      "\u001b[1;31m---------------------------------------------------------------------------\u001b[0m",
      "\u001b[1;31mNameError\u001b[0m                                 Traceback (most recent call last)",
      "Cell \u001b[1;32mIn[4], line 3\u001b[0m\n\u001b[0;32m      1\u001b[0m \u001b[38;5;66;03m# Python is case sensitive. Let's see how an error looks like in Python:\u001b[39;00m\n\u001b[0;32m      2\u001b[0m a \u001b[38;5;241m=\u001b[39m \u001b[38;5;241m1\u001b[39m\n\u001b[1;32m----> 3\u001b[0m \u001b[38;5;28mprint\u001b[39m (\u001b[43mA\u001b[49m)\n",
      "\u001b[1;31mNameError\u001b[0m: name 'A' is not defined"
     ]
    }
   ],
   "source": [
    "# Python is case sensitive. Let's see how an error looks like in Python:\n",
    "a = 1\n",
    "print (A)"
   ]
  },
  {
   "cell_type": "markdown",
   "metadata": {},
   "source": [
    "## Multiple assignements in one go"
   ]
  },
  {
   "cell_type": "code",
   "execution_count": 5,
   "metadata": {},
   "outputs": [
    {
     "name": "stdout",
     "output_type": "stream",
     "text": [
      "A= Y\n",
      "B= e\n",
      "C= s\n"
     ]
    },
    {
     "ename": "TypeError",
     "evalue": "cannot unpack non-iterable int object",
     "output_type": "error",
     "traceback": [
      "\u001b[1;31m---------------------------------------------------------------------------\u001b[0m",
      "\u001b[1;31mTypeError\u001b[0m                                 Traceback (most recent call last)",
      "Cell \u001b[1;32mIn[5], line 20\u001b[0m\n\u001b[0;32m     17\u001b[0m \u001b[38;5;28mprint\u001b[39m(\u001b[38;5;124m'\u001b[39m\u001b[38;5;124mC=\u001b[39m\u001b[38;5;124m'\u001b[39m, C)\n\u001b[0;32m     19\u001b[0m \u001b[38;5;66;03m# An integer is not an iterable, so this fails:\u001b[39;00m\n\u001b[1;32m---> 20\u001b[0m A, B, C \u001b[38;5;241m=\u001b[39m \u001b[38;5;241m1\u001b[39m\n",
      "\u001b[1;31mTypeError\u001b[0m: cannot unpack non-iterable int object"
     ]
    }
   ],
   "source": [
    "# Assigns the same value to different objects\n",
    "A = B = 1 \n",
    "\n",
    "# Assigns different values to different objects\n",
    "A, B, C = 1, \"Hello\", True\n",
    "\n",
    "# To quickly swap values between variables (how beautiful!)\n",
    "A, B = B, A\n",
    "\n",
    "# This is interpreted as a Tuple assignement (see Data Structures)\n",
    "A = 1, 2\n",
    "\n",
    "# This works but 1) not the way you might think 2) only because 'Yes' is an iterable object (see Data Structures).\n",
    "A, B, C = \"Yes\"\n",
    "print('A=', A)\n",
    "print('B=', B)\n",
    "print('C=', C)\n",
    "\n",
    "# An integer is not an iterable, so this fails:\n",
    "A, B, C = 1"
   ]
  },
  {
   "cell_type": "markdown",
   "metadata": {},
   "source": [
    "## Object-oriented programming"
   ]
  },
  {
   "cell_type": "code",
   "execution_count": 6,
   "metadata": {},
   "outputs": [
    {
     "name": "stdout",
     "output_type": "stream",
     "text": [
      "HELLO\n"
     ]
    }
   ],
   "source": [
    "# Python is a high-level language. Objects have with methods and properties, accessible with the dot sign.\n",
    "# We'll see example for properties with more complex objects\n",
    "\n",
    "# upper() is a method to uppercase string objects. Python will raise an error if you use it on other objects.\n",
    "a = \"hello\"\n",
    "b = a.upper()\n",
    "print (b)"
   ]
  },
  {
   "cell_type": "code",
   "execution_count": 7,
   "metadata": {},
   "outputs": [
    {
     "name": "stdout",
     "output_type": "stream",
     "text": [
      "['__add__', '__class__', '__contains__', '__delattr__', '__dir__', '__doc__', '__eq__', '__format__', '__ge__', '__getattribute__', '__getitem__', '__getnewargs__', '__getstate__', '__gt__', '__hash__', '__init__', '__init_subclass__', '__iter__', '__le__', '__len__', '__lt__', '__mod__', '__mul__', '__ne__', '__new__', '__reduce__', '__reduce_ex__', '__repr__', '__rmod__', '__rmul__', '__setattr__', '__sizeof__', '__str__', '__subclasshook__', 'capitalize', 'casefold', 'center', 'count', 'encode', 'endswith', 'expandtabs', 'find', 'format', 'format_map', 'index', 'isalnum', 'isalpha', 'isascii', 'isdecimal', 'isdigit', 'isidentifier', 'islower', 'isnumeric', 'isprintable', 'isspace', 'istitle', 'isupper', 'join', 'ljust', 'lower', 'lstrip', 'maketrans', 'partition', 'removeprefix', 'removesuffix', 'replace', 'rfind', 'rindex', 'rjust', 'rpartition', 'rsplit', 'rstrip', 'split', 'splitlines', 'startswith', 'strip', 'swapcase', 'title', 'translate', 'upper', 'zfill']\n"
     ]
    }
   ],
   "source": [
    "# You can easily see all the available methods of an object\n",
    "print(dir(\"Hello\"))"
   ]
  },
  {
   "cell_type": "code",
   "execution_count": 8,
   "metadata": {},
   "outputs": [
    {
     "name": "stdout",
     "output_type": "stream",
     "text": [
      "['__add__', '__class__', '__contains__', '__delattr__', '__dir__', '__doc__', '__eq__', '__format__', '__ge__', '__getattribute__', '__getitem__', '__getnewargs__', '__getstate__', '__gt__', '__hash__', '__init__', '__init_subclass__', '__iter__', '__le__', '__len__', '__lt__', '__mod__', '__mul__', '__ne__', '__new__', '__reduce__', '__reduce_ex__', '__repr__', '__rmod__', '__rmul__', '__setattr__', '__sizeof__', '__str__', '__subclasshook__', 'capitalize', 'casefold', 'center', 'count', 'encode', 'endswith', 'expandtabs', 'find', 'format', 'format_map', 'index', 'isalnum', 'isalpha', 'isascii', 'isdecimal', 'isdigit', 'isidentifier', 'islower', 'isnumeric', 'isprintable', 'isspace', 'istitle', 'isupper', 'join', 'ljust', 'lower', 'lstrip', 'maketrans', 'partition', 'removeprefix', 'removesuffix', 'replace', 'rfind', 'rindex', 'rjust', 'rpartition', 'rsplit', 'rstrip', 'split', 'splitlines', 'startswith', 'strip', 'swapcase', 'title', 'translate', 'upper', 'zfill']\n"
     ]
    }
   ],
   "source": [
    "a='hello'\n",
    "print(dir(a))"
   ]
  },
  {
   "cell_type": "code",
   "execution_count": 9,
   "metadata": {},
   "outputs": [
    {
     "data": {
      "text/plain": [
       "['Hello', 'world']"
      ]
     },
     "execution_count": 9,
     "metadata": {},
     "output_type": "execute_result"
    }
   ],
   "source": [
    "# You can chain methods using dots:\n",
    "a = \"   hello    world   \"\n",
    "b = a.strip().capitalize().split() # Executed from left to right.\n",
    "\n",
    "# In Jupyter Notebook, you can print an object with a simple reference (only one per cell)\n",
    "b"
   ]
  },
  {
   "cell_type": "code",
   "execution_count": 10,
   "metadata": {},
   "outputs": [
    {
     "name": "stdout",
     "output_type": "stream",
     "text": [
      "O-L-L-E-H\n"
     ]
    }
   ],
   "source": [
    "# Not entering into the 'how', let's just admire the density\n",
    "a = \" Hello \"\n",
    "print ('-'.join( a.strip().upper() )[::-1] )"
   ]
  },
  {
   "cell_type": "code",
   "execution_count": 7,
   "metadata": {},
   "outputs": [
    {
     "name": "stdout",
     "output_type": "stream",
     "text": [
      "Help on built-in function capitalize:\n",
      "\n",
      "capitalize() method of builtins.str instance\n",
      "    Return a capitalized version of the string.\n",
      "    \n",
      "    More specifically, make the first character have upper case and the rest lower\n",
      "    case.\n",
      "\n"
     ]
    }
   ],
   "source": [
    "# Get help on built-in functions:\n",
    "help(\"hello\".capitalize)"
   ]
  },
  {
   "cell_type": "markdown",
   "metadata": {},
   "source": [
    "## Basic maths"
   ]
  },
  {
   "cell_type": "code",
   "execution_count": null,
   "metadata": {},
   "outputs": [],
   "source": [
    "# Basic maths in Python\n",
    "\n",
    "print (2+3)     # addition\n",
    "print (2*3)     # multiplication\n",
    "print (2/3)     # division\n",
    "print (10%3)    # division remainder\n",
    "print (2**3)    # exponentiation \n",
    "\n",
    "print ( (2 - 3) * 4 **5) # follows normal rules of calculus \n",
    "\n",
    "# There's (much) more. Example:\n",
    "from math import *\n",
    "print (sqrt(9) )\n",
    "print (pi)\n",
    "print (log(10))\n",
    "print (e)\n",
    "\n",
    "# For advanced maths stuff, check out the library NumPy (SciPy ecosystem)"
   ]
  },
  {
   "cell_type": "code",
   "execution_count": 9,
   "metadata": {},
   "outputs": [
    {
     "name": "stdout",
     "output_type": "stream",
     "text": [
      "1\n",
      "2\n",
      "1\n"
     ]
    }
   ],
   "source": [
    "# Incrementing an integer\n",
    "a = 0\n",
    "\n",
    "a = a + 1 # if a is not known yet, Python will raise an error\n",
    "print(a)\n",
    "\n",
    "a += 1 # same but more compact\n",
    "print(a)\n",
    "\n",
    "# Decrementing an integer\n",
    "a -= 1\n",
    "print(a)"
   ]
  },
  {
   "cell_type": "code",
   "execution_count": 20,
   "metadata": {},
   "outputs": [
    {
     "name": "stdout",
     "output_type": "stream",
     "text": [
      "False\n",
      "True\n",
      "True\n",
      "False\n",
      "False\n"
     ]
    }
   ],
   "source": [
    "# Comparisons\n",
    "\n",
    "a = 1\n",
    "b = 2\n",
    "\n",
    "print( a>b)\n",
    "print( a<b)\n",
    "print( a<=b)\n",
    "print( a>=b)\n",
    "print( a==b) # Two equal signs for comparison, one for assignement..."
   ]
  },
  {
   "cell_type": "markdown",
   "metadata": {},
   "source": [
    "## Namespaces"
   ]
  },
  {
   "cell_type": "markdown",
   "metadata": {},
   "source": [
    "__Namespaces__ are very important in Python. They are the way to make sure all the object names in a program are unique and can be used without conflict. For example, you can define a variable with the same name in different namespaces and assign different values (different scope).\n",
    "\n",
    "* the __Global Namespace__ includes names from various imported modules that you are using in a project. It is created when the module is included in the project, and it lasts until the script ends.\n",
    "* a __Local Namespace__: includes names inside a function. This namespace is created when a function is called, and it only lasts until the function returns.\n",
    "* the __Built-in Namespace__: includes built-in functions and built-in exception names."
   ]
  },
  {
   "cell_type": "code",
   "execution_count": 11,
   "metadata": {},
   "outputs": [
    {
     "name": "stdout",
     "output_type": "stream",
     "text": [
      "Global namespace ['A', 'B', 'C', 'In', 'Out', '_', '_9', '__', '___', '__builtin__', '__builtins__', '__doc__', '__loader__', '__name__', '__package__', '__spec__', '__vsc_ipynb_file__', '_dh', '_i', '_i1', '_i10', '_i11', '_i2', '_i3', '_i4', '_i5', '_i6', '_i7', '_i8', '_i9', '_ih', '_ii', '_iii', '_oh', 'a', 'b', 'exit', 'get_ipython', 'item', 'open', 'quit'] \n",
      "\n",
      "Local namespace for myfunction ['a']\n",
      "Value for local a: 2\n",
      "Value for global a: 1\n"
     ]
    }
   ],
   "source": [
    "# The built-in dir() function returns a list of names in the current namespace.\n",
    "\n",
    "# In this example, we have two variables 'a' living peacefully, one in the Global Namespace and one in the Local Namespace\n",
    "\n",
    "a = 1\n",
    "print(\"Global namespace\", dir(), \"\\n\")\n",
    "\n",
    "def myfunction():\n",
    "    a = 2\n",
    "    print(\"Local namespace for myfunction\", dir())\n",
    "    print('Value for local a:', a)\n",
    "\n",
    "myfunction()\n",
    "\n",
    "# Global variable 'a' remains unchanged\n",
    "print('Value for global a:', a)\n",
    "\n",
    "# we'll see much more of that when talking about modules, functions and classes"
   ]
  },
  {
   "cell_type": "markdown",
   "metadata": {},
   "source": [
    "## A key feature for SAS programmers?"
   ]
  },
  {
   "cell_type": "code",
   "execution_count": 18,
   "metadata": {},
   "outputs": [],
   "source": [
    "# Feel free to add semi-colons if you want :-) \n",
    "a=1;"
   ]
  },
  {
   "cell_type": "markdown",
   "metadata": {},
   "source": [
    "__________________________________________________\n",
    "Nicolas Dupuis, Methodology and Innovation (IDAR C&SP), 2020+"
   ]
  }
 ],
 "metadata": {
  "kernelspec": {
   "display_name": "Python 3 (ipykernel)",
   "language": "python",
   "name": "python3"
  },
  "language_info": {
   "codemirror_mode": {
    "name": "ipython",
    "version": 3
   },
   "file_extension": ".py",
   "mimetype": "text/x-python",
   "name": "python",
   "nbconvert_exporter": "python",
   "pygments_lexer": "ipython3",
   "version": "3.12.2"
  }
 },
 "nbformat": 4,
 "nbformat_minor": 4
}
