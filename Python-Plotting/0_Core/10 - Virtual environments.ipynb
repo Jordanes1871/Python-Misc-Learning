{
 "cells": [
  {
   "cell_type": "markdown",
   "id": "24614c06",
   "metadata": {},
   "source": [
    "![alt text](python.png \"Title\")"
   ]
  },
  {
   "cell_type": "markdown",
   "id": "a69b3864",
   "metadata": {},
   "source": [
    "# Virtual environments"
   ]
  },
  {
   "cell_type": "markdown",
   "id": "762c3bab",
   "metadata": {},
   "source": [
    "## What are these?"
   ]
  },
  {
   "cell_type": "markdown",
   "id": "f30d9cfa",
   "metadata": {},
   "source": [
    "Python virtual environments (aka venv) allow you to install packages in an isolated place instead of the global area."
   ]
  },
  {
   "cell_type": "markdown",
   "id": "21c0b391",
   "metadata": {},
   "source": [
    "## Why do we needs them?"
   ]
  },
  {
   "cell_type": "markdown",
   "id": "f71a0c5d",
   "metadata": {},
   "source": [
    "By default, Python (with the pip command) installs packages where Python is located (e.g. /opt/python/3.9.12.python). That creates 2 issues if you want to use packages from there: \n",
    "\n",
    "1) The server administrator has write access there, you don't... You can't install new packages there\n",
    "2) Packages upgrade by the admin may break your code!\n",
    "\n",
    "Imagine you start a project A with Pandas 1.1. You want the results to be reproductible over time. If you start a new project B later, you want to benefit from Pandas upgrades, without impacting project A.\n",
    "\n",
    "Virtual environments are the answer. They encapsulate and freeze the Python kernel and any packages that you install. You can have as many venv as you have projects"
   ]
  },
  {
   "cell_type": "markdown",
   "id": "b57ec3b7",
   "metadata": {},
   "source": [
    "## How to create them?"
   ]
  },
  {
   "cell_type": "markdown",
   "id": "ca23bd52",
   "metadata": {},
   "source": [
    "**Place yourself in your project:**\n",
    "cd /home/me/my_project\n",
    "\n",
    "**Create the venv:**\n",
    "python -m venv venv\n",
    "\n",
    "**Activate the venv:**\n",
    "source venv/bin/activate\n",
    "\n",
    "You are now in your venv:\n",
    "1) the python kernel points to venv/bin\n",
    "2) pip will install packages in venv/lib/python.xx/site-packages\n",
    "\n",
    "**Deactivate the venv:**\n",
    "deactivate"
   ]
  },
  {
   "cell_type": "markdown",
   "id": "37f2e005",
   "metadata": {},
   "source": [
    "## My packages "
   ]
  },
  {
   "cell_type": "code",
   "execution_count": 2,
   "id": "995e8b92",
   "metadata": {},
   "outputs": [
    {
     "name": "stdout",
     "output_type": "stream",
     "text": [
      "1.5.3\n"
     ]
    }
   ],
   "source": [
    "import pandas\n",
    "print(pandas.__version__)"
   ]
  },
  {
   "cell_type": "markdown",
   "id": "aa253b6e",
   "metadata": {},
   "source": [
    "**Get a list of the packages you installed in your venv:**\n",
    "pip freeze > requirements.txt\n",
    "\n",
    "This create a txt file, whose name is recommended (and sometimes mandatory), with all the packages installed and their version.\n"
   ]
  },
  {
   "cell_type": "markdown",
   "id": "9f5fb246",
   "metadata": {},
   "source": [
    "__________________________________________________\n",
    "Nicolas Dupuis, Methodology and Innovation (IDAR C&SP), 2020+"
   ]
  }
 ],
 "metadata": {
  "kernelspec": {
   "display_name": "Python 3 (ipykernel)",
   "language": "python",
   "name": "python3"
  },
  "language_info": {
   "codemirror_mode": {
    "name": "ipython",
    "version": 3
   },
   "file_extension": ".py",
   "mimetype": "text/x-python",
   "name": "python",
   "nbconvert_exporter": "python",
   "pygments_lexer": "ipython3",
   "version": "3.9.12"
  }
 },
 "nbformat": 4,
 "nbformat_minor": 5
}
