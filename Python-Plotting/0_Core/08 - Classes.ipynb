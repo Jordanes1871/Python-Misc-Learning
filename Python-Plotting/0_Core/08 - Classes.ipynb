{
 "cells": [
  {
   "cell_type": "markdown",
   "metadata": {},
   "source": [
    "![alt text](python.png \"Title\")"
   ]
  },
  {
   "cell_type": "markdown",
   "metadata": {},
   "source": [
    "# Python classes"
   ]
  },
  {
   "cell_type": "markdown",
   "metadata": {},
   "source": [
    "Let's use the benefit of the object-oriented philosophy. Classes are object factories: you create an instance object using a class blueprint. Creating objects is great to reuse code, encapsulate things, avoid global variables and various side effects.\n",
    "\n",
    "You can check this out too: https://dev.to/sojinsamuel/object-oriented-programming-principles-made-easy-for-2022-noobs-1c6n"
   ]
  },
  {
   "cell_type": "code",
   "execution_count": null,
   "metadata": {},
   "outputs": [],
   "source": [
    "# Simple example\n",
    "\n",
    "class Animal: # It's customary to capitalize class names\n",
    "    \n",
    "    # This function is automatically called when the object is created (= instantiation). \n",
    "    # 'self' is a reference to the current instance of the class. Name it as you want but 'self' is customary.\n",
    "    def __init__(self):\n",
    "        \n",
    "        self.name = \"Monkeys\" # we'll get rid of the hardcodes later\n",
    "        self.mammal = True\n",
    "        \n",
    "# Instantiate the class: we use the class definitions as blue print for the new object\n",
    "monkeys = Animal()\n",
    "\n",
    "# we can now access object properties with the dot syntax\n",
    "animal_name = monkeys.name\n",
    "#print(animal_name)\n",
    "\n",
    "print ( \"{} are{} mammals.\".format(animal_name, \"\" if monkeys.mammal == True else \"not\"))\n",
    "\n",
    "# -> We have encapsulated info about monkeys in a specific object. "
   ]
  },
  {
   "cell_type": "code",
   "execution_count": null,
   "metadata": {},
   "outputs": [],
   "source": [
    "print('A class:', type(Animal)) # 'Type' type is a metaclass object. Think of it as one level up a class\n",
    "print('A class instance:', type(monkeys))"
   ]
  },
  {
   "cell_type": "code",
   "execution_count": null,
   "metadata": {},
   "outputs": [],
   "source": [
    "# As we saw, we can do this: \n",
    "n = monkeys.name\n",
    "\n",
    "# but we can't do that:\n",
    "my_attribute = 'name'\n",
    "try: \n",
    "    print( monkeys.my_attribute ) # that fails because the monkey object has no attribute 'my_attribute'\n",
    "except Exception as error:\n",
    "    print(repr(error))\n",
    "\n",
    "# For accessing attributes dynamically, use getattr():\n",
    "print('With dynamic access:', getattr(monkeys, my_attribute) )\n"
   ]
  },
  {
   "cell_type": "code",
   "execution_count": null,
   "metadata": {},
   "outputs": [],
   "source": [
    "# Similarly, for **setting** attributes dynamically in an class instance, use setattr()\n",
    "new_attribute = 'opposible_thumb'\n",
    "setattr(monkeys, new_attribute, True)\n",
    "\n",
    "print(monkeys.opposible_thumb)"
   ]
  },
  {
   "cell_type": "code",
   "execution_count": null,
   "metadata": {},
   "outputs": [],
   "source": [
    "# Passing arguments at instantiation\n",
    "\n",
    "class Animal:\n",
    "    \n",
    "    # It can take arguments, the first argument MUST be the reference to the current class instance (i.e. self)\n",
    "    def __init__(self, name: str, mammal: bool):\n",
    "        \n",
    "        self.name = name\n",
    "        self.mammal = mammal\n",
    "\n",
    "monkeys = Animal(\"Monkeys\", True)\n",
    "chickens = Animal(\"Chickens\", False)\n",
    "\n",
    "for animal in [monkeys, chickens]:\n",
    "    name, mammal = getattr(animal, 'name'), getattr(animal, 'mammal')\n",
    "    print ( \"{} are{} mammals.\".format(name, \"\" if mammal == True else \" not\"))\n"
   ]
  },
  {
   "cell_type": "code",
   "execution_count": null,
   "metadata": {},
   "outputs": [],
   "source": [
    "# Variables scope\n",
    "\n",
    "class BabelTower:\n",
    "    \n",
    "    hello = \"Bonjour\" # class variable\n",
    "    \n",
    "    def __init__(self):\n",
    "        \n",
    "        hello = \"Guttentag\"       # local variable (i.e not available outside this function)\n",
    "        self.hello = \"Buongiorno\" # instance variable (i.e. will be available in the instance object)\n",
    "\n",
    "hello = \"Ola\" # global variable\n",
    "        \n",
    "bt = BabelTower()\n",
    "\n",
    "print(\"Global variable: \", hello)\n",
    "print(\"Class variable: \", BabelTower.hello)\n",
    "print(\"Instance variable: \", bt.hello)\n",
    "\n",
    "# you can update both class and instance variable\n",
    "BabelTower.hello = \"Salut\"  # -> any new object built using that class will get this value\n",
    "bt.hello = \"Ciao\"           # -> this affects only this instance object\n",
    "\n",
    "# you can add variables too, same logic\n",
    "BabelTower.bye = \"Aurevoir\" \n",
    "bt.bye = \"Ciao\""
   ]
  },
  {
   "cell_type": "code",
   "execution_count": null,
   "metadata": {},
   "outputs": [],
   "source": [
    "# Object methods\n",
    "\n",
    "class Animal:\n",
    "    \n",
    "    def __init__(self, name, mammal, emphasize='I think that '):\n",
    "        self.name = name\n",
    "        self.mammal = mammal\n",
    "        self.emphasize = emphasize\n",
    "\n",
    "    # this is a method: a function available for that object\n",
    "    def print_mammal_status(self):        \n",
    "        print ( \"{}{} are{} mammals.\".format(self.emphasize, self.name, \"\" if self.mammal == True else \" not\"))   \n",
    "\n",
    "    # and that's another method\n",
    "    def get_statement(self, emphasize) -> str:\n",
    "        ''' function returning a string '''\n",
    "        \n",
    "        s = \"{}, {} really are{} mammals.\"\n",
    "        s = s.format(emphasize, self.name.lower(), \"\" if self.mammal == True else \" not\")\n",
    "        \n",
    "        return s\n",
    "    \n",
    "monkeys = Animal(\"Monkeys\", True) \n",
    "\n",
    "# call method\n",
    "monkeys.print_mammal_status()\n",
    "\n",
    "# call other method, which returns an object (i.e. a string)\n",
    "sentence = monkeys.get_statement(emphasize = \"Oh yeah\") # note that I can pass an argument to that method\n",
    "print(sentence)\n",
    "\n"
   ]
  },
  {
   "cell_type": "markdown",
   "metadata": {},
   "source": [
    "## Inheritance"
   ]
  },
  {
   "cell_type": "markdown",
   "metadata": {},
   "source": [
    "Inheritance: allows us to define a class that inherits all the methods and properties from another class.\n",
    "* Parent class is the class being inherited from\n",
    "* Child class is the class that inherits from another class"
   ]
  },
  {
   "cell_type": "code",
   "execution_count": 1,
   "metadata": {},
   "outputs": [
    {
     "name": "stdout",
     "output_type": "stream",
     "text": [
      "Primates are from the Animal family\n"
     ]
    }
   ],
   "source": [
    "# Parent class\n",
    "class Animal:\n",
    "    def __init__(self, name):\n",
    "        self.name = name\n",
    "    \n",
    "    def get_name(self):\n",
    "        print(f\"{self.name} are from the {__class__.__name__} family\") # name of the class instance\n",
    "        \n",
    "# Child class, will inherit all properties/methods from parent class Animal\n",
    "class Primate(Animal):\n",
    "    pass # we don't want to add any properties/methods in the child class, for now.\n",
    "    \n",
    "p = Primate(\"Primates\")\n",
    "p.get_name()"
   ]
  },
  {
   "cell_type": "code",
   "execution_count": 2,
   "metadata": {},
   "outputs": [
    {
     "name": "stdout",
     "output_type": "stream",
     "text": [
      "Monkeys are from the Animal family\n"
     ]
    },
    {
     "data": {
      "text/plain": [
       "4"
      ]
     },
     "execution_count": 2,
     "metadata": {},
     "output_type": "execute_result"
    }
   ],
   "source": [
    "# Let's define a bit more Primates\n",
    "class Primate(Animal):\n",
    "    def __init__(self, name):   # The child's __init__() overrides what it got from the parent class\n",
    "        \n",
    "        super().__init__(name)  # Inherit that instance var from Parent Class\n",
    "        self.limbs = 4          # a specific instance var to Primate\n",
    "    \n",
    "p = Primate('Monkeys')\n",
    "p.get_name()\n",
    "p.limbs"
   ]
  },
  {
   "cell_type": "markdown",
   "metadata": {},
   "source": [
    "## Polymorphism"
   ]
  },
  {
   "cell_type": "markdown",
   "metadata": {},
   "source": [
    "Polymorphism is the ability to leverage the same interface for different underlying forms such as data types or classes. This permits functions to use entities of different types at different times. This is supported by the duck-typing philosophy in Python."
   ]
  },
  {
   "cell_type": "code",
   "execution_count": null,
   "metadata": {},
   "outputs": [],
   "source": [
    "# Polymorphism with classes and functions.\n",
    "\n",
    "class Cat:\n",
    "    def __init__(self, name):\n",
    "        self.name = name\n",
    "\n",
    "    def info(self):\n",
    "        print(f\"I am a cat. My name is {self.name}.\", end= ' ') # overrides default value for end (\\n)\n",
    "\n",
    "    def make_sound(self):\n",
    "        print(\"Meow!\", end= ' ')\n",
    "\n",
    "\n",
    "class Rabbit:\n",
    "    def __init__(self, name):\n",
    "        self.name = name\n",
    "\n",
    "    def info(self):\n",
    "        print(f\"I am a rabbit. My name is {self.name}.\", end= ' ')\n",
    "\n",
    "    def make_sound(self):\n",
    "        None\n",
    "\n",
    "# Rabbit and Cat are two different classes, no relationship. They share a common shape though.\n",
    "        \n",
    "# instantiate 2 objects\n",
    "Kitty, Fluffy = Cat(\"Kitty\"), Rabbit(\"Fluffy\")\n",
    "\n",
    "# See how that common shape comes in handy:\n",
    "for pet in (Kitty, Fluffy):\n",
    "    pet.info()\n",
    "    pet.make_sound()\n",
    "    print('\\n')"
   ]
  },
  {
   "cell_type": "markdown",
   "metadata": {},
   "source": [
    "__________________________________________________\n",
    "Nicolas Dupuis, Methodology and Innovation (IDAR C&SP), 2020+"
   ]
  }
 ],
 "metadata": {
  "kernelspec": {
   "display_name": "Python 3 (ipykernel)",
   "language": "python",
   "name": "python3"
  },
  "language_info": {
   "codemirror_mode": {
    "name": "ipython",
    "version": 3
   },
   "file_extension": ".py",
   "mimetype": "text/x-python",
   "name": "python",
   "nbconvert_exporter": "python",
   "pygments_lexer": "ipython3",
   "version": "3.9.12"
  }
 },
 "nbformat": 4,
 "nbformat_minor": 2
}
