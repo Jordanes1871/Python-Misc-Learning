{
 "cells": [
  {
   "cell_type": "markdown",
   "metadata": {},
   "source": [
    "![alt text](python.png \"Title\")"
   ]
  },
  {
   "cell_type": "markdown",
   "metadata": {},
   "source": [
    "# Code libraries"
   ]
  },
  {
   "cell_type": "markdown",
   "metadata": {},
   "source": [
    "Organize your code easily with Python. "
   ]
  },
  {
   "cell_type": "markdown",
   "metadata": {},
   "source": [
    "## Modules"
   ]
  },
  {
   "cell_type": "markdown",
   "metadata": {},
   "source": [
    "In Python, a module is an external program that you can import and use. It doesn't have to be all written in Python. For example, parts of 're' and 'pandas' are written in C (that runs faster).\n",
    "\n",
    "https://realpython.com/python-modules-packages/"
   ]
  },
  {
   "cell_type": "code",
   "execution_count": 1,
   "metadata": {},
   "outputs": [],
   "source": [
    "# I created a Python program which I saved in this directory, under 'myModule.py'. Let's import it:\n",
    "import myModule\n",
    "\n",
    "# As a result, the 'myModule' namespace is now created and everything in the module was loaded inside"
   ]
  },
  {
   "cell_type": "code",
   "execution_count": 2,
   "metadata": {},
   "outputs": [
    {
     "data": {
      "text/plain": [
       "<module 'myModule' from '/home/ndupuis/projects/python_training/0_Core/myModule.py'>"
      ]
     },
     "execution_count": 2,
     "metadata": {},
     "output_type": "execute_result"
    }
   ],
   "source": [
    "# For efficiency reasons, a module is only loaded once per interpreter session.\n",
    "# If the module was loaded and then modified, you can reload it:\n",
    "import importlib\n",
    "importlib.reload(myModule)"
   ]
  },
  {
   "cell_type": "code",
   "execution_count": 3,
   "metadata": {},
   "outputs": [
    {
     "name": "stdout",
     "output_type": "stream",
     "text": [
      "Well, hello world!\n"
     ]
    }
   ],
   "source": [
    "# The module contains a hello() function. We can now use it:\n",
    "myModule.hello('world')"
   ]
  },
  {
   "cell_type": "code",
   "execution_count": 4,
   "metadata": {},
   "outputs": [
    {
     "ename": "NameError",
     "evalue": "name 'hello' is not defined",
     "output_type": "error",
     "traceback": [
      "\u001b[1;31m---------------------------------------------------------------------------\u001b[0m",
      "\u001b[1;31mNameError\u001b[0m                                 Traceback (most recent call last)",
      "\u001b[1;32m<ipython-input-4-0b5e7dbbe154>\u001b[0m in \u001b[0;36m<module>\u001b[1;34m\u001b[0m\n\u001b[0;32m      1\u001b[0m \u001b[1;31m# The following will fail, hello() is not loaded in the global namespace\u001b[0m\u001b[1;33m\u001b[0m\u001b[1;33m\u001b[0m\u001b[1;33m\u001b[0m\u001b[0m\n\u001b[1;32m----> 2\u001b[1;33m \u001b[0mhello\u001b[0m\u001b[1;33m(\u001b[0m\u001b[1;34m'world'\u001b[0m\u001b[1;33m)\u001b[0m\u001b[1;33m\u001b[0m\u001b[1;33m\u001b[0m\u001b[0m\n\u001b[0m",
      "\u001b[1;31mNameError\u001b[0m: name 'hello' is not defined"
     ]
    }
   ],
   "source": [
    "# The following will fail because hello() is not loaded in the global namespace\n",
    "hello('world')"
   ]
  },
  {
   "cell_type": "code",
   "execution_count": 5,
   "metadata": {},
   "outputs": [
    {
     "data": {
      "text/plain": [
       "['__builtins__',\n",
       " '__cached__',\n",
       " '__doc__',\n",
       " '__file__',\n",
       " '__loader__',\n",
       " '__name__',\n",
       " '__package__',\n",
       " '__spec__',\n",
       " 'countries',\n",
       " 'hello']"
      ]
     },
     "execution_count": 5,
     "metadata": {},
     "output_type": "execute_result"
    }
   ],
   "source": [
    "# here's a list of the objects in the module (built-in or not)\n",
    "dir(myModule)"
   ]
  },
  {
   "cell_type": "code",
   "execution_count": 1,
   "metadata": {},
   "outputs": [
    {
     "name": "stdout",
     "output_type": "stream",
     "text": [
      "['ArrowDtype', 'BooleanDtype', 'Categorical', 'CategoricalDtype', 'CategoricalIndex']\n",
      "1.5.3\n"
     ]
    }
   ],
   "source": [
    "# you can assign a different namespace if you want, like a nickname. We usually do this for pandas:\n",
    "import pandas as pd\n",
    "\n",
    "# pd is a namespace now. Let's show 5 members.\n",
    "print(dir(pd)[0:5])\n",
    "\n",
    "# and you can find out version number easily:\n",
    "print(pd.__version__)"
   ]
  },
  {
   "cell_type": "code",
   "execution_count": 7,
   "metadata": {},
   "outputs": [
    {
     "name": "stdout",
     "output_type": "stream",
     "text": [
      "Well, hello USA!\n"
     ]
    }
   ],
   "source": [
    "# We could specify more precisely what we need to import:\n",
    "from myModule import hello, countries\n",
    "\n",
    "# As a result, hello() is now in the global namespace:\n",
    "hello(countries[0])"
   ]
  },
  {
   "cell_type": "code",
   "execution_count": 8,
   "metadata": {},
   "outputs": [],
   "source": [
    "# You could also import everything from the module into the global namespace:\n",
    "from myModule import *\n",
    "\n",
    "# Be careful however: unless you know what you're doing, this is **bad** practice.\n",
    "# Imagine if myModule contained a function called print(). That would overwrite the 'official' one."
   ]
  },
  {
   "cell_type": "code",
   "execution_count": 9,
   "metadata": {},
   "outputs": [],
   "source": [
    "# Module search path: sys.path returns a list of folders where Python looks for importing modules:\n",
    "import sys\n",
    "sys.path\n",
    "\n",
    "# You can add more:\n",
    "sys.path.append(r'C:\\Users\\john')\n",
    "\n",
    "# and then import..."
   ]
  },
  {
   "cell_type": "markdown",
   "metadata": {},
   "source": [
    "## Packages"
   ]
  },
  {
   "cell_type": "markdown",
   "metadata": {},
   "source": [
    "A package is a collection of modules in a folder"
   ]
  },
  {
   "cell_type": "code",
   "execution_count": 6,
   "metadata": {},
   "outputs": [
    {
     "name": "stdout",
     "output_type": "stream",
     "text": [
      "Guttentag Peter\n",
      "Bonjour Pierre\n"
     ]
    }
   ],
   "source": [
    "# I also created a folder 'myPackage', which contains 2 py programs: hello_de and hello_fr\n",
    "\n",
    "# We can use the dot syntax to locate the modules we need:\n",
    "import myPackage.hello_de, myPackage.hello_fr\n",
    "\n",
    "myPackage.hello_de.hello('Peter')\n",
    "myPackage.hello_fr.hello('Pierre')"
   ]
  },
  {
   "cell_type": "code",
   "execution_count": 12,
   "metadata": {},
   "outputs": [
    {
     "name": "stdout",
     "output_type": "stream",
     "text": [
      "Guttentag Peter\n"
     ]
    }
   ],
   "source": [
    "# Same logic as with just modules\n",
    "from myPackage.hello_de import hello as hello_de\n",
    "hello_de('Peter')"
   ]
  },
  {
   "cell_type": "code",
   "execution_count": null,
   "metadata": {},
   "outputs": [],
   "source": [
    "import myPackage"
   ]
  },
  {
   "cell_type": "markdown",
   "metadata": {},
   "source": [
    "Important: if you place a \\_\\_init\\_\\_.py file in the package root, the code will be executed automatically when the package is imported. This is useful to specify what objects to expose to the world."
   ]
  },
  {
   "cell_type": "markdown",
   "metadata": {},
   "source": [
    "## Python Package Index"
   ]
  },
  {
   "cell_type": "markdown",
   "metadata": {},
   "source": [
    "The Python Package Index (PyPI) is a repository of software for the Python programming language. In April 2020, it contained 230k projects.\n",
    "\n",
    "You can install these packages using the __pip__ command in a terminal (e.g. Windows cmd or Anaconda Prompt). Example with the pandas package:\n",
    "\n",
    "pip install pandas\n",
    "\n",
    "https://pypi.org/"
   ]
  },
  {
   "cell_type": "markdown",
   "metadata": {},
   "source": [
    "__________________________________________________\n",
    "Nicolas Dupuis, Methodology and Innovation (IDAR C&SP), 2020+"
   ]
  }
 ],
 "metadata": {
  "kernelspec": {
   "display_name": "Python 3 (ipykernel)",
   "language": "python",
   "name": "python3"
  },
  "language_info": {
   "codemirror_mode": {
    "name": "ipython",
    "version": 3
   },
   "file_extension": ".py",
   "mimetype": "text/x-python",
   "name": "python",
   "nbconvert_exporter": "python",
   "pygments_lexer": "ipython3",
   "version": "3.9.12"
  }
 },
 "nbformat": 4,
 "nbformat_minor": 4
}
