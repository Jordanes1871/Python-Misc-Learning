{
 "cells": [
  {
   "cell_type": "markdown",
   "metadata": {},
   "source": [
    "# Python Basics"
   ]
  },
  {
   "cell_type": "markdown",
   "metadata": {},
   "source": [
    "## Casting"
   ]
  },
  {
   "cell_type": "code",
   "execution_count": 18,
   "metadata": {},
   "outputs": [
    {
     "name": "stdout",
     "output_type": "stream",
     "text": [
      "<class 'str'>\n",
      "<class 'float'>\n",
      "<class 'int'>\n",
      "<class 'bool'>\n"
     ]
    }
   ],
   "source": [
    "print(type(\"hello\")) #str\n",
    "print(type(10.5)) #float\n",
    "print(type(10)) #int\n",
    "print(type(True)) #bool"
   ]
  },
  {
   "cell_type": "code",
   "execution_count": 19,
   "metadata": {},
   "outputs": [
    {
     "name": "stdout",
     "output_type": "stream",
     "text": [
      "16\n"
     ]
    }
   ],
   "source": [
    "# change float to int\n",
    "size = 16.2\n",
    "print(int(size))"
   ]
  },
  {
   "cell_type": "code",
   "execution_count": 4,
   "metadata": {},
   "outputs": [
    {
     "ename": "TypeError",
     "evalue": "can only concatenate str (not \"int\") to str",
     "output_type": "error",
     "traceback": [
      "\u001b[0;31m---------------------------------------------------------------------------\u001b[0m",
      "\u001b[0;31mTypeError\u001b[0m                                 Traceback (most recent call last)",
      "\u001b[0;32m<ipython-input-4-b3a375ac1d83>\u001b[0m in \u001b[0;36m<module>\u001b[0;34m\u001b[0m\n\u001b[1;32m      1\u001b[0m \u001b[0;31m# Sometimes we need to convert values to perform particular operations, such as using numerical values in strings.\u001b[0m\u001b[0;34m\u001b[0m\u001b[0;34m\u001b[0m\u001b[0;34m\u001b[0m\u001b[0m\n\u001b[1;32m      2\u001b[0m \u001b[0mposition\u001b[0m \u001b[0;34m=\u001b[0m \u001b[0;36m5\u001b[0m\u001b[0;34m\u001b[0m\u001b[0;34m\u001b[0m\u001b[0m\n\u001b[0;32m----> 3\u001b[0;31m \u001b[0mmessage\u001b[0m \u001b[0;34m=\u001b[0m \u001b[0;34m\"You are number \"\u001b[0m \u001b[0;34m+\u001b[0m \u001b[0mposition\u001b[0m \u001b[0;34m+\u001b[0m \u001b[0;34m\"in the queue\"\u001b[0m\u001b[0;34m\u001b[0m\u001b[0;34m\u001b[0m\u001b[0m\n\u001b[0m",
      "\u001b[0;31mTypeError\u001b[0m: can only concatenate str (not \"int\") to str"
     ]
    }
   ],
   "source": [
    "# Sometimes we need to convert values to perform particular operations, such as using numerical values in strings.\n",
    "position = 5\n",
    "message = \"You are number \" + position + \"in the queue\""
   ]
  },
  {
   "cell_type": "code",
   "execution_count": 5,
   "metadata": {},
   "outputs": [
    {
     "name": "stdout",
     "output_type": "stream",
     "text": [
      "You are number 5 in the queue\n"
     ]
    }
   ],
   "source": [
    "position = 5\n",
    "message = \"You are number \" + str(position) + \" in the queue\"\n",
    "print(message)"
   ]
  },
  {
   "cell_type": "code",
   "execution_count": 7,
   "metadata": {},
   "outputs": [
    {
     "name": "stdout",
     "output_type": "stream",
     "text": [
      "9\n"
     ]
    }
   ],
   "source": [
    "number = 9.99\n",
    "print(int(number)) #int rounds numbers down always"
   ]
  },
  {
   "cell_type": "code",
   "execution_count": 8,
   "metadata": {},
   "outputs": [
    {
     "data": {
      "text/plain": [
       "{'burger', 'kebab', 'pizza'}"
      ]
     },
     "execution_count": 8,
     "metadata": {},
     "output_type": "execute_result"
    }
   ],
   "source": [
    "choices = ['pizza', 'kebab', 'burger', 'pizza']\n",
    "\n",
    "unique = set(choices) #set conversion identifies unique values in variable\n",
    "print(unique) "
   ]
  },
  {
   "cell_type": "code",
   "execution_count": 12,
   "metadata": {},
   "outputs": [
    {
     "name": "stdout",
     "output_type": "stream",
     "text": [
      "{'James': 25, 'Amanda': 19, 'Mark': 33}\n"
     ]
    }
   ],
   "source": [
    "# The dict() function can take a list of tuples and create a dictionary from them\n",
    "users = dict([\n",
    "    ('James', 25), \n",
    "  ('Amanda', 19), \n",
    "  ('Mark', 33)])\n",
    "\n",
    "print(users)"
   ]
  },
  {
   "cell_type": "code",
   "execution_count": 15,
   "metadata": {},
   "outputs": [
    {
     "name": "stdout",
     "output_type": "stream",
     "text": [
      "('James', 25, 'Amanda', 19, 'Mark', 33)\n"
     ]
    }
   ],
   "source": [
    "# The tuple() function can take a list and create a tuple from them\n",
    "users = tuple(['James', 25,'Amanda', 19, 'Mark', 33])\n",
    "\n",
    "print(users)"
   ]
  },
  {
   "cell_type": "markdown",
   "metadata": {},
   "source": [
    "## Functions"
   ]
  },
  {
   "cell_type": "markdown",
   "metadata": {},
   "source": [
    "### Local Scope "
   ]
  },
  {
   "cell_type": "code",
   "execution_count": 1,
   "metadata": {},
   "outputs": [
    {
     "name": "stdout",
     "output_type": "stream",
     "text": [
      "jordanstevens1992@yahoo.co.uk\n"
     ]
    }
   ],
   "source": [
    "def create_email(name): # function name is create_email and the paramter is name \n",
    "  return name + \"@yahoo.co.uk\"\n",
    "\n",
    "email = create_email(\"jordanstevens1992\")\n",
    "print(email)"
   ]
  },
  {
   "cell_type": "code",
   "execution_count": 2,
   "metadata": {},
   "outputs": [
    {
     "ename": "NameError",
     "evalue": "name 'bonus' is not defined",
     "output_type": "error",
     "traceback": [
      "\u001b[0;31m---------------------------------------------------------------------------\u001b[0m",
      "\u001b[0;31mNameError\u001b[0m                                 Traceback (most recent call last)",
      "\u001b[0;32m<ipython-input-2-546c1c18372c>\u001b[0m in \u001b[0;36m<module>\u001b[0;34m\u001b[0m\n\u001b[1;32m      5\u001b[0m  \u001b[0mprint\u001b[0m\u001b[0;34m(\u001b[0m\u001b[0msalary\u001b[0m \u001b[0;34m+\u001b[0m \u001b[0mbonus\u001b[0m\u001b[0;34m)\u001b[0m\u001b[0;34m\u001b[0m\u001b[0;34m\u001b[0m\u001b[0m\n\u001b[1;32m      6\u001b[0m \u001b[0;34m\u001b[0m\u001b[0m\n\u001b[0;32m----> 7\u001b[0;31m \u001b[0mprint\u001b[0m\u001b[0;34m(\u001b[0m\u001b[0mbonus\u001b[0m\u001b[0;34m)\u001b[0m \u001b[0;31m# error is this indentation\u001b[0m\u001b[0;34m\u001b[0m\u001b[0;34m\u001b[0m\u001b[0m\n\u001b[0m\u001b[1;32m      8\u001b[0m \u001b[0madd_bonus\u001b[0m\u001b[0;34m(\u001b[0m\u001b[0;36m1900\u001b[0m\u001b[0;34m)\u001b[0m\u001b[0;34m\u001b[0m\u001b[0;34m\u001b[0m\u001b[0m\n",
      "\u001b[0;31mNameError\u001b[0m: name 'bonus' is not defined"
     ]
    }
   ],
   "source": [
    "# With a local scope, we can only access or update the variable within the function that created it\n",
    "# try to update/access the variable outside the function block spits out an error\n",
    "def add_bonus(salary):\n",
    " bonus = 100 # variable = bonus\n",
    " print(salary + bonus)\n",
    "\n",
    "print(bonus) # error is this indentation as its outside the function block\n",
    "add_bonus(1900)"
   ]
  },
  {
   "cell_type": "code",
   "execution_count": 3,
   "metadata": {},
   "outputs": [
    {
     "name": "stdout",
     "output_type": "stream",
     "text": [
      "2100\n"
     ]
    }
   ],
   "source": [
    "# With a local scope, we can only access or update the variable within the function that created it\n",
    "def add_bonus(salary):\n",
    " bonus = 100\n",
    " bonus = 200 # update variable here\n",
    " print(salary + bonus)\n",
    "\n",
    "add_bonus(1900)"
   ]
  },
  {
   "cell_type": "code",
   "execution_count": 8,
   "metadata": {},
   "outputs": [
    {
     "name": "stdout",
     "output_type": "stream",
     "text": [
      "40\n"
     ]
    }
   ],
   "source": [
    "def apply_discount(price):\n",
    "  discount = 20 # variable = discount\n",
    "  discount = 10\n",
    "  return price - discount #we use return to update the values\n",
    "\n",
    "final_price = apply_discount(50)\n",
    "print(final_price)"
   ]
  },
  {
   "cell_type": "markdown",
   "metadata": {},
   "source": [
    "### Global Scope "
   ]
  },
  {
   "cell_type": "code",
   "execution_count": 4,
   "metadata": {},
   "outputs": [
    {
     "name": "stdout",
     "output_type": "stream",
     "text": [
      "64\n"
     ]
    }
   ],
   "source": [
    "#Variables created outside of a function block have a global scope, like shipping here.\n",
    "\n",
    "shipping = 10 #shipping is outside the local scope\n",
    "def calculate_total(cart):\n",
    " print(cart + shipping)\n",
    "\n",
    "calculate_total(54)"
   ]
  },
  {
   "cell_type": "code",
   "execution_count": 17,
   "metadata": {},
   "outputs": [
    {
     "name": "stdout",
     "output_type": "stream",
     "text": [
      "Player 1: Mario\n"
     ]
    }
   ],
   "source": [
    "single_player = True # variable single_player is outside the local scope\n",
    "\n",
    "if single_player:\n",
    " player_1 = \"Mario\"\n",
    "print(f\"Player 1: {player_1}\")"
   ]
  },
  {
   "cell_type": "code",
   "execution_count": 18,
   "metadata": {},
   "outputs": [
    {
     "name": "stdout",
     "output_type": "stream",
     "text": [
      "Rent 1000\n",
      "Total 1300\n"
     ]
    }
   ],
   "source": [
    "rent=1000 # rent is outside the local scope\n",
    "def calculate_spendings(groceries): #groceries is the parameter \n",
    "  print(f\"Total {rent + groceries}\")\n",
    "\n",
    "print(f\"Rent {rent}\")\n",
    "calculate_spendings(300)"
   ]
  },
  {
   "cell_type": "markdown",
   "metadata": {},
   "source": [
    "### deciding with functions"
   ]
  },
  {
   "cell_type": "code",
   "execution_count": 21,
   "metadata": {},
   "outputs": [
    {
     "name": "stdout",
     "output_type": "stream",
     "text": [
      "Total: 55\n",
      "Total: 200\n"
     ]
    }
   ],
   "source": [
    "def add_shipping(cart): # function add_shipping and cart is the parameter\n",
    "  if cart < 100:\n",
    "    print(f\"Total: {cart + 10}\")\n",
    "  else:\n",
    "    print(f\"Total: {cart}\")\n",
    "\n",
    "add_shipping(45)\n",
    "add_shipping(200)"
   ]
  },
  {
   "cell_type": "code",
   "execution_count": 19,
   "metadata": {},
   "outputs": [
    {
     "name": "stdout",
     "output_type": "stream",
     "text": [
      "Ready for the next level?\n"
     ]
    }
   ],
   "source": [
    "def show_progress(points):\n",
    "  if points > 1000:\n",
    "    print(\"New highest score!\")  \n",
    "  print(\"Ready for the next level?\")\n",
    "show_progress(900)"
   ]
  },
  {
   "cell_type": "markdown",
   "metadata": {},
   "source": [
    "###  functions with lists"
   ]
  },
  {
   "cell_type": "code",
   "execution_count": 22,
   "metadata": {},
   "outputs": [
    {
     "name": "stdout",
     "output_type": "stream",
     "text": [
      "True\n"
     ]
    }
   ],
   "source": [
    "def is_multiplayer(players): #function identifes if there are 2 players\n",
    "  print(len(players) == 2) #there are 2 players in players so this prints true\n",
    "\n",
    "players = [\"Amy\", \"Jay\"]\n",
    "is_multiplayer(players)\n"
   ]
  },
  {
   "cell_type": "code",
   "execution_count": 23,
   "metadata": {},
   "outputs": [
    {
     "name": "stdout",
     "output_type": "stream",
     "text": [
      "Airing tonight: ['Alien', 'Moon']\n"
     ]
    }
   ],
   "source": [
    "def display_programme(movies): # here the parameter movies stores the elements in movie list whihc is part of the display programme function\n",
    "  print(f\"Airing tonight: {movies}\") \n",
    "\n",
    "movie_list = [\"Alien\", \"Moon\"]\n",
    "display_programme(movie_list) # Pass the movie_list to the function by coding its name between the function's parentheses."
   ]
  },
  {
   "cell_type": "code",
   "execution_count": null,
   "metadata": {},
   "outputs": [],
   "source": [
    "# Here, the parameter movies will store the elements in movie_list, since that's the value we call the function with.\n",
    "def display_programme(movies):\n",
    "  print(\"Airing tonight:\")\n",
    "  print(movies)\n",
    "\n",
    "movie_list = [\"Alien\", \"Moon\"]\n",
    "display_programme(movie_list)"
   ]
  },
  {
   "cell_type": "code",
   "execution_count": 24,
   "metadata": {},
   "outputs": [
    {
     "name": "stdout",
     "output_type": "stream",
     "text": [
      "3\n"
     ]
    }
   ],
   "source": [
    "def count_passengers(passengers): # here the parameter passengers will store the number of passengers in passengers\n",
    "  print(len(passengers)) # stores the numbe of passengers\n",
    "\n",
    "passengers = [\"June\", \"Sam\", \"Lee\"]\n",
    "count_passengers(passengers)"
   ]
  },
  {
   "cell_type": "code",
   "execution_count": 29,
   "metadata": {},
   "outputs": [
    {
     "name": "stdout",
     "output_type": "stream",
     "text": [
      "Game winner: Jay\n"
     ]
    }
   ],
   "source": [
    "def get_winner(top_players): # here the parameter top_players finds the first elemts in top_players which is jay\n",
    "  winner = top_players[0]\n",
    "\n",
    "  print(f\"Game winner: {winner}\")\n",
    "\n",
    "top_players = [\"Jay\", \"Meg\", \"Cy\"]\n",
    "get_winner(top_players)"
   ]
  },
  {
   "cell_type": "code",
   "execution_count": 38,
   "metadata": {},
   "outputs": [
    {
     "name": "stdout",
     "output_type": "stream",
     "text": [
      "['Lena', 'Meg', 'Cy']\n"
     ]
    }
   ],
   "source": [
    "# updates the leaderboard to inc Lena first\n",
    "def update_first_place(leaderboard, player): # parameters = 2, leaderboard and player\n",
    "    leaderboard[0] = player  \n",
    "    return leaderboard #  After updating one or more of a list's indices, the function can return the updated list, like here with leaderboard.\n",
    "\n",
    "leaderboard = [\"Jay\", \"Meg\", \"Cy\"]\n",
    "leaderboard = update_first_place(leaderboard, \"Lena\") #we've identified player paramter as Lena here\n",
    "print(leaderboard)"
   ]
  },
  {
   "cell_type": "code",
   "execution_count": 39,
   "metadata": {},
   "outputs": [
    {
     "name": "stdout",
     "output_type": "stream",
     "text": [
      "50\n"
     ]
    }
   ],
   "source": [
    "def get_newest_value(values):\n",
    "  print(values[0])\n",
    "\n",
    "humidity_percent = [50, 43, 49]\n",
    "get_newest_value(humidity_percent)"
   ]
  },
  {
   "cell_type": "markdown",
   "metadata": {},
   "source": [
    "###  functions with loops"
   ]
  },
  {
   "cell_type": "code",
   "execution_count": 3,
   "metadata": {},
   "outputs": [
    {
     "name": "stdout",
     "output_type": "stream",
     "text": [
      "Passenger 1 on board\n",
      "Passenger 2 on board\n",
      "Passenger 3 on board\n",
      "Passenger 4 on board\n"
     ]
    }
   ],
   "source": [
    "def onboard_passengers(bookings): #bookings is the parameter \n",
    "  counter = 1\n",
    "  while counter <= bookings:\n",
    "    print(f\"Passenger {counter} on board\")\n",
    "    counter += 1\n",
    "\n",
    "onboard_passengers(4) #input arguement which we pass into the function where passengers = 4 so code runs 4 iterations"
   ]
  },
  {
   "cell_type": "code",
   "execution_count": 6,
   "metadata": {},
   "outputs": [
    {
     "name": "stdout",
     "output_type": "stream",
     "text": [
      "Downloading file 0 out of 3\n",
      "Downloading file 1 out of 3\n",
      "Downloading file 2 out of 3\n"
     ]
    }
   ],
   "source": [
    "def display_progress(total_files): #here the parameter total_files takes value 3 which represents i and total files\n",
    "  \n",
    "    for i in range(total_files):\n",
    "        print(f\"Downloading file {i} out of {total_files}\")\n",
    "\n",
    "display_progress(3)"
   ]
  },
  {
   "cell_type": "code",
   "execution_count": 12,
   "metadata": {},
   "outputs": [
    {
     "name": "stdout",
     "output_type": "stream",
     "text": [
      "3\n",
      "2\n",
      "1\n",
      "Go!\n"
     ]
    }
   ],
   "source": [
    "def do_countdown(counter): # function = do_countdown, paramter = counter\n",
    "  \n",
    "    while counter > 0:\n",
    "        print(counter)\n",
    "        counter -= 1\n",
    "    print(\"Go!\")  \n",
    "\n",
    "do_countdown(3)\n"
   ]
  },
  {
   "cell_type": "code",
   "execution_count": 17,
   "metadata": {},
   "outputs": [
    {
     "name": "stdout",
     "output_type": "stream",
     "text": [
      "Installing next update\n",
      "Installing next update\n",
      "Installing next update\n"
     ]
    }
   ],
   "source": [
    "def show_progress(total):\n",
    "  \n",
    "    for i in range(total):\n",
    "        print(f\"Installing next update\")\n",
    "\n",
    "show_progress(3)"
   ]
  },
  {
   "cell_type": "markdown",
   "metadata": {},
   "source": [
    "###  Tuples"
   ]
  },
  {
   "cell_type": "code",
   "execution_count": 2,
   "metadata": {},
   "outputs": [
    {
     "name": "stdout",
     "output_type": "stream",
     "text": [
      "['Vertigo', 'Parasite', 1958, 2019]\n",
      "[('Vertigo', 1958), ('Parasite', 2019)]\n"
     ]
    }
   ],
   "source": [
    "movies = [\"Vertigo\", \"Parasite\", \n",
    "          1958, 2019] #list not a tuple as it has square brackets not parentheses\n",
    "\n",
    "movie_tuples = [(\"Vertigo\", 1958) ,(\"Parasite\", 2019)] #group tuples\n",
    "print(movies)\n",
    "print(movie_tuples)"
   ]
  },
  {
   "cell_type": "code",
   "execution_count": 7,
   "metadata": {},
   "outputs": [
    {
     "name": "stdout",
     "output_type": "stream",
     "text": [
      "('Vertigo', 1958, 'A. Hitchcock')\n"
     ]
    }
   ],
   "source": [
    "vertigo_data = (\"Vertigo\", 1958, \"A. Hitchcock\") # they can have as many values as you want\n",
    "print(vertigo_data)"
   ]
  },
  {
   "cell_type": "code",
   "execution_count": 6,
   "metadata": {},
   "outputs": [
    {
     "name": "stdout",
     "output_type": "stream",
     "text": [
      "2\n",
      "[('mia', 75), ('lee', 90)]\n",
      "('mia', 75)\n"
     ]
    }
   ],
   "source": [
    "scores = [(\"mia\", 75), (\"lee\", 90)] #store tuples as a list\n",
    "mia_score = scores[0]\n",
    "print(len(scores))\n",
    "print(scores)\n",
    "print(mia_score)"
   ]
  },
  {
   "cell_type": "code",
   "execution_count": 8,
   "metadata": {},
   "outputs": [
    {
     "name": "stdout",
     "output_type": "stream",
     "text": [
      "Result: ('mia', 75)\n",
      "Result: ('lee', 90)\n"
     ]
    }
   ],
   "source": [
    "scores = [(\"mia\", 75), (\"lee\", 90)]\n",
    "for user_score in scores:\n",
    " print(f\"Result: {user_score}\")"
   ]
  },
  {
   "cell_type": "code",
   "execution_count": 14,
   "metadata": {},
   "outputs": [
    {
     "name": "stdout",
     "output_type": "stream",
     "text": [
      "21:00\n"
     ]
    },
    {
     "ename": "AttributeError",
     "evalue": "'tuple' object has no attribute 'pop'",
     "output_type": "error",
     "traceback": [
      "\u001b[0;31m---------------------------------------------------------------------------\u001b[0m",
      "\u001b[0;31mAttributeError\u001b[0m                            Traceback (most recent call last)",
      "\u001b[0;32m<ipython-input-14-f977273e6179>\u001b[0m in \u001b[0;36m<module>\u001b[0;34m\u001b[0m\n\u001b[1;32m      1\u001b[0m \u001b[0mevent_tuple\u001b[0m \u001b[0;34m=\u001b[0m \u001b[0;34m(\u001b[0m\u001b[0;34m\"Saturday\"\u001b[0m\u001b[0;34m,\u001b[0m \u001b[0;34m\"21:00\"\u001b[0m\u001b[0;34m,\u001b[0m \u001b[0;34m\"Anna's Bday\"\u001b[0m\u001b[0;34m)\u001b[0m\u001b[0;34m\u001b[0m\u001b[0;34m\u001b[0m\u001b[0m\n\u001b[1;32m      2\u001b[0m \u001b[0mprint\u001b[0m\u001b[0;34m(\u001b[0m\u001b[0mevent_tuple\u001b[0m\u001b[0;34m[\u001b[0m\u001b[0;36m1\u001b[0m\u001b[0;34m]\u001b[0m\u001b[0;34m)\u001b[0m\u001b[0;31m#access the second element of a tuple but we cannot delete, add or update values form tuples\u001b[0m\u001b[0;34m\u001b[0m\u001b[0;34m\u001b[0m\u001b[0m\n\u001b[0;32m----> 3\u001b[0;31m \u001b[0mevent_tuple\u001b[0m\u001b[0;34m.\u001b[0m\u001b[0mpop\u001b[0m\u001b[0;34m(\u001b[0m\u001b[0;36m2\u001b[0m\u001b[0;34m)\u001b[0m\u001b[0;34m\u001b[0m\u001b[0;34m\u001b[0m\u001b[0m\n\u001b[0m\u001b[1;32m      4\u001b[0m \u001b[0mprint\u001b[0m\u001b[0;34m(\u001b[0m\u001b[0mevent_tuple\u001b[0m\u001b[0;34m)\u001b[0m\u001b[0;34m\u001b[0m\u001b[0;34m\u001b[0m\u001b[0m\n",
      "\u001b[0;31mAttributeError\u001b[0m: 'tuple' object has no attribute 'pop'"
     ]
    }
   ],
   "source": [
    "event_tuple = (\"Saturday\", \"21:00\", \"Anna's Bday\")\n",
    "print(event_tuple[1])#access the second element of a tuple but we cannot delete, add or update values from tuples\n",
    "event_tuple.pop(2)  #trying to delete the 3 element in tuple\n",
    "print(event_tuple) "
   ]
  },
  {
   "cell_type": "code",
   "execution_count": 15,
   "metadata": {},
   "outputs": [
    {
     "ename": "TypeError",
     "evalue": "'tuple' object does not support item assignment",
     "output_type": "error",
     "traceback": [
      "\u001b[0;31m---------------------------------------------------------------------------\u001b[0m",
      "\u001b[0;31mTypeError\u001b[0m                                 Traceback (most recent call last)",
      "\u001b[0;32m<ipython-input-15-8955b4041c80>\u001b[0m in \u001b[0;36m<module>\u001b[0;34m\u001b[0m\n\u001b[1;32m      1\u001b[0m \u001b[0mevent_tuple\u001b[0m \u001b[0;34m=\u001b[0m \u001b[0;34m(\u001b[0m\u001b[0;34m\"Saturday\"\u001b[0m\u001b[0;34m,\u001b[0m \u001b[0;34m\"21:00\"\u001b[0m\u001b[0;34m,\u001b[0m \u001b[0;34m\"Anna's Bday\"\u001b[0m\u001b[0;34m)\u001b[0m\u001b[0;34m\u001b[0m\u001b[0;34m\u001b[0m\u001b[0m\n\u001b[0;32m----> 2\u001b[0;31m \u001b[0mevent_tuple\u001b[0m\u001b[0;34m[\u001b[0m\u001b[0;36m0\u001b[0m\u001b[0;34m]\u001b[0m \u001b[0;34m=\u001b[0m \u001b[0;34m\"Friday\"\u001b[0m \u001b[0;31m#tuples are immutable since trying to modify them results in an error\u001b[0m\u001b[0;34m\u001b[0m\u001b[0;34m\u001b[0m\u001b[0m\n\u001b[0m",
      "\u001b[0;31mTypeError\u001b[0m: 'tuple' object does not support item assignment"
     ]
    }
   ],
   "source": [
    "event_tuple = (\"Saturday\", \"21:00\", \"Anna's Bday\")\n",
    "event_tuple[0] = \"Friday\" #tuples are immutable since trying to modify them results in an error\n",
    "# hence we use tuples to store inforamtion that shouldn't be modified!!!!\n"
   ]
  },
  {
   "cell_type": "code",
   "execution_count": 16,
   "metadata": {},
   "outputs": [
    {
     "name": "stdout",
     "output_type": "stream",
     "text": [
      "surface area: 61.42 billion km2\n"
     ]
    }
   ],
   "source": [
    "jupiter = (\"61.42 billion km2\", \"79 moons\")\n",
    "print(f\"surface area: {jupiter[0]}\") # accessign the 1st tuple by its index"
   ]
  },
  {
   "cell_type": "code",
   "execution_count": 18,
   "metadata": {},
   "outputs": [
    {
     "name": "stdout",
     "output_type": "stream",
     "text": [
      "('earth', 1)\n",
      "('jupiter', 79)\n"
     ]
    }
   ],
   "source": [
    "moon_count = [(\"earth\", 1), (\"jupiter\", 79)]\n",
    "\n",
    "i = 0\n",
    "while i < len(moon_count):\n",
    "  print(moon_count[i])\n",
    "  i += 1"
   ]
  },
  {
   "cell_type": "markdown",
   "metadata": {},
   "source": [
    "###  Dictionaries"
   ]
  },
  {
   "cell_type": "code",
   "execution_count": 19,
   "metadata": {},
   "outputs": [
    {
     "name": "stdout",
     "output_type": "stream",
     "text": [
      "{'headquarters': 'New York', 'flagship': 'Paris'}\n"
     ]
    }
   ],
   "source": [
    "# To associate a meaning to each value in a collection of values, we use a data structure called a dictionary, like locations here.\n",
    "# curly brackets = dictionary\n",
    "# round brackets = tuple\n",
    "# sqaure brackets = list\n",
    "\n",
    "locations = {\n",
    "      \"headquarters\": \"New York\",\n",
    "      \"flagship\": \"Paris\"\n",
    "}\n",
    "\n",
    "print(locations)\n"
   ]
  },
  {
   "cell_type": "code",
   "execution_count": 25,
   "metadata": {},
   "outputs": [
    {
     "name": "stdout",
     "output_type": "stream",
     "text": [
      "{'brand': 'mini', 'year': 2015, 'service': ['2017', '2019'], 'rented': False, 'current_value': '15,789gbp'}\n"
     ]
    }
   ],
   "source": [
    "# dictionaries contain key-value pairs\n",
    "# key : value\n",
    "\n",
    "car_data = {\n",
    " \"brand\": \"mini\",\n",
    " \"year\": 2015,\n",
    " \"service\": [\"2017\", \"2019\"],\n",
    " \"rented\": False,\n",
    " \"current_value\" : \"15,789gbp\"\n",
    "}\n",
    "\n",
    "print(car_data)"
   ]
  },
  {
   "cell_type": "code",
   "execution_count": 26,
   "metadata": {},
   "outputs": [
    {
     "name": "stdout",
     "output_type": "stream",
     "text": [
      "{('Sai', 'Chloe', 'Yumi'): 3}\n"
     ]
    }
   ],
   "source": [
    "members_count = {\n",
    "(\"Sai\", \"Chloe\", \"Yumi\"): 3 #key = tuple : value = string\n",
    "}\n",
    "\n",
    "print(members_count)"
   ]
  },
  {
   "cell_type": "code",
   "execution_count": 27,
   "metadata": {},
   "outputs": [
    {
     "name": "stdout",
     "output_type": "stream",
     "text": [
      "{'first': ('Ted', 50), 'second': ('Jess', 47)}\n"
     ]
    }
   ],
   "source": [
    "winner_scores = { \n",
    "    \"first\": (\"Ted\", 50), #key = string : value = tuple\n",
    "  \"second\": (\"Jess\", 47)\n",
    "}\n",
    "\n",
    "print(winner_scores)"
   ]
  },
  {
   "cell_type": "code",
   "execution_count": 16,
   "metadata": {},
   "outputs": [
    {
     "name": "stdout",
     "output_type": "stream",
     "text": [
      "Bill Murray\n"
     ]
    }
   ],
   "source": [
    "# We access dictionary values by their key, like here with  \"name\".\n",
    "\n",
    "actor_bio = {\n",
    " \"name\": \"Bill Murray\",\n",
    " \"known for\": [\"Lost in Translation\", \"Rushmore\"]\n",
    "}\n",
    "print(actor_bio[\"name\"])"
   ]
  },
  {
   "cell_type": "code",
   "execution_count": 17,
   "metadata": {},
   "outputs": [
    {
     "name": "stdout",
     "output_type": "stream",
     "text": [
      "13\n",
      "20\n",
      "34\n"
     ]
    }
   ],
   "source": [
    "# loop through dictionaires\n",
    "player_scores = {\n",
    " \"ann\": 13,\n",
    " \"michael\": 20,\n",
    " \"ava\": 34\n",
    "}\n",
    "\n",
    "for player in player_scores:\n",
    "  print(player_scores[player])"
   ]
  },
  {
   "cell_type": "code",
   "execution_count": 19,
   "metadata": {},
   "outputs": [
    {
     "name": "stdout",
     "output_type": "stream",
     "text": [
      "{'seat no.': 25, 'first class': False}\n",
      "{'seat no.': 25, 'first class': True}\n"
     ]
    }
   ],
   "source": [
    "# update dictionary values\n",
    "ticket = {\n",
    " \"seat no.\": 25,\n",
    " \"first class\": False\n",
    "}\n",
    "print(ticket)\n",
    "ticket[\"first class\"] = True\n",
    "print(ticket)\n"
   ]
  },
  {
   "cell_type": "code",
   "execution_count": null,
   "metadata": {},
   "outputs": [],
   "source": [
    "# Create the variable meg that stores the value of the key \"Meg\".\n",
    "\n",
    "participants = {\n",
    "  \"Meg\": True,\n",
    "  \"Kim\": False,\n",
    "  \"Luis\": True,\n",
    "  \"Luis M.\": False\n",
    "}\n",
    "meg = participants[\"Meg\"]\n",
    "print(meg)"
   ]
  },
  {
   "cell_type": "code",
   "execution_count": 21,
   "metadata": {},
   "outputs": [
    {
     "name": "stdout",
     "output_type": "stream",
     "text": [
      "{'seat no.': 25, 'window': True}\n"
     ]
    }
   ],
   "source": [
    "# add a key\n",
    "\n",
    "ticket = {\n",
    " \"seat no.\": 25}\n",
    "\n",
    "ticket[\"window\"] = True # window added\n",
    "print(ticket)"
   ]
  },
  {
   "cell_type": "code",
   "execution_count": 22,
   "metadata": {},
   "outputs": [
    {
     "name": "stdout",
     "output_type": "stream",
     "text": [
      "True\n"
     ]
    }
   ],
   "source": [
    "# check if key exists in dicitionary \n",
    "personal_data = {\n",
    " \"name\": \"Mac Miller\",\n",
    " \"telephone\": \"0047865791\"\n",
    "}\n",
    "print(\"name\" in personal_data)"
   ]
  },
  {
   "cell_type": "code",
   "execution_count": 23,
   "metadata": {},
   "outputs": [
    {
     "name": "stdout",
     "output_type": "stream",
     "text": [
      "False\n"
     ]
    }
   ],
   "source": [
    "# store info whether address is in dicitonary in a variable like has_address\n",
    "personal_data = {\n",
    " \"name\": \"Mac Miller\",\n",
    " \"telephone\": \"0047865791\"\n",
    "}\n",
    "has_address = \"address\" in personal_data #create variable to see if dictionary has address in it\n",
    "print(has_address)"
   ]
  },
  {
   "cell_type": "code",
   "execution_count": null,
   "metadata": {},
   "outputs": [],
   "source": [
    "# remove key value pair with variable.pop(key_name)\n",
    "ticket = {\n",
    " \"seat no.\": 25,\n",
    " \"window\": True\n",
    "}\n",
    "\n",
    "ticket.pop(\"window\")\n",
    "print(ticket)"
   ]
  },
  {
   "cell_type": "code",
   "execution_count": 3,
   "metadata": {},
   "outputs": [
    {
     "name": "stdout",
     "output_type": "stream",
     "text": [
      "{'seat no.': 25, 'window': True}\n"
     ]
    }
   ],
   "source": [
    "# To avoid getting an error when removing a key, it's good practice to first use the in keyword to check if the key exists.\n",
    "\n",
    "ticket = {\n",
    " \"seat no.\": 25,\n",
    " \"window\": True\n",
    "}\n",
    "\n",
    "if \"destination\" in ticket:\n",
    "  ticket.pop(\"destination\")\n",
    "\n",
    "print(ticket)\n"
   ]
  },
  {
   "cell_type": "code",
   "execution_count": 4,
   "metadata": {},
   "outputs": [
    {
     "name": "stdout",
     "output_type": "stream",
     "text": [
      "{'WD6', 'HA7', 'NW11'}\n"
     ]
    }
   ],
   "source": [
    "# sets is a collection of values that are unique (no duplicates)\n",
    "postcode = {\"WD6\", \"HA7\", \"NW11\"}\n",
    "print(postcode)"
   ]
  },
  {
   "cell_type": "code",
   "execution_count": 6,
   "metadata": {},
   "outputs": [
    {
     "name": "stdout",
     "output_type": "stream",
     "text": [
      "{'WD6', 'HA7', 'NW11', 'SL6'}\n"
     ]
    }
   ],
   "source": [
    "# add value to a set we use variable_name.add()\n",
    "postcode = {\"WD6\", \"HA7\", \"NW11\"}\n",
    "postcode.add(\"SL6\")\n",
    "print(postcode)"
   ]
  },
  {
   "cell_type": "code",
   "execution_count": 7,
   "metadata": {},
   "outputs": [
    {
     "name": "stdout",
     "output_type": "stream",
     "text": [
      "{'WD6', 'HA7', 'NW11'}\n"
     ]
    }
   ],
   "source": [
    "# nothing happens when we try to add a duplicate value to an existing set\n",
    "postcode = {\"WD6\", \"HA7\", \"NW11\"}\n",
    "postcode.add(\"WD6\")\n",
    "print(postcode)"
   ]
  },
  {
   "cell_type": "code",
   "execution_count": 9,
   "metadata": {},
   "outputs": [
    {
     "name": "stdout",
     "output_type": "stream",
     "text": [
      "yes\n",
      "{'no', 'yes'}\n"
     ]
    }
   ],
   "source": [
    "# Unlike lists, sets like answer_options are unordered, meaning that set elements don't have indices.\n",
    "user_answers = [\"yes\", \"yes\", \"no\", \"yes\"]\n",
    "print(user_answers[0])\n",
    "answer_options= {\"yes\", \"no\"}\n",
    "print(answer_options)"
   ]
  },
  {
   "cell_type": "code",
   "execution_count": 10,
   "metadata": {},
   "outputs": [
    {
     "name": "stdout",
     "output_type": "stream",
     "text": [
      "Option: no\n",
      "Option: yes\n"
     ]
    }
   ],
   "source": [
    "answer_options = {\"yes\", \"no\"}\n",
    "\n",
    "for answer in answer_options:\n",
    " print(f\"Option: {answer}\")"
   ]
  },
  {
   "cell_type": "code",
   "execution_count": 11,
   "metadata": {},
   "outputs": [
    {
     "name": "stdout",
     "output_type": "stream",
     "text": [
      "{'French', 'Geometry'}\n"
     ]
    }
   ],
   "source": [
    "# remove a value in the set\n",
    "classes = {\"Geometry\", \"Music\", \"French\"}\n",
    "classes.remove(\"Music\")\n",
    "print(classes)"
   ]
  },
  {
   "cell_type": "code",
   "execution_count": null,
   "metadata": {},
   "outputs": [],
   "source": [
    "# using set in print function removes the duplicate value\n",
    "grocery_list = [\"broccoli\", \"cereal\", \"milk\", \"broccoli\"]\n",
    "print(set(grocery_list))"
   ]
  },
  {
   "cell_type": "code",
   "execution_count": 12,
   "metadata": {},
   "outputs": [
    {
     "name": "stdout",
     "output_type": "stream",
     "text": [
      "True\n"
     ]
    }
   ],
   "source": [
    "# To check whether a set like chat is a subset of another, like friends, we code chat, then .issubset(), with friends between parentheses.\n",
    "friends = {\"Emma\", \"Jen\", \"Rob\", \"Ed\"}\n",
    "chat = {\"Jen\", \"Ed\"}\n",
    "print(chat.issubset(friends))"
   ]
  },
  {
   "cell_type": "code",
   "execution_count": 15,
   "metadata": {},
   "outputs": [
    {
     "name": "stdout",
     "output_type": "stream",
     "text": [
      "Union:\n",
      "{'Don', 'Paul', 'Sue', 'Luke'}\n",
      "Intersection\n",
      "{'Sue', 'Luke'}\n"
     ]
    }
   ],
   "source": [
    "# While union() gives us all elements of the two sets, intersection() gives us only the common ones.\n",
    "\n",
    "classmates = {\"Sue\", \"Luke\", \"Paul\"}\n",
    "friends = {\"Don\", \"Sue\", \"Luke\"}\n",
    "\n",
    "print(\"Union:\")\n",
    "print(classmates.union(friends))\n",
    "\n",
    "print(\"Intersection\")\n",
    "print(classmates.intersection(friends))"
   ]
  },
  {
   "cell_type": "code",
   "execution_count": 1,
   "metadata": {},
   "outputs": [
    {
     "name": "stdout",
     "output_type": "stream",
     "text": [
      "{'Paul'}\n",
      "{'Don'}\n"
     ]
    }
   ],
   "source": [
    "# To get a set of elements that are present in classmates, but not in friends, we use the difference() instruction. (left match)\n",
    "classmates = {\"Sue\", \"Paul\"}\n",
    "friends = {\"Don\", \"Sue\"}\n",
    "\n",
    "print(classmates.difference(friends))\n",
    "\n",
    "# right match i.e. present in friends not classmates\n",
    "print(friends.difference(classmates))"
   ]
  },
  {
   "cell_type": "markdown",
   "metadata": {},
   "source": [
    "###  List comprehensions"
   ]
  },
  {
   "cell_type": "code",
   "execution_count": 6,
   "metadata": {},
   "outputs": [
    {
     "name": "stdout",
     "output_type": "stream",
     "text": [
      "[5.0, 19.0, 20.0, 29.0, 31.0]\n"
     ]
    }
   ],
   "source": [
    "# To create a list like halved based on another like prices, we need to first create an empty list, then fill it inside a loop.\n",
    "prices = [10, 38, 40, 58, 62]\n",
    "halved_loop = []\n",
    "\n",
    "for price in prices:\n",
    "  half_price = price/2\n",
    "  halved_loop.append(half_price)\n",
    "\n",
    "print(halved_loop)"
   ]
  },
  {
   "cell_type": "code",
   "execution_count": 3,
   "metadata": {},
   "outputs": [
    {
     "name": "stdout",
     "output_type": "stream",
     "text": [
      "[5.0, 19.0, 20.0, 29.0, 31.0]\n"
     ]
    }
   ],
   "source": [
    "#  We can build the same halved list as before, but in one line, using list comprehensions.\n",
    "prices = [10, 38, 40, 58, 62]\n",
    "\n",
    "halved_list_comp = [price/2 for price in prices]\n",
    "print(halved_list_comp)"
   ]
  },
  {
   "cell_type": "code",
   "execution_count": null,
   "metadata": {},
   "outputs": [],
   "source": [
    "# List comprehensions use for loops to iterate through each element of the original list, like here with for price in prices.\n",
    "prices = [10, 38, 40, 58, 62]\n",
    "\n",
    "halved = [price/2 for price in prices]\n",
    "\n",
    "print(halved)"
   ]
  },
  {
   "cell_type": "code",
   "execution_count": 7,
   "metadata": {},
   "outputs": [
    {
     "name": "stdout",
     "output_type": "stream",
     "text": [
      "[False, True, True]\n",
      "[True, False, False]\n"
     ]
    }
   ],
   "source": [
    "answers = [True, False, False]\n",
    "\n",
    "opposite = []\n",
    "for answer in answers:\n",
    "  opposite.append(not answer)\n",
    "\n",
    "print(opposite)\n",
    "print([answer for answer in answers])"
   ]
  },
  {
   "cell_type": "code",
   "execution_count": 8,
   "metadata": {},
   "outputs": [
    {
     "name": "stdout",
     "output_type": "stream",
     "text": [
      "[2022, 2024, 2023]\n"
     ]
    }
   ],
   "source": [
    "expiry_years = [2018, 2020, 2019]\n",
    "\n",
    "renewed = [year + 4 for year in expiry_years]\n",
    "\n",
    "print(renewed)"
   ]
  },
  {
   "cell_type": "code",
   "execution_count": 10,
   "metadata": {},
   "outputs": [
    {
     "name": "stdout",
     "output_type": "stream",
     "text": [
      "[False, True, True]\n"
     ]
    }
   ],
   "source": [
    "ages = [15, 20, 19]\n",
    "\n",
    "can_drive = [age > 18 for age in ages]\n",
    "\n",
    "print(can_drive)"
   ]
  },
  {
   "cell_type": "code",
   "execution_count": null,
   "metadata": {},
   "outputs": [],
   "source": [
    "#create a copy of original list as we haven't applied any changes to the original list\n",
    "prices = [10, 38, 40, 58, 62]\n",
    "\n",
    "prices_copy = [price for price in prices]\n",
    "\n",
    "print(prices_copy)"
   ]
  },
  {
   "cell_type": "code",
   "execution_count": 15,
   "metadata": {},
   "outputs": [
    {
     "name": "stdout",
     "output_type": "stream",
     "text": [
      "[5.0, 11.0, 15.0, 20.0, 29.0, 31.0]\n"
     ]
    }
   ],
   "source": [
    "# using list comprehension to create new list by applyng function\n",
    "prices = [10, 22, 30, 40, 58, 62]\n",
    "\n",
    "def halve(num):\n",
    "  return num/2 #  We can only use functions that have a return statement since we're actually appending the returned value to the new list.\n",
    "halved = [halve(price) for price in prices]\n",
    "print(halved)"
   ]
  },
  {
   "cell_type": "code",
   "execution_count": 18,
   "metadata": {},
   "outputs": [
    {
     "name": "stdout",
     "output_type": "stream",
     "text": [
      "['Wolf, Virginia', 'Steinbeck, John']\n"
     ]
    }
   ],
   "source": [
    "authors = [\"Virginia Wolf\", \"John Steinbeck\"]\n",
    "\n",
    "def add_comma(name):\n",
    "  parts = name.split(\" \") #split arguement seperates strings into  \n",
    "  return parts[1] + \", \" + parts[0]\n",
    "\n",
    "authors_update = [add_comma(name) for name in authors]\n",
    "\n",
    "print(authors_update)"
   ]
  },
  {
   "cell_type": "code",
   "execution_count": 33,
   "metadata": {},
   "outputs": [
    {
     "name": "stdout",
     "output_type": "stream",
     "text": [
      "['first name: Virginia, last name: Wolf', 'first name: John, last name: Steinbeck']\n"
     ]
    }
   ],
   "source": [
    "authors = [\"Virginia Wolf\", \"John Steinbeck\"]\n",
    "\n",
    "def add_comma(name):\n",
    "  parts = name.split(\" \") #split arguement seperates strings into  \n",
    "  return \"first name:\" \" \" + parts[0] + \", \" + \"last name:\" \" \"+ parts[1]\n",
    "\n",
    "authors_update = [add_comma(name) for name in authors]\n",
    "\n",
    "print(authors_update)"
   ]
  },
  {
   "cell_type": "code",
   "execution_count": 34,
   "metadata": {},
   "outputs": [
    {
     "name": "stdout",
     "output_type": "stream",
     "text": [
      "[False, True, False, False]\n"
     ]
    }
   ],
   "source": [
    "words = [\"apple\", \"aligator\", \"abracadabra\", \"avatar\"]\n",
    "\n",
    "def has_double_a(word):\n",
    "  count = word.count(\"a\")\n",
    "  return count == 2\n",
    "\n",
    "double_a = [has_double_a(word) for word in words]\n",
    "\n",
    "print(double_a)"
   ]
  },
  {
   "cell_type": "code",
   "execution_count": 38,
   "metadata": {},
   "outputs": [
    {
     "name": "stdout",
     "output_type": "stream",
     "text": [
      "[False, False, True]\n"
     ]
    }
   ],
   "source": [
    "scores = [40, 12, 83]\n",
    "\n",
    "def passed(score):\n",
    "  with_bonus = score + 10\n",
    "  return with_bonus > 90 \n",
    "\n",
    "passing_scores = [passed(score) for score in scores]\n",
    "\n",
    "print(passing_scores)"
   ]
  },
  {
   "cell_type": "code",
   "execution_count": 39,
   "metadata": {},
   "outputs": [
    {
     "name": "stdout",
     "output_type": "stream",
     "text": [
      "[47, 30, 29, 35]\n"
     ]
    }
   ],
   "source": [
    "# We can use list comprehensions to create a new list by filtering elements of an existing one, like creating a list of high_scores.\n",
    "\n",
    "scores = [12, 47, 30, 29, 19, 35]\n",
    "high_scores = [score for score in scores if score > 20]\n",
    "print(high_scores)\n",
    "\n",
    "websites = [\"nytimes.com\", \"lemonde.fr\", \"economist.com\"]\n",
    "french = [website for website in websites\n",
    " if website.count(\".fr\") > 0]\n",
    "print(french)\n",
    "\n",
    "humidity_percent = [40, 35, 20, 70]\n",
    "ideal = [level for level in humidity_percent if level >= 30 and level <= 50]\n",
    "print(ideal)"
   ]
  },
  {
   "cell_type": "code",
   "execution_count": 42,
   "metadata": {},
   "outputs": [
    {
     "name": "stdout",
     "output_type": "stream",
     "text": [
      "4\n"
     ]
    }
   ],
   "source": [
    "# Python allows us to use negative indexing to retrieve values from the end of an indexable object, such as a list.\n",
    "\n",
    "scores = [4.5, 5, 3, 4, 3.5, 4]\n",
    "latest = scores[-1]\n",
    "print(latest)"
   ]
  },
  {
   "cell_type": "code",
   "execution_count": 45,
   "metadata": {},
   "outputs": [
    {
     "name": "stdout",
     "output_type": "stream",
     "text": [
      "['John', 'Helen', 'Sigmund']\n",
      "{'category': 'book', 'price': 4.99}\n",
      "Joe 27\n"
     ]
    }
   ],
   "source": [
    "# The del keyword allows us to delete objects, or items within a data structure.\n",
    "\n",
    "winners = [\"John\", \"Helen\", \"Sigmund\", \"Olaf\"]\n",
    "del winners[-1]\n",
    "print(winners)\n",
    "\n",
    "product = {'category': 'book',\n",
    "           'price': 4.99,\n",
    "           'in_shop': True}\n",
    "del product['in_shop']\n",
    "print(product)\n",
    "\n",
    "user = (\"Joe\", \"Paris\", 27)\n",
    "name = user[0]\n",
    "age = user[-1]\n",
    "message = f\"{name} {age}\"\n",
    "print(message)"
   ]
  },
  {
   "cell_type": "code",
   "execution_count": 52,
   "metadata": {},
   "outputs": [
    {
     "name": "stdout",
     "output_type": "stream",
     "text": [
      "['D', 'E']\n",
      "['C', 'D', 'E']\n",
      "['A', 'B']\n",
      "['C', 'D']\n"
     ]
    }
   ],
   "source": [
    "# slicing acts like a filter\n",
    "letters = [\"A\", \"B\", \"C\", \"D\", \"E\"]\n",
    "print(letters[3:]) # retrieve values starting from index 3 i.e. 4th pos \n",
    "print(letters[-3:]) # retrieve values starting from 3rd last position i.e. from value c onwards\n",
    "\n",
    "print(letters[:2]) # retrieve values starting from index 0 and stop at index 2\n",
    "print(letters[2:4]) # retrieve values starting from index 2 and stop at index 4\n"
   ]
  },
  {
   "cell_type": "code",
   "execution_count": 56,
   "metadata": {},
   "outputs": [
    {
     "name": "stdout",
     "output_type": "stream",
     "text": [
      "['B', 'D', 'F']\n",
      "['A', 'C', 'E']\n",
      "['F', 'E', 'D']\n"
     ]
    }
   ],
   "source": [
    "# We can also use a format with two colons, [start:stop:step] , where step determines how Python steps between start and end.\n",
    "\n",
    "alphabet = [\"A\", \"B\", \"C\", \"D\", \"E\", \"F\"]\n",
    "print(alphabet[1:6:2]) # start at 1st index, stop at 6th index with increments of 2 - notice list only goes up to 5\n",
    "print(alphabet[::2]) #start 0, stop never, increment 2\n",
    "print(alphabet[5:2:-1]) #start last index, stop 2nd index, increment -1 so we work backwards"
   ]
  },
  {
   "cell_type": "code",
   "execution_count": 57,
   "metadata": {},
   "outputs": [
    {
     "name": "stdout",
     "output_type": "stream",
     "text": [
      "[5, 5, 5]\n"
     ]
    }
   ],
   "source": [
    "ratings = [3, 4, 2, 5, 1, 5, 4, 5]\n",
    "print(ratings[-1:2:-2]) #start end, stop at 2nd index, increment of -2"
   ]
  },
  {
   "cell_type": "markdown",
   "metadata": {},
   "source": [
    "### Classes"
   ]
  },
  {
   "cell_type": "code",
   "execution_count": null,
   "metadata": {},
   "outputs": [],
   "source": [
    "#Creating new variables for each of the different configurations of a computer would take a lot of time and could lead to mistakes.\n",
    "\n",
    "computer1_size= \"15\"\n",
    "computer1_storage = \"1TB\"\n",
    "\n",
    "computer2_size = \"13\"\n",
    "computer2_storage = \"256GB\"\n",
    "\n",
    "computer3_size = \"27\"\n",
    "computer3_storage = \"2TB\"\n",
    "\n",
    "computer4_size = \"21\"\n",
    "computer5_storage = \"128\"\n"
   ]
  },
  {
   "cell_type": "code",
   "execution_count": 1,
   "metadata": {},
   "outputs": [
    {
     "name": "stdout",
     "output_type": "stream",
     "text": [
      "Low Spec Computer:\n",
      "Display size: 13\n",
      "Storage size: 256GB\n",
      "High Spec Computer:\n",
      "Display size: 27\n",
      "Storage size: 1TB\n"
     ]
    }
   ],
   "source": [
    "# To help us group data and functionality, we create a class. \n",
    "# A class is a template that we use to create many similar but distinct things.\n",
    "# We can create different configurations without having to create individual variables like size and storage each time.\n",
    "\n",
    "class Computer:\n",
    "  def __init__(self, size, storage):\n",
    "    self.size = size\n",
    "    self.storage = storage\n",
    "\n",
    "  def print_specs(self):\n",
    "    print(\"Display size: \" + self.size)\n",
    "    print(\"Storage size: \" + self.storage)\n",
    "\n",
    "low_spec = Computer(\"13\", \"256GB\")\n",
    "high_spec = Computer(\"27\", \"1TB\")\n",
    "\n",
    "print(\"Low Spec Computer:\")\n",
    "low_spec.print_specs()\n",
    "\n",
    "print(\"High Spec Computer:\")\n",
    "high_spec.print_specs()"
   ]
  },
  {
   "cell_type": "code",
   "execution_count": 3,
   "metadata": {},
   "outputs": [
    {
     "name": "stdout",
     "output_type": "stream",
     "text": [
      "True\n",
      "brown\n"
     ]
    }
   ],
   "source": [
    "# To access a class variable, we add the instance name, a ., \n",
    "# and the name of the variable we want. Like skippy.wagging_tail here.\n",
    "class Virtual_Pet:\n",
    "  wagging_tail = True\n",
    "  color = \"brown\"\n",
    "\n",
    "skippy = Virtual_Pet()\n",
    "print(skippy.wagging_tail)\n",
    "print(skippy.color)\n"
   ]
  },
  {
   "cell_type": "code",
   "execution_count": 4,
   "metadata": {},
   "outputs": [],
   "source": [
    "#defining a class\n",
    "class Virtual_Pet:\n",
    "  wagging_tail = True"
   ]
  },
  {
   "cell_type": "code",
   "execution_count": 5,
   "metadata": {},
   "outputs": [],
   "source": [
    "#Create an instance of the Pokemon class and store it in a variable called 'pokemon'.\n",
    "class Pokemon:\n",
    "  name = \"squirtle\"\n",
    "pokemon = Pokemon() #instance of Pokemnon class stored in variable pokemon"
   ]
  },
  {
   "cell_type": "code",
   "execution_count": 8,
   "metadata": {},
   "outputs": [
    {
     "name": "stdout",
     "output_type": "stream",
     "text": [
      "brown\n",
      "4\n"
     ]
    }
   ],
   "source": [
    "# self is a special keyword that we need to use inside our class definition. \n",
    "# We pass self as the first parameter to all the methods we add.\n",
    "# We use self as a parameter in the class methods so that we can \n",
    "# access the class variables like color and legs inside the methods.\n",
    "\n",
    "class Virtual_Pet:\n",
    "  color = \"brown\"\n",
    "  legs = 4\n",
    "\n",
    "  def bark(self):\n",
    "    print(\"Bark\")\n",
    "\n",
    "  def display_color(self):\n",
    "    print(self.color)\n",
    "\n",
    "  def display_legs(self):\n",
    "    print(self.legs)\n",
    "\n",
    "rocky = Virtual_Pet()\n",
    "rocky.display_color()\n",
    "rocky.display_legs()"
   ]
  },
  {
   "cell_type": "code",
   "execution_count": null,
   "metadata": {},
   "outputs": [],
   "source": [
    "class Virtual_Pet:\n",
    "  color = \"brown\"\n",
    "  legs = 4\n",
    "\n",
    "  def bark(self):\n",
    "    print(\"Bark\")\n",
    "\n",
    "  def display_color(self):\n",
    "    print(self.color)"
   ]
  },
  {
   "cell_type": "code",
   "execution_count": null,
   "metadata": {},
   "outputs": [],
   "source": []
  },
  {
   "cell_type": "code",
   "execution_count": null,
   "metadata": {},
   "outputs": [],
   "source": []
  },
  {
   "cell_type": "code",
   "execution_count": null,
   "metadata": {},
   "outputs": [],
   "source": []
  },
  {
   "cell_type": "code",
   "execution_count": null,
   "metadata": {},
   "outputs": [],
   "source": []
  },
  {
   "cell_type": "markdown",
   "metadata": {},
   "source": [
    "## practice questions"
   ]
  },
  {
   "cell_type": "code",
   "execution_count": 2,
   "metadata": {},
   "outputs": [
    {
     "name": "stdout",
     "output_type": "stream",
     "text": [
      "804.672\n"
     ]
    }
   ],
   "source": [
    "miles = 500\n",
    "kilometers = miles*1.609344\n",
    "print (kilometers)"
   ]
  },
  {
   "cell_type": "code",
   "execution_count": 3,
   "metadata": {},
   "outputs": [
    {
     "name": "stdout",
     "output_type": "stream",
     "text": [
      "Daytime?\n",
      "False\n",
      "Lights_on?\n",
      "True\n"
     ]
    }
   ],
   "source": [
    "#if is night lights will be on and vice versa\n",
    "is_day = False\n",
    "lights_on = not is_day\n",
    "print(\"Daytime?\")\n",
    "print(is_day)\n",
    "print(\"Lights_on?\")\n",
    "print(lights_on)"
   ]
  },
  {
   "cell_type": "code",
   "execution_count": 4,
   "metadata": {},
   "outputs": [
    {
     "name": "stdout",
     "output_type": "stream",
     "text": [
      "Hit jeans sale target: \n",
      "True\n",
      "Jeans in stock:\n",
      "True\n"
     ]
    }
   ],
   "source": [
    "#if jeans sold is equal to target then we hit target, will print hit jeans sale target: True jeans in stock: True\n",
    "stock = 600\n",
    "jeans_sold = 500\n",
    "target = 500\n",
    "\n",
    "target_hit = jeans_sold == target #boolean\n",
    "print(\"Hit jeans sale target: \")\n",
    "print(target_hit)\n",
    "\n",
    "current_stock = stock - jeans_sold\n",
    "in_stock = current_stock != 0 #boolean\n",
    "print(\"Jeans in stock:\")\n",
    "print(in_stock)"
   ]
  },
  {
   "cell_type": "code",
   "execution_count": 6,
   "metadata": {},
   "outputs": [
    {
     "name": "stdout",
     "output_type": "stream",
     "text": [
      "Heart rate low:\n",
      "False\n",
      "Heart rate hight:\n",
      "False\n"
     ]
    }
   ],
   "source": [
    "#heart rate is neither less than 60 or above 100 so false, false\n",
    "heart_rate = 77\n",
    "too_low = heart_rate < 60\n",
    "too_high = heart_rate > 100\n",
    "\n",
    "print(\"Heart rate low:\")\n",
    "print(too_low)\n",
    "print(\"Heart rate hight:\")\n",
    "print(too_high)"
   ]
  },
  {
   "cell_type": "code",
   "execution_count": 7,
   "metadata": {},
   "outputs": [
    {
     "name": "stdout",
     "output_type": "stream",
     "text": [
      "no duplicate entries:\n",
      "True\n",
      "same average grade:\n",
      "True\n",
      "id_1 has a higher score:\n",
      "True\n"
     ]
    }
   ],
   "source": [
    "#no dupliate entries true, same average grade true, id_1 has higher test score true\n",
    "id_1 = \"#4\"\n",
    "average_grade_1 = \"A\"\n",
    "test_score_1 = 90\n",
    "\n",
    "id_2 = \"#5\"\n",
    "average_grade_2 = \"A\"\n",
    "test_score_2 = 70\n",
    "\n",
    "no_duplicates = id_1 != id_2\n",
    "print(\"no duplicate entries:\")\n",
    "print(no_duplicates)\n",
    "\n",
    "same_average = average_grade_1 == average_grade_2\n",
    "print(\"same average grade:\")\n",
    "print(same_average)\n",
    "\n",
    "higher_score = test_score_1 > test_score_2\n",
    "print(\"id_1 has a higher score:\")\n",
    "print(higher_score)"
   ]
  },
  {
   "cell_type": "code",
   "execution_count": 8,
   "metadata": {},
   "outputs": [
    {
     "name": "stdout",
     "output_type": "stream",
     "text": [
      "highly active user:\n",
      "False\n",
      "high intensity activity:\n",
      "False\n"
     ]
    }
   ],
   "source": [
    "#once a week != daily so highly active user false, intensity = low so high intensity false\n",
    "frequency = \"once a week\"\n",
    "intensity = \"low\"\n",
    "\n",
    "highly_active = frequency == \"daily\"\n",
    "print(\"highly active user:\")\n",
    "print(highly_active)\n",
    "\n",
    "high_intensity = intensity ==\"high\"\n",
    "print(\"high intensity activity:\")\n",
    "print(high_intensity)"
   ]
  },
  {
   "cell_type": "code",
   "execution_count": 9,
   "metadata": {},
   "outputs": [
    {
     "name": "stdout",
     "output_type": "stream",
     "text": [
      "Database has user: Becca\n"
     ]
    }
   ],
   "source": [
    "#user added is true so only database has user Becca \n",
    "user_added = True\n",
    "user = \"Becca\"\n",
    "\n",
    "if user_added == False:\n",
    "    print(f\"Add {user} to database\")\n",
    "    user_added = True\n",
    "print(f\"Database has user: {user}\")"
   ]
  },
  {
   "cell_type": "code",
   "execution_count": 10,
   "metadata": {},
   "outputs": [
    {
     "name": "stdout",
     "output_type": "stream",
     "text": [
      "8 is an outlier\n"
     ]
    }
   ],
   "source": [
    "# number is less than lower limit so outlier is true so 8 is an outlier\n",
    "upper_limit = 91\n",
    "lower_limit = 24\n",
    "outlier = False\n",
    "number = 8\n",
    "\n",
    "if number > upper_limit:\n",
    "    outlier = True\n",
    "if number < lower_limit:\n",
    "    outlier = True\n",
    "if outlier == True:\n",
    "    print(f\"{number} is an outlier\")"
   ]
  },
  {
   "cell_type": "code",
   "execution_count": 3,
   "metadata": {},
   "outputs": [
    {
     "name": "stdout",
     "output_type": "stream",
     "text": [
      "ride price:\n",
      "37.9\n",
      "final price:\n",
      "33.9\n"
     ]
    }
   ],
   "source": [
    "#ride_type is black so ride price = 37.9, credits >0 so final price is 37.9 - 4 = 33.9\n",
    "ride_type = \"Black\"\n",
    "credits = 4\n",
    "\n",
    "ride_price = 0\n",
    "final_price = 0\n",
    "\n",
    "if ride_type == \"DooberX\":\n",
    "    ride_price = 20.5\n",
    "elif ride_type == \"Black\":\n",
    "    ride_price = 37.9\n",
    "else:\n",
    "    ride_price = 18.7\n",
    "    \n",
    "print(\"ride price:\")\n",
    "print(ride_price)\n",
    "\n",
    "if credits > 0:\n",
    "    final_price = ride_price - credits\n",
    "\n",
    "print(\"final price:\")    \n",
    "print(final_price)"
   ]
  },
  {
   "cell_type": "code",
   "execution_count": 5,
   "metadata": {},
   "outputs": [
    {
     "name": "stdout",
     "output_type": "stream",
     "text": [
      "internaitonal base cost applied\n",
      "shipping cost: 20\n"
     ]
    }
   ],
   "source": [
    "#int shipping is true so shipping cost is 15, so int base cost applied \n",
    "#total is not <= 50 or 100 so shipping_cost +=5, shipping cost: 15 + 5 = 20\n",
    "\n",
    "international_shipping = True\n",
    "\n",
    "total = 150\n",
    "shipping_cost = 0\n",
    "\n",
    "if international_shipping:\n",
    "    shipping_cost += 15\n",
    "    print(\"internaitonal base cost applied\")\n",
    "\n",
    "if total <= 50:\n",
    "    shipping_cost += 20\n",
    "elif total <=100:\n",
    "    shipping_cost +=15\n",
    "else:\n",
    "    shipping_cost +=5\n",
    "\n",
    "print(f\"shipping cost: {shipping_cost}\")\n"
   ]
  },
  {
   "cell_type": "code",
   "execution_count": 9,
   "metadata": {},
   "outputs": [
    {
     "name": "stdout",
     "output_type": "stream",
     "text": [
      "initial amount: 100\n",
      "year 1: 100.4\n",
      "year 2: 100.80160000000001\n",
      "year 3: 101.20480640000001\n"
     ]
    }
   ],
   "source": [
    "#initial amount 100, year 1: account 100.4, year 2:....\n",
    "account = 100\n",
    "interest_rate = 0.004\n",
    "years = 3\n",
    "\n",
    "print(f\"initial amount: {account}\")\n",
    "\n",
    "counter = 1\n",
    "while counter <= years:\n",
    "    accrued_interest = account * interest_rate\n",
    "    account += accrued_interest\n",
    "    print(f\"year {counter}: {account}\")\n",
    "    counter += 1    "
   ]
  },
  {
   "cell_type": "code",
   "execution_count": 1,
   "metadata": {},
   "outputs": [
    {
     "name": "stdout",
     "output_type": "stream",
     "text": [
      "www.homeflix.com/signup/coupon/50/0\n",
      "www.homeflix.com/signup/coupon/50/1\n",
      "www.homeflix.com/signup/coupon/50/2\n",
      "www.homeflix.com/signup/coupon/50/3\n",
      "4 coupons created\n"
     ]
    }
   ],
   "source": [
    "#print web usl / coupon link / 50 / 0 (do this 4 times) for 4 coupons created\n",
    "base = \"www.homeflix.com\"\n",
    "coupon = \"signup/coupon\"\n",
    "discount = 50\n",
    "amount = 4\n",
    "\n",
    "for num in range(amount):\n",
    "    print(f\"{base}/{coupon}/{discount}/{num}\")\n",
    "\n",
    "print(f\"{amount} coupons created\")"
   ]
  },
  {
   "cell_type": "code",
   "execution_count": 2,
   "metadata": {},
   "outputs": [
    {
     "name": "stdout",
     "output_type": "stream",
     "text": [
      "new flavours:\n",
      "['cinamon', 'pumpkin', 'apple', 'pie']\n",
      "consumer ratings:\n",
      "[4, 2.5, 3]\n",
      "release:\n",
      "[True, False, True]\n"
     ]
    }
   ],
   "source": [
    "#new flavours then list al flavours, consumer ratings ans list all ratings, etc.\n",
    "flavours = [\"cinamon\", \"pumpkin\", \"apple\", \"pie\"]\n",
    "print(\"new flavours:\")\n",
    "print(flavours)\n",
    "\n",
    "ratings = [4, 2.5, 3]\n",
    "print(\"consumer ratings:\")\n",
    "print(ratings)\n",
    "\n",
    "passed = [True, False, True]\n",
    "print(\"release:\")\n",
    "print(passed)"
   ]
  },
  {
   "cell_type": "code",
   "execution_count": 6,
   "metadata": {},
   "outputs": [
    {
     "name": "stdout",
     "output_type": "stream",
     "text": [
      "latest value:\n",
      "310\n",
      "highest value:\n",
      "310\n",
      "lowest value\n",
      "289.23\n"
     ]
    }
   ],
   "source": [
    "#change 1st and 2nd value in apple_stocks list to 310 and print them and then print 289.23\n",
    "apple_stocks = [298.18, 304.18, 289.23]\n",
    "\n",
    "apple_stocks[0] = 310\n",
    "print(\"latest value:\")\n",
    "print(apple_stocks[0])\n",
    "\n",
    "apple_stocks[1] = 310\n",
    "print(\"highest value:\")\n",
    "print(apple_stocks[1])\n",
    "\n",
    "print(\"lowest value\")\n",
    "print(apple_stocks[2])"
   ]
  },
  {
   "cell_type": "code",
   "execution_count": 7,
   "metadata": {},
   "outputs": [
    {
     "name": "stdout",
     "output_type": "stream",
     "text": [
      "highest score: 100\n"
     ]
    }
   ],
   "source": [
    "#12 is highest for every number in user scores if its greater than 12 it is highest so 42 will be highest but then becomes 55 then 100\n",
    "# so 100 will be highest\n",
    "user_scores = [12, 42, 55, 100, 11, 22]\n",
    "highest = user_scores[0]\n",
    "\n",
    "for score in user_scores:\n",
    "    if score > highest:\n",
    "        highest = score\n",
    "\n",
    "print(f\"highest score: {highest}\")\n"
   ]
  },
  {
   "cell_type": "code",
   "execution_count": 13,
   "metadata": {},
   "outputs": [
    {
     "name": "stdout",
     "output_type": "stream",
     "text": [
      "[90, 87, 83, 89, 88, 87]\n",
      "[90, 87, 83, 89, 88]\n",
      "[90, 87, 83, 89, 88, 92]\n",
      "[90, 87, 83, 89, 66, 88, 92]\n",
      "[90, 87, 83, 89, 66, 88]\n"
     ]
    }
   ],
   "source": [
    "#inserts 90 at the beggining of the list then pop removes last entry\n",
    "humidity_level = [87, 83, 89, 88, 87]\n",
    "\n",
    "humidity_level.insert(0,90) #inserts replaces value at (nth, xx) placement\n",
    "print(humidity_level)\n",
    "\n",
    "humidity_level.pop() #deletes last value in list\n",
    "print(humidity_level)\n",
    "\n",
    "humidity_level.append(92) #append adds value at end of list\n",
    "print(humidity_level)\n",
    "\n",
    "humidity_level.insert(4,66) #inserts replaces value at (nth, xx) placement\n",
    "print(humidity_level)\n",
    "\n",
    "humidity_level.pop(6) #deletes selected value in list\n",
    "print(humidity_level)"
   ]
  },
  {
   "cell_type": "code",
   "execution_count": 11,
   "metadata": {},
   "outputs": [
    {
     "name": "stdout",
     "output_type": "stream",
     "text": [
      "largest lake in sq mi:\n",
      "31700\n",
      "10th largest lake in sq mi:\n",
      "685\n",
      "difference between lakes in sq mi:\n",
      "31015\n"
     ]
    }
   ],
   "source": [
    "sizes = [7340, 2117, 22300, 31700, 1679, 1014, 23000, 9910, 685]\n",
    "\n",
    "largest = max(sizes)\n",
    "\n",
    "print(\"largest lake in sq mi:\")\n",
    "print(largest)\n",
    "\n",
    "smallest = min(sizes)\n",
    "\n",
    "print(\"9th largest lake in sq mi:\")\n",
    "print(smallest)\n",
    "\n",
    "difference = largest - smallest\n",
    "print(\"difference between lakes in sq mi:\")\n",
    "print(difference)"
   ]
  },
  {
   "cell_type": "code",
   "execution_count": 12,
   "metadata": {},
   "outputs": [
    {
     "name": "stdout",
     "output_type": "stream",
     "text": [
      "ariah\n",
      "visit counter:\n",
      "4\n"
     ]
    }
   ],
   "source": [
    "#sorts customer in alphabetical order in the list, sorts counter from smallest first, prints ariah visit counter 4 \n",
    "customers = [\"felip\", \"miranda\", \"ariah\", \"lawrence\", \"shahid\"]\n",
    "free_counters = [11,20,14,6,4]\n",
    "customers.sort()\n",
    "free_counters.sort()\n",
    "customer = customers[0] #indexing in python starts at 0 for first value in the list\n",
    "counter = free_counters[0]\n",
    "\n",
    "print(customer)\n",
    "print(\"visit counter:\")\n",
    "print(counter)"
   ]
  },
  {
   "cell_type": "code",
   "execution_count": 14,
   "metadata": {},
   "outputs": [
    {
     "name": "stdout",
     "output_type": "stream",
     "text": [
      "game on!\n",
      "rounds left: 3\n"
     ]
    }
   ],
   "source": [
    "#size of both teams are same = 3, prints game on, rounds left, 3\n",
    "team_1 = [\"mia\", \"lisa\", \"liam\"]\n",
    "team_2 = [\"james\", \"ty\" ,\"ava\"]\n",
    "\n",
    "size_1 = len(team_1)\n",
    "size_2 = len(team_2)\n",
    "\n",
    "if size_1 != size_2:\n",
    "    print(\"teams must be the same size\")\n",
    "else:\n",
    "    print(\"game on!\")\n",
    "\n",
    "if size_1 ==3:\n",
    "    print(\"rounds left: 3\")\n",
    "elif size_1 ==2:\n",
    "    print(\"rounds left: 2\")\n",
    "else:    \n",
    "    print(\"final round!\")"
   ]
  },
  {
   "cell_type": "code",
   "execution_count": 1,
   "metadata": {},
   "outputs": [
    {
     "name": "stdout",
     "output_type": "stream",
     "text": [
      "five star ratings:\n",
      "4\n",
      "one star ratings:\n",
      "3\n"
     ]
    }
   ],
   "source": [
    "#count the number of 5 and 1 star ratings and create a new list for this in amount as amounts, print these\n",
    "ratings = [5,5,3,1,1,1,4,5,3,5]\n",
    "five_star = ratings.count(5)\n",
    "one_star = ratings.count(1)\n",
    "amounts = [five_star, one_star]\n",
    "print(\"five star ratings:\")\n",
    "print(amounts[0])\n",
    "print(\"one star ratings:\")\n",
    "print(amounts[1])"
   ]
  },
  {
   "cell_type": "code",
   "execution_count": 1,
   "metadata": {},
   "outputs": [
    {
     "name": "stdout",
     "output_type": "stream",
     "text": [
      "74 webcams in stock\n",
      "18 customer orders\n",
      "56 available\n"
     ]
    }
   ],
   "source": [
    "#74 wbecams in stock, 18 customer orders 56 available\n",
    "stock = 74\n",
    "item = \"webcams\"\n",
    "orders = 18\n",
    "\n",
    "print(f\"{stock} {item} in stock\")\n",
    "\n",
    "print(f\"{orders} customer orders\")\n",
    "\n",
    "print(f\"{stock - orders} available\")"
   ]
  },
  {
   "cell_type": "code",
   "execution_count": 2,
   "metadata": {},
   "outputs": [
    {
     "name": "stdout",
     "output_type": "stream",
     "text": [
      "Tip: 3.0\n",
      "Tax: 1.34\n",
      "Total: 24.34\n"
     ]
    }
   ],
   "source": [
    "bill = 20\n",
    "tip_percentage = 0.15\n",
    "tax_percentage = 0.067\n",
    "\n",
    "tip = bill * tip_percentage\n",
    "print(f\"Tip: {tip}\")\n",
    "\n",
    "tax = bill * tax_percentage\n",
    "print(f\"Tax: {tax}\")\n",
    "\n",
    "total = bill + tip + tax\n",
    "print(f\"Total: {total}\")"
   ]
  },
  {
   "cell_type": "code",
   "execution_count": 5,
   "metadata": {},
   "outputs": [
    {
     "name": "stdout",
     "output_type": "stream",
     "text": [
      "Game on!\n",
      "player 1: Sam\n",
      "player 2: Alex\n",
      "--------------------------\n",
      "Round 1!\n",
      "Alex wins with 13 to 10\n",
      "--------------------------\n",
      "Round 2!\n",
      "Sam defeats Alex by 15 points\n"
     ]
    }
   ],
   "source": [
    "# game on player 1 sam, player 2 alex, round 1 alex wins with 13 to 10, round 2 sam defeats alex by 15 points\n",
    "player_1 = \"Sam\"\n",
    "player_2 = \"Alex\"\n",
    "current_round = 1\n",
    "\n",
    "print(\"Game on!\")\n",
    "print(f\"player 1: {player_1}\")\n",
    "print(f\"player 2: {player_2}\")\n",
    "print(\"--------------------------\") \n",
    "\n",
    "print(f\"Round {current_round}!\")\n",
    "player_1_score = 10\n",
    "player_2_score = 13\n",
    "print(f\"{player_2} wins with {player_2_score} to {player_1_score}\")\n",
    "print(\"--------------------------\") \n",
    "\n",
    "print(f\"Round {current_round + 1}!\")\n",
    "player_1_score = 20\n",
    "player_2_score = 5\n",
    "print(f\"{player_1} defeats {player_2} by {player_1_score - player_2_score} points\")"
   ]
  },
  {
   "cell_type": "code",
   "execution_count": 6,
   "metadata": {},
   "outputs": [
    {
     "name": "stdout",
     "output_type": "stream",
     "text": [
      "['tatgctttcc', 'tataggtctg', 'ctattcaatg']\n",
      "DNA: tatgctttcc -> RNA: uaugcuuucc\n",
      "DNA: tataggtctg -> RNA: uauaggucug\n",
      "DNA: ctattcaatg -> RNA: cuauucaaug\n"
     ]
    }
   ],
   "source": [
    "# splitting strings using variable name.split and replacing using .replace\n",
    "sequences = \"tatgctttcc#tataggtctg#ctattcaatg\"\n",
    "dna_list = sequences.split(\"#\") # split seperates text whenever there is a # \n",
    "print(dna_list)\n",
    "\n",
    "for dna in dna_list:\n",
    "  rna = dna.replace(\"t\", \"u\") # replace all the t's with u's\n",
    "  print(\"DNA: \" + dna + \" -> \" + \"RNA: \" + rna) #print dna which is the split string lists int he first part then print rna whihc is replpacing the t's with the u's"
   ]
  },
  {
   "cell_type": "code",
   "execution_count": 7,
   "metadata": {},
   "outputs": [
    {
     "name": "stdout",
     "output_type": "stream",
     "text": [
      "Alice Bentall, 20\n"
     ]
    }
   ],
   "source": [
    "# there is a name in name_box hence True so Alice Bentall \n",
    "# age is an integer (real number), student is false, turn subscription into float, marketing is false\n",
    "# profile is Alice Bentall, 20\n",
    "name_box = \"Alice Bentall\" \n",
    "age_box = \"20\"\n",
    "uni_box = \"\"\n",
    "subs_box = \"1.99\"\n",
    "mkt_box = \"0\"\n",
    "# all these are strings ^^^\n",
    "name_entered = bool(name_box)\n",
    "if name_entered:\n",
    " name = name_box\n",
    "else:\n",
    " name = \"Unknown\"\n",
    "\n",
    "age = int(age_box)\n",
    "student = bool(uni_box)\n",
    "subscription = float(subs_box)\n",
    "marketing = bool(int(mkt_box))\n",
    "\n",
    "profile = name + ', ' + str(age)\n",
    "print(profile)"
   ]
  },
  {
   "cell_type": "code",
   "execution_count": 8,
   "metadata": {},
   "outputs": [
    {
     "name": "stdout",
     "output_type": "stream",
     "text": [
      "Initial code: 1 2 2 5 0\n",
      "Morse code: .---- ..--- ..--- 5 0\n"
     ]
    }
   ],
   "source": [
    "# def = function which converts 1,2,3 to .----, ..---, ...-- respectively\n",
    "# prints 1 2 2 5 0 to .---- ..--- ..--- 5 0 \n",
    "\n",
    "def convert_to_morse(code): #defined code = lock_code\n",
    "  code = code.replace(\"1\", \".----\") # replace 1 with .----\n",
    "  code = code.replace(\"2\", \"..---\")\n",
    "  code = code.replace(\"3\", \"...--\")\n",
    "  return code\n",
    "\n",
    "lock_code = \"1 2 2 5 0\" #this is the input to the function (what we're testing)\n",
    "\n",
    "print(f\"Initial code: {lock_code}\")\n",
    "morse = convert_to_morse(lock_code)\n",
    "print(f\"Morse code: {morse}\")"
   ]
  },
  {
   "cell_type": "code",
   "execution_count": 9,
   "metadata": {},
   "outputs": [
    {
     "name": "stdout",
     "output_type": "stream",
     "text": [
      "Splitting the $36 fare between 3 passengers...\n",
      "Adding a $0.5 feature cost...\n",
      "Each pays: $12.5\n"
     ]
    }
   ],
   "source": [
    "# define a function that splits the fare based on the fare price, passengers and feature cost\n",
    "# splitting the $36 fare between 3 passengers adding a $0.5 feature cost, each pays $12.5 \n",
    "def split_fare(fare, passengers, feature_cost): # defined fare = fare_cost, passengers = passengers, feature_cost = feature_cost\n",
    "  \n",
    "  share = fare/passengers\n",
    "  print(f\"Splitting the ${fare_cost} fare between {passengers} passengers...\")\n",
    "\n",
    "  shared_cost = share + feature_cost\n",
    "  print(f\"Adding a ${feature_cost} feature cost...\")\n",
    "  return shared_cost\n",
    "\n",
    "\n",
    "fare_cost = 36\n",
    "passengers = 3\n",
    "feature_cost = 0.5\n",
    "\n",
    "shared_cost = split_fare(fare_cost, passengers, feature_cost)\n",
    "  \n",
    "print(f\"Each pays: ${shared_cost}\")"
   ]
  },
  {
   "cell_type": "code",
   "execution_count": 10,
   "metadata": {},
   "outputs": [
    {
     "name": "stdout",
     "output_type": "stream",
     "text": [
      "5 * 10 = 50\n"
     ]
    }
   ],
   "source": [
    "# define a function that says if op = + then add num, if op = - then minus num, if op = * then times num\n",
    "# print 5*10=50\n",
    "        \n",
    "def calculator(num_1, num_2, op): # num_1 = 5, num_2 = 10, op = * (multiply)\n",
    "  result = 0\n",
    "\n",
    "  if op == \"+\":\n",
    "    result = num_1 + num_2\n",
    "\n",
    "  elif op == \"-\":\n",
    "    result = num_1 - num_2\n",
    "\n",
    "  elif op == \"*\":\n",
    "    result = num_1 * num_2\n",
    "\n",
    "  print(f\"{num_1} {op} {num_2} = {result}\")\n",
    "\n",
    "calculator(5, 10, \"*\")"
   ]
  },
  {
   "cell_type": "code",
   "execution_count": 11,
   "metadata": {},
   "outputs": [
    {
     "name": "stdout",
     "output_type": "stream",
     "text": [
      "Alex is a common friend: True\n"
     ]
    }
   ],
   "source": [
    "# define a function that identifies if may has common friends with joe and count them so this is 1 (Alex) so True\n",
    "# next arguement is True as Alex is found in joe friends\n",
    "# is common is True as Alex is in both may and joe\n",
    "# returns is common\n",
    "# alex is a common friend True\n",
    "\n",
    "def is_common_friend(user, friends_a, friends_b): # user = friends_joe, friends_a = friends_may, friends_b = common_alex\n",
    "\n",
    "  is_friend_a = friends_a.count(user) >= 1\n",
    "  is_friend_b = friends_b.count(user) >= 1\n",
    "\n",
    "  is_common = is_friend_a & is_friend_b # True\n",
    "\n",
    "  return is_common\n",
    "\n",
    "friends_joe = [\"Sam\", \"Alex\", \"Zoe\"]\n",
    "friends_may = [\"Kim\", \"Alex\", \"Cy\", \"Ted\"]\n",
    "common_alex = is_common_friend(\"Alex\", friends_joe, friends_may)\n",
    "print(f\"Alex is a common friend: {common_alex}\")"
   ]
  },
  {
   "cell_type": "code",
   "execution_count": 12,
   "metadata": {},
   "outputs": [
    {
     "name": "stdout",
     "output_type": "stream",
     "text": [
      "Monday's schedule: ['Algebra: 9a.m.', 'History: 11a.m.', 'Biology: 1p.m.', 'Swimming: 3p.m.']\n"
     ]
    }
   ],
   "source": [
    "# function that creates an empty schedule list and for each iteration adds the classes in order of times\n",
    "# so Algebra : 9am, Hisotry: 11am etc...\n",
    "# prints Monday schedule: all these options..\n",
    "\n",
    "def schedule_classes(classes, times): # classes = classes, times = times\n",
    "  schedule = []\n",
    "\n",
    "  index = 0\n",
    "  while index < len(classes):\n",
    "    scheduled_class = classes[index] + \": \" + times[index]\n",
    "    schedule.append(scheduled_class) # appends scheduled class so adds another lesson and time\n",
    "    index += 1\n",
    "\n",
    "  return schedule\n",
    "\n",
    "classes = [\"Algebra\", \"History\", \"Biology\", \"Swimming\"]\n",
    "times = [\"9a.m.\", \"11a.m.\", \"1p.m.\", \"3p.m.\"]\n",
    "schedule = schedule_classes(classes, times)\n",
    "print(f\"Monday's schedule: {schedule}\")"
   ]
  },
  {
   "cell_type": "code",
   "execution_count": null,
   "metadata": {},
   "outputs": [],
   "source": []
  },
  {
   "cell_type": "code",
   "execution_count": null,
   "metadata": {},
   "outputs": [],
   "source": []
  },
  {
   "cell_type": "code",
   "execution_count": null,
   "metadata": {},
   "outputs": [],
   "source": []
  },
  {
   "cell_type": "code",
   "execution_count": null,
   "metadata": {},
   "outputs": [],
   "source": []
  }
 ],
 "metadata": {
  "kernelspec": {
   "display_name": "Python 3",
   "language": "python",
   "name": "python3"
  },
  "language_info": {
   "codemirror_mode": {
    "name": "ipython",
    "version": 3
   },
   "file_extension": ".py",
   "mimetype": "text/x-python",
   "name": "python",
   "nbconvert_exporter": "python",
   "pygments_lexer": "ipython3",
   "version": "3.8.5"
  }
 },
 "nbformat": 4,
 "nbformat_minor": 4
}
